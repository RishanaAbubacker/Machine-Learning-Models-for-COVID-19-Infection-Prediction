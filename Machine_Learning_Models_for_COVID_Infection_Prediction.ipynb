{
  "nbformat": 4,
  "nbformat_minor": 0,
  "metadata": {
    "colab": {
      "name": "Machine_Learning_Models_for_COVID_Infection_Prediction.ipynb",
      "provenance": [],
      "collapsed_sections": []
    },
    "kernelspec": {
      "display_name": "Python 3",
      "name": "python3"
    },
    "language_info": {
      "name": "python"
    }
  },
  "cells": [
    {
      "cell_type": "markdown",
      "metadata": {
        "id": "dPY89aQp_dzj"
      },
      "source": [
        "# **I. Analytic Libraries**"
      ]
    },
    {
      "cell_type": "markdown",
      "metadata": {
        "id": "v2Bh57VoUKPZ"
      },
      "source": [
        "**Importing the Libraries**"
      ]
    },
    {
      "cell_type": "code",
      "metadata": {
        "id": "TyO8I0j9DOlo"
      },
      "source": [
        "# Analysis Tools\n",
        "import numpy as np\n",
        "import pandas as pd\n",
        "\n",
        "# Visualization Tools\n",
        "import seaborn as sns\n",
        "import matplotlib.pyplot as plt"
      ],
      "execution_count": null,
      "outputs": []
    },
    {
      "cell_type": "markdown",
      "metadata": {
        "id": "gOZxENxrAUB9"
      },
      "source": [
        "# **II. Dataset**"
      ]
    },
    {
      "cell_type": "markdown",
      "metadata": {
        "id": "ak3-My3SgkN8"
      },
      "source": [
        "**A. Mounting Drive**"
      ]
    },
    {
      "cell_type": "code",
      "metadata": {
        "colab": {
          "base_uri": "https://localhost:8080/"
        },
        "id": "NunhfJoG2ZhD",
        "outputId": "bdc8cc2d-c242-42f0-cd71-58a7566f92db"
      },
      "source": [
        "from google.colab import drive\n",
        "drive.mount('/content/drive')"
      ],
      "execution_count": null,
      "outputs": [
        {
          "output_type": "stream",
          "text": [
            "Drive already mounted at /content/drive; to attempt to forcibly remount, call drive.mount(\"/content/drive\", force_remount=True).\n"
          ],
          "name": "stdout"
        }
      ]
    },
    {
      "cell_type": "markdown",
      "metadata": {
        "id": "tjRMRn8_UQXJ"
      },
      "source": [
        "**B. Loading the Dataset**"
      ]
    },
    {
      "cell_type": "code",
      "metadata": {
        "id": "7-sKfrpGSSVg"
      },
      "source": [
        "data=pd.read_csv('/content/drive/MyDrive/COVID-19 Dataset.csv')"
      ],
      "execution_count": null,
      "outputs": []
    },
    {
      "cell_type": "markdown",
      "metadata": {
        "id": "HYVosxkZUVXS"
      },
      "source": [
        "**c. Exploratory Data Analysis**"
      ]
    },
    {
      "cell_type": "code",
      "metadata": {
        "colab": {
          "base_uri": "https://localhost:8080/",
          "height": 312
        },
        "id": "pDFGt5_KSg_x",
        "outputId": "e41b3cae-f8e8-4c91-bf4f-bf62187866e2"
      },
      "source": [
        "# Displayng first 5 rows\n",
        "data.head()"
      ],
      "execution_count": null,
      "outputs": [
        {
          "output_type": "execute_result",
          "data": {
            "text/html": [
              "<div>\n",
              "<style scoped>\n",
              "    .dataframe tbody tr th:only-of-type {\n",
              "        vertical-align: middle;\n",
              "    }\n",
              "\n",
              "    .dataframe tbody tr th {\n",
              "        vertical-align: top;\n",
              "    }\n",
              "\n",
              "    .dataframe thead th {\n",
              "        text-align: right;\n",
              "    }\n",
              "</style>\n",
              "<table border=\"1\" class=\"dataframe\">\n",
              "  <thead>\n",
              "    <tr style=\"text-align: right;\">\n",
              "      <th></th>\n",
              "      <th>id</th>\n",
              "      <th>sex</th>\n",
              "      <th>patient_type</th>\n",
              "      <th>entry_date</th>\n",
              "      <th>date_symptoms</th>\n",
              "      <th>date_died</th>\n",
              "      <th>intubed</th>\n",
              "      <th>pneumonia</th>\n",
              "      <th>age</th>\n",
              "      <th>pregnancy</th>\n",
              "      <th>diabetes</th>\n",
              "      <th>copd</th>\n",
              "      <th>asthma</th>\n",
              "      <th>inmsupr</th>\n",
              "      <th>hypertension</th>\n",
              "      <th>other_disease</th>\n",
              "      <th>cardiovascular</th>\n",
              "      <th>obesity</th>\n",
              "      <th>renal_chronic</th>\n",
              "      <th>tobacco</th>\n",
              "      <th>contact_other_covid</th>\n",
              "      <th>covid_res</th>\n",
              "      <th>icu</th>\n",
              "    </tr>\n",
              "  </thead>\n",
              "  <tbody>\n",
              "    <tr>\n",
              "      <th>0</th>\n",
              "      <td>16169f</td>\n",
              "      <td>2</td>\n",
              "      <td>1</td>\n",
              "      <td>04-05-2020</td>\n",
              "      <td>02-05-2020</td>\n",
              "      <td>9999-99-99</td>\n",
              "      <td>97</td>\n",
              "      <td>2</td>\n",
              "      <td>27</td>\n",
              "      <td>97</td>\n",
              "      <td>2</td>\n",
              "      <td>2</td>\n",
              "      <td>2</td>\n",
              "      <td>2</td>\n",
              "      <td>2</td>\n",
              "      <td>2</td>\n",
              "      <td>2</td>\n",
              "      <td>2</td>\n",
              "      <td>2</td>\n",
              "      <td>2</td>\n",
              "      <td>2</td>\n",
              "      <td>1</td>\n",
              "      <td>97</td>\n",
              "    </tr>\n",
              "    <tr>\n",
              "      <th>1</th>\n",
              "      <td>1009bf</td>\n",
              "      <td>2</td>\n",
              "      <td>1</td>\n",
              "      <td>19-03-2020</td>\n",
              "      <td>17-03-2020</td>\n",
              "      <td>9999-99-99</td>\n",
              "      <td>97</td>\n",
              "      <td>2</td>\n",
              "      <td>24</td>\n",
              "      <td>97</td>\n",
              "      <td>2</td>\n",
              "      <td>2</td>\n",
              "      <td>2</td>\n",
              "      <td>2</td>\n",
              "      <td>2</td>\n",
              "      <td>2</td>\n",
              "      <td>2</td>\n",
              "      <td>2</td>\n",
              "      <td>2</td>\n",
              "      <td>2</td>\n",
              "      <td>99</td>\n",
              "      <td>1</td>\n",
              "      <td>97</td>\n",
              "    </tr>\n",
              "    <tr>\n",
              "      <th>2</th>\n",
              "      <td>167386</td>\n",
              "      <td>1</td>\n",
              "      <td>2</td>\n",
              "      <td>06-04-2020</td>\n",
              "      <td>01-04-2020</td>\n",
              "      <td>9999-99-99</td>\n",
              "      <td>2</td>\n",
              "      <td>2</td>\n",
              "      <td>54</td>\n",
              "      <td>2</td>\n",
              "      <td>2</td>\n",
              "      <td>2</td>\n",
              "      <td>2</td>\n",
              "      <td>2</td>\n",
              "      <td>2</td>\n",
              "      <td>2</td>\n",
              "      <td>2</td>\n",
              "      <td>1</td>\n",
              "      <td>2</td>\n",
              "      <td>2</td>\n",
              "      <td>99</td>\n",
              "      <td>1</td>\n",
              "      <td>2</td>\n",
              "    </tr>\n",
              "    <tr>\n",
              "      <th>3</th>\n",
              "      <td>0b5948</td>\n",
              "      <td>2</td>\n",
              "      <td>2</td>\n",
              "      <td>17-04-2020</td>\n",
              "      <td>10-04-2020</td>\n",
              "      <td>9999-99-99</td>\n",
              "      <td>2</td>\n",
              "      <td>1</td>\n",
              "      <td>30</td>\n",
              "      <td>97</td>\n",
              "      <td>2</td>\n",
              "      <td>2</td>\n",
              "      <td>2</td>\n",
              "      <td>2</td>\n",
              "      <td>2</td>\n",
              "      <td>2</td>\n",
              "      <td>2</td>\n",
              "      <td>2</td>\n",
              "      <td>2</td>\n",
              "      <td>2</td>\n",
              "      <td>99</td>\n",
              "      <td>1</td>\n",
              "      <td>2</td>\n",
              "    </tr>\n",
              "    <tr>\n",
              "      <th>4</th>\n",
              "      <td>0d01b5</td>\n",
              "      <td>1</td>\n",
              "      <td>2</td>\n",
              "      <td>13-04-2020</td>\n",
              "      <td>13-04-2020</td>\n",
              "      <td>22-04-2020</td>\n",
              "      <td>2</td>\n",
              "      <td>2</td>\n",
              "      <td>60</td>\n",
              "      <td>2</td>\n",
              "      <td>1</td>\n",
              "      <td>2</td>\n",
              "      <td>2</td>\n",
              "      <td>2</td>\n",
              "      <td>1</td>\n",
              "      <td>2</td>\n",
              "      <td>1</td>\n",
              "      <td>2</td>\n",
              "      <td>2</td>\n",
              "      <td>2</td>\n",
              "      <td>99</td>\n",
              "      <td>1</td>\n",
              "      <td>2</td>\n",
              "    </tr>\n",
              "  </tbody>\n",
              "</table>\n",
              "</div>"
            ],
            "text/plain": [
              "       id  sex  patient_type  ... contact_other_covid covid_res icu\n",
              "0  16169f    2             1  ...                   2         1  97\n",
              "1  1009bf    2             1  ...                  99         1  97\n",
              "2  167386    1             2  ...                  99         1   2\n",
              "3  0b5948    2             2  ...                  99         1   2\n",
              "4  0d01b5    1             2  ...                  99         1   2\n",
              "\n",
              "[5 rows x 23 columns]"
            ]
          },
          "metadata": {
            "tags": []
          },
          "execution_count": 4
        }
      ]
    },
    {
      "cell_type": "code",
      "metadata": {
        "colab": {
          "base_uri": "https://localhost:8080/",
          "height": 312
        },
        "id": "TykI-qTcS02x",
        "outputId": "ad5c9901-7ce1-4232-eb2a-c7391261a1f2"
      },
      "source": [
        "# Displayng last 5 rows\n",
        "data.tail()"
      ],
      "execution_count": null,
      "outputs": [
        {
          "output_type": "execute_result",
          "data": {
            "text/html": [
              "<div>\n",
              "<style scoped>\n",
              "    .dataframe tbody tr th:only-of-type {\n",
              "        vertical-align: middle;\n",
              "    }\n",
              "\n",
              "    .dataframe tbody tr th {\n",
              "        vertical-align: top;\n",
              "    }\n",
              "\n",
              "    .dataframe thead th {\n",
              "        text-align: right;\n",
              "    }\n",
              "</style>\n",
              "<table border=\"1\" class=\"dataframe\">\n",
              "  <thead>\n",
              "    <tr style=\"text-align: right;\">\n",
              "      <th></th>\n",
              "      <th>id</th>\n",
              "      <th>sex</th>\n",
              "      <th>patient_type</th>\n",
              "      <th>entry_date</th>\n",
              "      <th>date_symptoms</th>\n",
              "      <th>date_died</th>\n",
              "      <th>intubed</th>\n",
              "      <th>pneumonia</th>\n",
              "      <th>age</th>\n",
              "      <th>pregnancy</th>\n",
              "      <th>diabetes</th>\n",
              "      <th>copd</th>\n",
              "      <th>asthma</th>\n",
              "      <th>inmsupr</th>\n",
              "      <th>hypertension</th>\n",
              "      <th>other_disease</th>\n",
              "      <th>cardiovascular</th>\n",
              "      <th>obesity</th>\n",
              "      <th>renal_chronic</th>\n",
              "      <th>tobacco</th>\n",
              "      <th>contact_other_covid</th>\n",
              "      <th>covid_res</th>\n",
              "      <th>icu</th>\n",
              "    </tr>\n",
              "  </thead>\n",
              "  <tbody>\n",
              "    <tr>\n",
              "      <th>566597</th>\n",
              "      <td>01ff60</td>\n",
              "      <td>2</td>\n",
              "      <td>1</td>\n",
              "      <td>13-05-2020</td>\n",
              "      <td>03-05-2020</td>\n",
              "      <td>9999-99-99</td>\n",
              "      <td>97</td>\n",
              "      <td>2</td>\n",
              "      <td>58</td>\n",
              "      <td>97</td>\n",
              "      <td>1</td>\n",
              "      <td>2</td>\n",
              "      <td>2</td>\n",
              "      <td>2</td>\n",
              "      <td>2</td>\n",
              "      <td>2</td>\n",
              "      <td>2</td>\n",
              "      <td>2</td>\n",
              "      <td>2</td>\n",
              "      <td>2</td>\n",
              "      <td>2</td>\n",
              "      <td>3</td>\n",
              "      <td>97</td>\n",
              "    </tr>\n",
              "    <tr>\n",
              "      <th>566598</th>\n",
              "      <td>047cd1</td>\n",
              "      <td>1</td>\n",
              "      <td>1</td>\n",
              "      <td>07-04-2020</td>\n",
              "      <td>06-04-2020</td>\n",
              "      <td>9999-99-99</td>\n",
              "      <td>97</td>\n",
              "      <td>2</td>\n",
              "      <td>48</td>\n",
              "      <td>2</td>\n",
              "      <td>2</td>\n",
              "      <td>2</td>\n",
              "      <td>2</td>\n",
              "      <td>2</td>\n",
              "      <td>2</td>\n",
              "      <td>2</td>\n",
              "      <td>2</td>\n",
              "      <td>2</td>\n",
              "      <td>2</td>\n",
              "      <td>2</td>\n",
              "      <td>2</td>\n",
              "      <td>3</td>\n",
              "      <td>97</td>\n",
              "    </tr>\n",
              "    <tr>\n",
              "      <th>566599</th>\n",
              "      <td>1beb81</td>\n",
              "      <td>1</td>\n",
              "      <td>2</td>\n",
              "      <td>14-05-2020</td>\n",
              "      <td>01-05-2020</td>\n",
              "      <td>9999-99-99</td>\n",
              "      <td>2</td>\n",
              "      <td>1</td>\n",
              "      <td>49</td>\n",
              "      <td>2</td>\n",
              "      <td>2</td>\n",
              "      <td>2</td>\n",
              "      <td>2</td>\n",
              "      <td>2</td>\n",
              "      <td>2</td>\n",
              "      <td>2</td>\n",
              "      <td>2</td>\n",
              "      <td>1</td>\n",
              "      <td>2</td>\n",
              "      <td>2</td>\n",
              "      <td>99</td>\n",
              "      <td>3</td>\n",
              "      <td>2</td>\n",
              "    </tr>\n",
              "    <tr>\n",
              "      <th>566600</th>\n",
              "      <td>16fb02</td>\n",
              "      <td>1</td>\n",
              "      <td>1</td>\n",
              "      <td>31-05-2020</td>\n",
              "      <td>29-05-2020</td>\n",
              "      <td>9999-99-99</td>\n",
              "      <td>97</td>\n",
              "      <td>1</td>\n",
              "      <td>43</td>\n",
              "      <td>2</td>\n",
              "      <td>2</td>\n",
              "      <td>2</td>\n",
              "      <td>2</td>\n",
              "      <td>2</td>\n",
              "      <td>2</td>\n",
              "      <td>2</td>\n",
              "      <td>2</td>\n",
              "      <td>2</td>\n",
              "      <td>2</td>\n",
              "      <td>2</td>\n",
              "      <td>2</td>\n",
              "      <td>3</td>\n",
              "      <td>97</td>\n",
              "    </tr>\n",
              "    <tr>\n",
              "      <th>566601</th>\n",
              "      <td>0021c9</td>\n",
              "      <td>2</td>\n",
              "      <td>1</td>\n",
              "      <td>16-05-2020</td>\n",
              "      <td>16-05-2020</td>\n",
              "      <td>9999-99-99</td>\n",
              "      <td>97</td>\n",
              "      <td>1</td>\n",
              "      <td>65</td>\n",
              "      <td>97</td>\n",
              "      <td>1</td>\n",
              "      <td>2</td>\n",
              "      <td>2</td>\n",
              "      <td>2</td>\n",
              "      <td>1</td>\n",
              "      <td>2</td>\n",
              "      <td>2</td>\n",
              "      <td>1</td>\n",
              "      <td>2</td>\n",
              "      <td>2</td>\n",
              "      <td>2</td>\n",
              "      <td>3</td>\n",
              "      <td>97</td>\n",
              "    </tr>\n",
              "  </tbody>\n",
              "</table>\n",
              "</div>"
            ],
            "text/plain": [
              "            id  sex  patient_type  ... contact_other_covid covid_res icu\n",
              "566597  01ff60    2             1  ...                   2         3  97\n",
              "566598  047cd1    1             1  ...                   2         3  97\n",
              "566599  1beb81    1             2  ...                  99         3   2\n",
              "566600  16fb02    1             1  ...                   2         3  97\n",
              "566601  0021c9    2             1  ...                   2         3  97\n",
              "\n",
              "[5 rows x 23 columns]"
            ]
          },
          "metadata": {
            "tags": []
          },
          "execution_count": 5
        }
      ]
    },
    {
      "cell_type": "code",
      "metadata": {
        "colab": {
          "base_uri": "https://localhost:8080/"
        },
        "id": "dxDzxZghSue8",
        "outputId": "9f3192c2-16ec-4127-c462-e51e39ec75c0"
      },
      "source": [
        "# Rows and columns\n",
        "data.shape"
      ],
      "execution_count": null,
      "outputs": [
        {
          "output_type": "execute_result",
          "data": {
            "text/plain": [
              "(566602, 23)"
            ]
          },
          "metadata": {
            "tags": []
          },
          "execution_count": 6
        }
      ]
    },
    {
      "cell_type": "code",
      "metadata": {
        "colab": {
          "base_uri": "https://localhost:8080/"
        },
        "id": "gSP8I-sqvoON",
        "outputId": "8658e6d3-ffeb-4c47-f39a-989dbaaac7f9"
      },
      "source": [
        "# Columns\n",
        "data.columns"
      ],
      "execution_count": null,
      "outputs": [
        {
          "output_type": "execute_result",
          "data": {
            "text/plain": [
              "Index(['id', 'sex', 'patient_type', 'entry_date', 'date_symptoms', 'date_died',\n",
              "       'intubed', 'pneumonia', 'age', 'pregnancy', 'diabetes', 'copd',\n",
              "       'asthma', 'inmsupr', 'hypertension', 'other_disease', 'cardiovascular',\n",
              "       'obesity', 'renal_chronic', 'tobacco', 'contact_other_covid',\n",
              "       'covid_res', 'icu'],\n",
              "      dtype='object')"
            ]
          },
          "metadata": {
            "tags": []
          },
          "execution_count": 7
        }
      ]
    },
    {
      "cell_type": "code",
      "metadata": {
        "colab": {
          "base_uri": "https://localhost:8080/"
        },
        "id": "RGH21DYzTDHl",
        "outputId": "79a0d999-48a7-4432-af67-aac3c1759c74"
      },
      "source": [
        "# More information\n",
        "data.info()"
      ],
      "execution_count": null,
      "outputs": [
        {
          "output_type": "stream",
          "text": [
            "<class 'pandas.core.frame.DataFrame'>\n",
            "RangeIndex: 566602 entries, 0 to 566601\n",
            "Data columns (total 23 columns):\n",
            " #   Column               Non-Null Count   Dtype \n",
            "---  ------               --------------   ----- \n",
            " 0   id                   566602 non-null  object\n",
            " 1   sex                  566602 non-null  int64 \n",
            " 2   patient_type         566602 non-null  int64 \n",
            " 3   entry_date           566602 non-null  object\n",
            " 4   date_symptoms        566602 non-null  object\n",
            " 5   date_died            566602 non-null  object\n",
            " 6   intubed              566602 non-null  int64 \n",
            " 7   pneumonia            566602 non-null  int64 \n",
            " 8   age                  566602 non-null  int64 \n",
            " 9   pregnancy            566602 non-null  int64 \n",
            " 10  diabetes             566602 non-null  int64 \n",
            " 11  copd                 566602 non-null  int64 \n",
            " 12  asthma               566602 non-null  int64 \n",
            " 13  inmsupr              566602 non-null  int64 \n",
            " 14  hypertension         566602 non-null  int64 \n",
            " 15  other_disease        566602 non-null  int64 \n",
            " 16  cardiovascular       566602 non-null  int64 \n",
            " 17  obesity              566602 non-null  int64 \n",
            " 18  renal_chronic        566602 non-null  int64 \n",
            " 19  tobacco              566602 non-null  int64 \n",
            " 20  contact_other_covid  566602 non-null  int64 \n",
            " 21  covid_res            566602 non-null  int64 \n",
            " 22  icu                  566602 non-null  int64 \n",
            "dtypes: int64(19), object(4)\n",
            "memory usage: 99.4+ MB\n"
          ],
          "name": "stdout"
        }
      ]
    },
    {
      "cell_type": "code",
      "metadata": {
        "colab": {
          "base_uri": "https://localhost:8080/"
        },
        "id": "NigCV6MJTVZQ",
        "outputId": "bb397c61-f786-4ff7-893a-1a9f79514856"
      },
      "source": [
        "# Datatypes\n",
        "data.dtypes"
      ],
      "execution_count": null,
      "outputs": [
        {
          "output_type": "execute_result",
          "data": {
            "text/plain": [
              "id                     object\n",
              "sex                     int64\n",
              "patient_type            int64\n",
              "entry_date             object\n",
              "date_symptoms          object\n",
              "date_died              object\n",
              "intubed                 int64\n",
              "pneumonia               int64\n",
              "age                     int64\n",
              "pregnancy               int64\n",
              "diabetes                int64\n",
              "copd                    int64\n",
              "asthma                  int64\n",
              "inmsupr                 int64\n",
              "hypertension            int64\n",
              "other_disease           int64\n",
              "cardiovascular          int64\n",
              "obesity                 int64\n",
              "renal_chronic           int64\n",
              "tobacco                 int64\n",
              "contact_other_covid     int64\n",
              "covid_res               int64\n",
              "icu                     int64\n",
              "dtype: object"
            ]
          },
          "metadata": {
            "tags": []
          },
          "execution_count": 9
        }
      ]
    },
    {
      "cell_type": "code",
      "metadata": {
        "colab": {
          "base_uri": "https://localhost:8080/",
          "height": 319
        },
        "id": "V9Cb9FGTUEf1",
        "outputId": "f63245b0-1cb9-40d4-fb13-2c5c81811509"
      },
      "source": [
        "# Descriptive statistics\n",
        "data.describe()"
      ],
      "execution_count": null,
      "outputs": [
        {
          "output_type": "execute_result",
          "data": {
            "text/html": [
              "<div>\n",
              "<style scoped>\n",
              "    .dataframe tbody tr th:only-of-type {\n",
              "        vertical-align: middle;\n",
              "    }\n",
              "\n",
              "    .dataframe tbody tr th {\n",
              "        vertical-align: top;\n",
              "    }\n",
              "\n",
              "    .dataframe thead th {\n",
              "        text-align: right;\n",
              "    }\n",
              "</style>\n",
              "<table border=\"1\" class=\"dataframe\">\n",
              "  <thead>\n",
              "    <tr style=\"text-align: right;\">\n",
              "      <th></th>\n",
              "      <th>sex</th>\n",
              "      <th>patient_type</th>\n",
              "      <th>intubed</th>\n",
              "      <th>pneumonia</th>\n",
              "      <th>age</th>\n",
              "      <th>pregnancy</th>\n",
              "      <th>diabetes</th>\n",
              "      <th>copd</th>\n",
              "      <th>asthma</th>\n",
              "      <th>inmsupr</th>\n",
              "      <th>hypertension</th>\n",
              "      <th>other_disease</th>\n",
              "      <th>cardiovascular</th>\n",
              "      <th>obesity</th>\n",
              "      <th>renal_chronic</th>\n",
              "      <th>tobacco</th>\n",
              "      <th>contact_other_covid</th>\n",
              "      <th>covid_res</th>\n",
              "      <th>icu</th>\n",
              "    </tr>\n",
              "  </thead>\n",
              "  <tbody>\n",
              "    <tr>\n",
              "      <th>count</th>\n",
              "      <td>566602.000000</td>\n",
              "      <td>566602.000000</td>\n",
              "      <td>566602.000000</td>\n",
              "      <td>566602.000000</td>\n",
              "      <td>566602.000000</td>\n",
              "      <td>566602.000000</td>\n",
              "      <td>566602.000000</td>\n",
              "      <td>566602.000000</td>\n",
              "      <td>566602.000000</td>\n",
              "      <td>566602.000000</td>\n",
              "      <td>566602.000000</td>\n",
              "      <td>566602.000000</td>\n",
              "      <td>566602.000000</td>\n",
              "      <td>566602.000000</td>\n",
              "      <td>566602.000000</td>\n",
              "      <td>566602.000000</td>\n",
              "      <td>566602.000000</td>\n",
              "      <td>566602.000000</td>\n",
              "      <td>566602.000000</td>\n",
              "    </tr>\n",
              "    <tr>\n",
              "      <th>mean</th>\n",
              "      <td>1.506726</td>\n",
              "      <td>1.215165</td>\n",
              "      <td>76.562952</td>\n",
              "      <td>1.846262</td>\n",
              "      <td>42.622483</td>\n",
              "      <td>50.400692</td>\n",
              "      <td>2.210633</td>\n",
              "      <td>2.280221</td>\n",
              "      <td>2.265029</td>\n",
              "      <td>2.319628</td>\n",
              "      <td>2.145774</td>\n",
              "      <td>2.410030</td>\n",
              "      <td>2.286157</td>\n",
              "      <td>2.138905</td>\n",
              "      <td>2.283765</td>\n",
              "      <td>2.238360</td>\n",
              "      <td>31.573034</td>\n",
              "      <td>1.728651</td>\n",
              "      <td>76.562864</td>\n",
              "    </tr>\n",
              "    <tr>\n",
              "      <th>std</th>\n",
              "      <td>0.499955</td>\n",
              "      <td>0.410937</td>\n",
              "      <td>39.058676</td>\n",
              "      <td>0.560939</td>\n",
              "      <td>16.659973</td>\n",
              "      <td>47.501579</td>\n",
              "      <td>5.683523</td>\n",
              "      <td>5.327832</td>\n",
              "      <td>5.334658</td>\n",
              "      <td>5.667381</td>\n",
              "      <td>5.459866</td>\n",
              "      <td>6.489959</td>\n",
              "      <td>5.438405</td>\n",
              "      <td>5.395578</td>\n",
              "      <td>5.393232</td>\n",
              "      <td>5.571901</td>\n",
              "      <td>45.082123</td>\n",
              "      <td>0.658710</td>\n",
              "      <td>39.059060</td>\n",
              "    </tr>\n",
              "    <tr>\n",
              "      <th>min</th>\n",
              "      <td>1.000000</td>\n",
              "      <td>1.000000</td>\n",
              "      <td>1.000000</td>\n",
              "      <td>1.000000</td>\n",
              "      <td>0.000000</td>\n",
              "      <td>1.000000</td>\n",
              "      <td>1.000000</td>\n",
              "      <td>1.000000</td>\n",
              "      <td>1.000000</td>\n",
              "      <td>1.000000</td>\n",
              "      <td>1.000000</td>\n",
              "      <td>1.000000</td>\n",
              "      <td>1.000000</td>\n",
              "      <td>1.000000</td>\n",
              "      <td>1.000000</td>\n",
              "      <td>1.000000</td>\n",
              "      <td>1.000000</td>\n",
              "      <td>1.000000</td>\n",
              "      <td>1.000000</td>\n",
              "    </tr>\n",
              "    <tr>\n",
              "      <th>25%</th>\n",
              "      <td>1.000000</td>\n",
              "      <td>1.000000</td>\n",
              "      <td>97.000000</td>\n",
              "      <td>2.000000</td>\n",
              "      <td>31.000000</td>\n",
              "      <td>2.000000</td>\n",
              "      <td>2.000000</td>\n",
              "      <td>2.000000</td>\n",
              "      <td>2.000000</td>\n",
              "      <td>2.000000</td>\n",
              "      <td>2.000000</td>\n",
              "      <td>2.000000</td>\n",
              "      <td>2.000000</td>\n",
              "      <td>2.000000</td>\n",
              "      <td>2.000000</td>\n",
              "      <td>2.000000</td>\n",
              "      <td>1.000000</td>\n",
              "      <td>1.000000</td>\n",
              "      <td>97.000000</td>\n",
              "    </tr>\n",
              "    <tr>\n",
              "      <th>50%</th>\n",
              "      <td>2.000000</td>\n",
              "      <td>1.000000</td>\n",
              "      <td>97.000000</td>\n",
              "      <td>2.000000</td>\n",
              "      <td>41.000000</td>\n",
              "      <td>97.000000</td>\n",
              "      <td>2.000000</td>\n",
              "      <td>2.000000</td>\n",
              "      <td>2.000000</td>\n",
              "      <td>2.000000</td>\n",
              "      <td>2.000000</td>\n",
              "      <td>2.000000</td>\n",
              "      <td>2.000000</td>\n",
              "      <td>2.000000</td>\n",
              "      <td>2.000000</td>\n",
              "      <td>2.000000</td>\n",
              "      <td>2.000000</td>\n",
              "      <td>2.000000</td>\n",
              "      <td>97.000000</td>\n",
              "    </tr>\n",
              "    <tr>\n",
              "      <th>75%</th>\n",
              "      <td>2.000000</td>\n",
              "      <td>1.000000</td>\n",
              "      <td>97.000000</td>\n",
              "      <td>2.000000</td>\n",
              "      <td>53.000000</td>\n",
              "      <td>97.000000</td>\n",
              "      <td>2.000000</td>\n",
              "      <td>2.000000</td>\n",
              "      <td>2.000000</td>\n",
              "      <td>2.000000</td>\n",
              "      <td>2.000000</td>\n",
              "      <td>2.000000</td>\n",
              "      <td>2.000000</td>\n",
              "      <td>2.000000</td>\n",
              "      <td>2.000000</td>\n",
              "      <td>2.000000</td>\n",
              "      <td>99.000000</td>\n",
              "      <td>2.000000</td>\n",
              "      <td>97.000000</td>\n",
              "    </tr>\n",
              "    <tr>\n",
              "      <th>max</th>\n",
              "      <td>2.000000</td>\n",
              "      <td>2.000000</td>\n",
              "      <td>99.000000</td>\n",
              "      <td>99.000000</td>\n",
              "      <td>120.000000</td>\n",
              "      <td>98.000000</td>\n",
              "      <td>98.000000</td>\n",
              "      <td>98.000000</td>\n",
              "      <td>98.000000</td>\n",
              "      <td>98.000000</td>\n",
              "      <td>98.000000</td>\n",
              "      <td>98.000000</td>\n",
              "      <td>98.000000</td>\n",
              "      <td>98.000000</td>\n",
              "      <td>98.000000</td>\n",
              "      <td>98.000000</td>\n",
              "      <td>99.000000</td>\n",
              "      <td>3.000000</td>\n",
              "      <td>99.000000</td>\n",
              "    </tr>\n",
              "  </tbody>\n",
              "</table>\n",
              "</div>"
            ],
            "text/plain": [
              "                 sex   patient_type  ...      covid_res            icu\n",
              "count  566602.000000  566602.000000  ...  566602.000000  566602.000000\n",
              "mean        1.506726       1.215165  ...       1.728651      76.562864\n",
              "std         0.499955       0.410937  ...       0.658710      39.059060\n",
              "min         1.000000       1.000000  ...       1.000000       1.000000\n",
              "25%         1.000000       1.000000  ...       1.000000      97.000000\n",
              "50%         2.000000       1.000000  ...       2.000000      97.000000\n",
              "75%         2.000000       1.000000  ...       2.000000      97.000000\n",
              "max         2.000000       2.000000  ...       3.000000      99.000000\n",
              "\n",
              "[8 rows x 19 columns]"
            ]
          },
          "metadata": {
            "tags": []
          },
          "execution_count": 10
        }
      ]
    },
    {
      "cell_type": "code",
      "metadata": {
        "id": "z4y9wzAEtkvq"
      },
      "source": [
        "col=['id', 'sex', 'patient_type', 'entry_date', 'date_symptoms', 'date_died',\n",
        "       'intubed', 'pneumonia', 'age', 'pregnancy', 'diabetes', 'copd',\n",
        "       'asthma', 'inmsupr', 'hypertension', 'other_disease', 'cardiovascular',\n",
        "       'obesity', 'renal_chronic', 'tobacco', 'contact_other_covid',\n",
        "       'covid_res', 'icu']"
      ],
      "execution_count": null,
      "outputs": []
    },
    {
      "cell_type": "code",
      "metadata": {
        "colab": {
          "base_uri": "https://localhost:8080/"
        },
        "id": "smBwYY0eqdt_",
        "outputId": "ded30670-74a0-4358-b850-a762838f0837"
      },
      "source": [
        "# Unique value count\n",
        "for i in data.columns:\n",
        "    print(i,':',data[i].nunique(),'\\n')"
      ],
      "execution_count": null,
      "outputs": [
        {
          "output_type": "stream",
          "text": [
            "id : 563201 \n",
            "\n",
            "sex : 2 \n",
            "\n",
            "patient_type : 2 \n",
            "\n",
            "entry_date : 181 \n",
            "\n",
            "date_symptoms : 181 \n",
            "\n",
            "date_died : 124 \n",
            "\n",
            "intubed : 4 \n",
            "\n",
            "pneumonia : 3 \n",
            "\n",
            "age : 120 \n",
            "\n",
            "pregnancy : 4 \n",
            "\n",
            "diabetes : 3 \n",
            "\n",
            "copd : 3 \n",
            "\n",
            "asthma : 3 \n",
            "\n",
            "inmsupr : 3 \n",
            "\n",
            "hypertension : 3 \n",
            "\n",
            "other_disease : 3 \n",
            "\n",
            "cardiovascular : 3 \n",
            "\n",
            "obesity : 3 \n",
            "\n",
            "renal_chronic : 3 \n",
            "\n",
            "tobacco : 3 \n",
            "\n",
            "contact_other_covid : 3 \n",
            "\n",
            "covid_res : 3 \n",
            "\n",
            "icu : 4 \n",
            "\n"
          ],
          "name": "stdout"
        }
      ]
    },
    {
      "cell_type": "code",
      "metadata": {
        "colab": {
          "base_uri": "https://localhost:8080/"
        },
        "id": "Fp-WKmlIqmTq",
        "outputId": "823457a4-4c11-402b-f553-5c2b6968621f"
      },
      "source": [
        "# Value counts for each feature\n",
        "for i in data.columns:\n",
        "  print(\"----------------\")\n",
        "  print(((data[i].value_counts(normalize=True))*100).to_frame(),'\\n')\n",
        " "
      ],
      "execution_count": null,
      "outputs": [
        {
          "output_type": "stream",
          "text": [
            "----------------\n",
            "                id\n",
            "0.00E+00  0.037063\n",
            "1.80E+07  0.001588\n",
            "1.56E+03  0.001588\n",
            "1.50E+09  0.001588\n",
            "1.32E+05  0.001412\n",
            "...            ...\n",
            "048bc0    0.000176\n",
            "02a5a5    0.000176\n",
            "15504c    0.000176\n",
            "018bd8    0.000176\n",
            "091deb    0.000176\n",
            "\n",
            "[563201 rows x 1 columns] \n",
            "\n",
            "----------------\n",
            "         sex\n",
            "2  50.672606\n",
            "1  49.327394 \n",
            "\n",
            "----------------\n",
            "   patient_type\n",
            "1     78.483486\n",
            "2     21.516514 \n",
            "\n",
            "----------------\n",
            "            entry_date\n",
            "15-06-2020    2.340444\n",
            "16-06-2020    2.254846\n",
            "23-06-2020    2.216018\n",
            "22-06-2020    2.184602\n",
            "12-06-2020    2.144539\n",
            "...                ...\n",
            "08-02-2020    0.001412\n",
            "01-02-2020    0.001412\n",
            "04-01-2020    0.001059\n",
            "11-01-2020    0.000882\n",
            "01-01-2020    0.000882\n",
            "\n",
            "[181 rows x 1 columns] \n",
            "\n",
            "----------------\n",
            "            date_symptoms\n",
            "01-06-2020       2.446162\n",
            "15-06-2020       2.400450\n",
            "10-06-2020       2.272318\n",
            "20-06-2020       2.155305\n",
            "08-06-2020       1.969637\n",
            "...                   ...\n",
            "04-01-2020       0.003353\n",
            "21-02-2020       0.003353\n",
            "03-01-2020       0.002824\n",
            "31-01-2020       0.002647\n",
            "19-02-2020       0.002471\n",
            "\n",
            "[181 rows x 1 columns] \n",
            "\n",
            "----------------\n",
            "            date_died\n",
            "9999-99-99  93.615271\n",
            "08-06-2020   0.123720\n",
            "16-06-2020   0.123367\n",
            "10-06-2020   0.121955\n",
            "12-06-2020   0.118955\n",
            "...               ...\n",
            "20-03-2020   0.000176\n",
            "14-01-2020   0.000176\n",
            "04-03-2020   0.000176\n",
            "29-01-2020   0.000176\n",
            "12-03-2020   0.000176\n",
            "\n",
            "[124 rows x 1 columns] \n",
            "\n",
            "----------------\n",
            "      intubed\n",
            "97  78.483486\n",
            "2   19.735899\n",
            "1    1.758730\n",
            "99   0.021885 \n",
            "\n",
            "----------------\n",
            "    pneumonia\n",
            "2   84.435989\n",
            "1   15.562070\n",
            "99   0.001941 \n",
            "\n",
            "----------------\n",
            "          age\n",
            "30   2.577471\n",
            "31   2.455163\n",
            "36   2.451456\n",
            "38   2.443867\n",
            "37   2.441926\n",
            "..        ...\n",
            "118  0.000176\n",
            "117  0.000176\n",
            "116  0.000176\n",
            "115  0.000176\n",
            "111  0.000176\n",
            "\n",
            "[120 rows x 1 columns] \n",
            "\n",
            "----------------\n",
            "    pregnancy\n",
            "97  50.672606\n",
            "2   48.330221\n",
            "1    0.717082\n",
            "98   0.280091 \n",
            "\n",
            "----------------\n",
            "     diabetes\n",
            "2   87.149357\n",
            "1   12.501015\n",
            "98   0.349628 \n",
            "\n",
            "----------------\n",
            "         copd\n",
            "2   98.079957\n",
            "1    1.611360\n",
            "98   0.308682 \n",
            "\n",
            "----------------\n",
            "       asthma\n",
            "2   96.509366\n",
            "1    3.181422\n",
            "98   0.309212 \n",
            "\n",
            "----------------\n",
            "      inmsupr\n",
            "2   98.066015\n",
            "1    1.584534\n",
            "98   0.349452 \n",
            "\n",
            "----------------\n",
            "    hypertension\n",
            "2      83.351277\n",
            "1      16.326804\n",
            "98      0.321919 \n",
            "\n",
            "----------------\n",
            "    other_disease\n",
            "2       96.526309\n",
            "1        3.015168\n",
            "98       0.458523 \n",
            "\n",
            "----------------\n",
            "    cardiovascular\n",
            "2        97.423765\n",
            "1         2.254669\n",
            "98        0.321566 \n",
            "\n",
            "----------------\n",
            "      obesity\n",
            "2   83.400517\n",
            "1   16.285153\n",
            "98   0.314330 \n",
            "\n",
            "----------------\n",
            "    renal_chronic\n",
            "2       97.698208\n",
            "1        1.985521\n",
            "98       0.316271 \n",
            "\n",
            "----------------\n",
            "      tobacco\n",
            "2   91.188877\n",
            "1    8.474555\n",
            "98   0.336568 \n",
            "\n",
            "----------------\n",
            "    contact_other_covid\n",
            "1             39.157469\n",
            "99            30.891349\n",
            "2             29.951183 \n",
            "\n",
            "----------------\n",
            "   covid_res\n",
            "2  49.247091\n",
            "1  38.943915\n",
            "3  11.808995 \n",
            "\n",
            "----------------\n",
            "          icu\n",
            "97  78.483486\n",
            "2   19.709779\n",
            "1    1.784674\n",
            "99   0.022061 \n",
            "\n"
          ],
          "name": "stdout"
        }
      ]
    },
    {
      "cell_type": "code",
      "metadata": {
        "id": "BqE-jXKPTe-2",
        "colab": {
          "base_uri": "https://localhost:8080/"
        },
        "outputId": "ea4c79aa-fb0b-4275-e154-abc3f9425ddd"
      },
      "source": [
        "# Null value count\n",
        "data.isna().sum()"
      ],
      "execution_count": null,
      "outputs": [
        {
          "output_type": "execute_result",
          "data": {
            "text/plain": [
              "id                     0\n",
              "sex                    0\n",
              "patient_type           0\n",
              "entry_date             0\n",
              "date_symptoms          0\n",
              "date_died              0\n",
              "intubed                0\n",
              "pneumonia              0\n",
              "age                    0\n",
              "pregnancy              0\n",
              "diabetes               0\n",
              "copd                   0\n",
              "asthma                 0\n",
              "inmsupr                0\n",
              "hypertension           0\n",
              "other_disease          0\n",
              "cardiovascular         0\n",
              "obesity                0\n",
              "renal_chronic          0\n",
              "tobacco                0\n",
              "contact_other_covid    0\n",
              "covid_res              0\n",
              "icu                    0\n",
              "dtype: int64"
            ]
          },
          "metadata": {
            "tags": []
          },
          "execution_count": 14
        }
      ]
    },
    {
      "cell_type": "markdown",
      "metadata": {
        "id": "3mxVAsksB1wi"
      },
      "source": [
        "# **III. Data Preprocessing**"
      ]
    },
    {
      "cell_type": "markdown",
      "metadata": {
        "id": "J7KyDbZk2EEX"
      },
      "source": [
        "**A. Data Cleaning**"
      ]
    },
    {
      "cell_type": "code",
      "metadata": {
        "id": "8NE1h35tsrKX"
      },
      "source": [
        "# Replacing unspecified values as null values\n",
        "for i in data:\n",
        "    data[i]=np.where(data[i]==97,np.NAN,data[i])\n",
        "    data[i]=np.where(data[i]==98,np.NAN,data[i])\n",
        "    data[i]=np.where(data[i]==99,np.NAN,data[i])"
      ],
      "execution_count": null,
      "outputs": []
    },
    {
      "cell_type": "code",
      "metadata": {
        "id": "3AQAlGBMYJpL"
      },
      "source": [
        "# Converting dates into datetime\n",
        "date=['entry_date', 'date_symptoms']\n",
        "for i in date:\n",
        "  data[i]=pd.to_datetime(data[i], infer_datetime_format=True)"
      ],
      "execution_count": null,
      "outputs": []
    },
    {
      "cell_type": "code",
      "metadata": {
        "colab": {
          "base_uri": "https://localhost:8080/"
        },
        "id": "cqMxI1K1sdB3",
        "outputId": "ec56172b-c988-4878-ab04-24095bff3fca"
      },
      "source": [
        "# Value counts for each feature\n",
        "for i in data.columns:\n",
        "  print(\"----------------\")\n",
        "  print((data[i].value_counts(normalize=True)*100).to_frame(),'\\n')"
      ],
      "execution_count": null,
      "outputs": [
        {
          "output_type": "stream",
          "text": [
            "----------------\n",
            "                id\n",
            "0.00E+00  0.037063\n",
            "1.80E+07  0.001588\n",
            "1.56E+03  0.001588\n",
            "1.50E+09  0.001588\n",
            "1.32E+05  0.001412\n",
            "...            ...\n",
            "048bc0    0.000176\n",
            "02a5a5    0.000176\n",
            "15504c    0.000176\n",
            "018bd8    0.000176\n",
            "091deb    0.000176\n",
            "\n",
            "[563201 rows x 1 columns] \n",
            "\n",
            "----------------\n",
            "           sex\n",
            "2.0  50.672606\n",
            "1.0  49.327394 \n",
            "\n",
            "----------------\n",
            "     patient_type\n",
            "1.0     78.483486\n",
            "2.0     21.516514 \n",
            "\n",
            "----------------\n",
            "            entry_date\n",
            "2020-06-15    2.340444\n",
            "2020-06-16    2.254846\n",
            "2020-06-23    2.216018\n",
            "2020-06-22    2.184602\n",
            "2020-12-06    2.144539\n",
            "...                ...\n",
            "2020-01-02    0.001412\n",
            "2020-08-02    0.001412\n",
            "2020-04-01    0.001059\n",
            "2020-01-01    0.000882\n",
            "2020-11-01    0.000882\n",
            "\n",
            "[181 rows x 1 columns] \n",
            "\n",
            "----------------\n",
            "            date_symptoms\n",
            "2020-01-06       2.446162\n",
            "2020-06-15       2.400450\n",
            "2020-10-06       2.272318\n",
            "2020-06-20       2.155305\n",
            "2020-08-06       1.969637\n",
            "...                   ...\n",
            "2020-02-21       0.003353\n",
            "2020-04-01       0.003353\n",
            "2020-03-01       0.002824\n",
            "2020-01-31       0.002647\n",
            "2020-02-19       0.002471\n",
            "\n",
            "[181 rows x 1 columns] \n",
            "\n",
            "----------------\n",
            "            date_died\n",
            "9999-99-99  93.615271\n",
            "08-06-2020   0.123720\n",
            "16-06-2020   0.123367\n",
            "10-06-2020   0.121955\n",
            "12-06-2020   0.118955\n",
            "...               ...\n",
            "20-03-2020   0.000176\n",
            "14-01-2020   0.000176\n",
            "04-03-2020   0.000176\n",
            "29-01-2020   0.000176\n",
            "12-03-2020   0.000176\n",
            "\n",
            "[124 rows x 1 columns] \n",
            "\n",
            "----------------\n",
            "       intubed\n",
            "2.0  91.817816\n",
            "1.0   8.182184 \n",
            "\n",
            "----------------\n",
            "     pneumonia\n",
            "2.0  84.437628\n",
            "1.0  15.562372 \n",
            "\n",
            "----------------\n",
            "            age\n",
            "30.0   2.578413\n",
            "31.0   2.456060\n",
            "36.0   2.452352\n",
            "38.0   2.444760\n",
            "37.0   2.442818\n",
            "...         ...\n",
            "111.0  0.000177\n",
            "115.0  0.000177\n",
            "116.0  0.000177\n",
            "117.0  0.000177\n",
            "118.0  0.000177\n",
            "\n",
            "[117 rows x 1 columns] \n",
            "\n",
            "----------------\n",
            "     pregnancy\n",
            "2.0  98.537979\n",
            "1.0   1.462021 \n",
            "\n",
            "----------------\n",
            "      diabetes\n",
            "2.0  87.455125\n",
            "1.0  12.544875 \n",
            "\n",
            "----------------\n",
            "         copd\n",
            "2.0  98.38365\n",
            "1.0   1.61635 \n",
            "\n",
            "----------------\n",
            "       asthma\n",
            "2.0  96.80871\n",
            "1.0   3.19129 \n",
            "\n",
            "----------------\n",
            "      inmsupr\n",
            "2.0  98.40991\n",
            "1.0   1.59009 \n",
            "\n",
            "----------------\n",
            "     hypertension\n",
            "2.0     83.620467\n",
            "1.0     16.379533 \n",
            "\n",
            "----------------\n",
            "     other_disease\n",
            "2.0      96.970943\n",
            "1.0       3.029057 \n",
            "\n",
            "----------------\n",
            "     cardiovascular\n",
            "2.0       97.738057\n",
            "1.0        2.261943 \n",
            "\n",
            "----------------\n",
            "       obesity\n",
            "2.0  83.663497\n",
            "1.0  16.336503 \n",
            "\n",
            "----------------\n",
            "     renal_chronic\n",
            "2.0       98.00818\n",
            "1.0        1.99182 \n",
            "\n",
            "----------------\n",
            "       tobacco\n",
            "2.0  91.496826\n",
            "1.0   8.503174 \n",
            "\n",
            "----------------\n",
            "     contact_other_covid\n",
            "1.0            56.660733\n",
            "2.0            43.339267 \n",
            "\n",
            "----------------\n",
            "     covid_res\n",
            "2.0  49.247091\n",
            "1.0  38.943915\n",
            "3.0  11.808995 \n",
            "\n",
            "----------------\n",
            "           icu\n",
            "2.0  91.697047\n",
            "1.0   8.302953 \n",
            "\n"
          ],
          "name": "stdout"
        }
      ]
    },
    {
      "cell_type": "markdown",
      "metadata": {
        "id": "I5hmtpYOGu0S"
      },
      "source": [
        "**B. Encoding of Variables**"
      ]
    },
    {
      "cell_type": "markdown",
      "metadata": {
        "id": "JLFpCLTenGhE"
      },
      "source": [
        "\n",
        "\n",
        " **1. Covid Test Result**"
      ]
    },
    {
      "cell_type": "code",
      "metadata": {
        "colab": {
          "base_uri": "https://localhost:8080/"
        },
        "id": "CmrqkUMO-ty7",
        "outputId": "a0b38b9b-acec-4111-b619-7d990629ba87"
      },
      "source": [
        "data['covid_res'].value_counts()"
      ],
      "execution_count": null,
      "outputs": [
        {
          "output_type": "execute_result",
          "data": {
            "text/plain": [
              "2.0    279035\n",
              "1.0    220657\n",
              "3.0     66910\n",
              "Name: covid_res, dtype: int64"
            ]
          },
          "metadata": {
            "tags": []
          },
          "execution_count": 18
        }
      ]
    },
    {
      "cell_type": "markdown",
      "metadata": {
        "id": "JlXSYiAZCa0c"
      },
      "source": [
        "*   '1' denotes tested positive\n",
        "*   '2' denotes tested negative\n",
        "*   '3' denotes test result awaiting\n",
        "\n"
      ]
    },
    {
      "cell_type": "markdown",
      "metadata": {
        "id": "fR4OsQnar5a-"
      },
      "source": [
        "Encoding"
      ]
    },
    {
      "cell_type": "code",
      "metadata": {
        "id": "TNCvMaxXr5a_"
      },
      "source": [
        "data['covid_res'].replace([1,2,3],['positive','negative','awaiting'],inplace=True)"
      ],
      "execution_count": null,
      "outputs": []
    },
    {
      "cell_type": "code",
      "metadata": {
        "colab": {
          "base_uri": "https://localhost:8080/"
        },
        "id": "jJOp0GTB30y6",
        "outputId": "afe79c69-733a-4300-dd34-deab0fcec127"
      },
      "source": [
        "data.rename(columns={'covid_res':'chance'},inplace=True)\n",
        "data['chance'].value_counts()"
      ],
      "execution_count": null,
      "outputs": [
        {
          "output_type": "execute_result",
          "data": {
            "text/plain": [
              "negative    279035\n",
              "positive    220657\n",
              "awaiting     66910\n",
              "Name: chance, dtype: int64"
            ]
          },
          "metadata": {
            "tags": []
          },
          "execution_count": 20
        }
      ]
    },
    {
      "cell_type": "markdown",
      "metadata": {
        "id": "z3SIj-wKnbsi"
      },
      "source": [
        "**2. Gender**"
      ]
    },
    {
      "cell_type": "code",
      "metadata": {
        "colab": {
          "base_uri": "https://localhost:8080/"
        },
        "id": "Te9djAkGGxbN",
        "outputId": "0e1cb8c6-bce3-4954-d3ef-69cf942eef3b"
      },
      "source": [
        "data[\"sex\"].value_counts()"
      ],
      "execution_count": null,
      "outputs": [
        {
          "output_type": "execute_result",
          "data": {
            "text/plain": [
              "2.0    287112\n",
              "1.0    279490\n",
              "Name: sex, dtype: int64"
            ]
          },
          "metadata": {
            "tags": []
          },
          "execution_count": 21
        }
      ]
    },
    {
      "cell_type": "markdown",
      "metadata": {
        "id": "HWuLG001G-qa"
      },
      "source": [
        "\n",
        "*   '1' denotes female\n",
        "*   '2' denotes male\n"
      ]
    },
    {
      "cell_type": "markdown",
      "metadata": {
        "id": "FBwf0hQ2j4qX"
      },
      "source": [
        "Encoding"
      ]
    },
    {
      "cell_type": "code",
      "metadata": {
        "colab": {
          "base_uri": "https://localhost:8080/"
        },
        "id": "i47Q8ZAoggK0",
        "outputId": "92771fc5-a23d-4b31-fc38-05b40328c836"
      },
      "source": [
        "data['sex'].replace([1,2],['Female','Male'], inplace = True)\n",
        "data['sex'].value_counts()"
      ],
      "execution_count": null,
      "outputs": [
        {
          "output_type": "execute_result",
          "data": {
            "text/plain": [
              "Male      287112\n",
              "Female    279490\n",
              "Name: sex, dtype: int64"
            ]
          },
          "metadata": {
            "tags": []
          },
          "execution_count": 22
        }
      ]
    },
    {
      "cell_type": "markdown",
      "metadata": {
        "id": "0-aHT1UZnhME"
      },
      "source": [
        "**3. Intubation**"
      ]
    },
    {
      "cell_type": "code",
      "metadata": {
        "colab": {
          "base_uri": "https://localhost:8080/"
        },
        "id": "3-jRSLqcCvYG",
        "outputId": "a96a5d6e-ceb1-4c96-f514-58efa6d30a16"
      },
      "source": [
        "data['intubed'].value_counts()"
      ],
      "execution_count": null,
      "outputs": [
        {
          "output_type": "execute_result",
          "data": {
            "text/plain": [
              "2.0    111824\n",
              "1.0      9965\n",
              "Name: intubed, dtype: int64"
            ]
          },
          "metadata": {
            "tags": []
          },
          "execution_count": 23
        }
      ]
    },
    {
      "cell_type": "markdown",
      "metadata": {
        "id": "Xb29cHDSaRZq"
      },
      "source": [
        " \n",
        "* '1' denotes that the patient used ventilator \n",
        "* '2' denotes that the patient did not use ventilator\n"
      ]
    },
    {
      "cell_type": "code",
      "metadata": {
        "id": "_xulSCrnsuHz"
      },
      "source": [
        "data.rename(columns={'intubed' : 'intubated'}, inplace = True)"
      ],
      "execution_count": null,
      "outputs": []
    },
    {
      "cell_type": "markdown",
      "metadata": {
        "id": "luQSu5NrkBEE"
      },
      "source": [
        "Encoding"
      ]
    },
    {
      "cell_type": "code",
      "metadata": {
        "id": "cvxdhMCkhvXG"
      },
      "source": [
        "data['intubated'].replace([1,2],['Yes','No'], inplace = True)"
      ],
      "execution_count": null,
      "outputs": []
    },
    {
      "cell_type": "code",
      "metadata": {
        "colab": {
          "base_uri": "https://localhost:8080/"
        },
        "id": "e54lcvzqptsE",
        "outputId": "f3227731-be07-47fe-bf8d-7900fd3e934b"
      },
      "source": [
        "data['intubated'].value_counts()"
      ],
      "execution_count": null,
      "outputs": [
        {
          "output_type": "execute_result",
          "data": {
            "text/plain": [
              "No     111824\n",
              "Yes      9965\n",
              "Name: intubated, dtype: int64"
            ]
          },
          "metadata": {
            "tags": []
          },
          "execution_count": 26
        }
      ]
    },
    {
      "cell_type": "markdown",
      "metadata": {
        "id": "HsBFTz_JreGX"
      },
      "source": [
        "*   '0' denotes that the patient used ventilator\n",
        "\n",
        "*   '1' denotes that the patient did not  use ventilator"
      ]
    },
    {
      "cell_type": "markdown",
      "metadata": {
        "id": "-rOrh6wfnvYy"
      },
      "source": [
        "**4. Pneumonia**"
      ]
    },
    {
      "cell_type": "code",
      "metadata": {
        "colab": {
          "base_uri": "https://localhost:8080/"
        },
        "id": "2JCvt31LsBo2",
        "outputId": "93fee65b-61b5-457c-d264-27dfa773e2b8"
      },
      "source": [
        "data['pneumonia'].value_counts()"
      ],
      "execution_count": null,
      "outputs": [
        {
          "output_type": "execute_result",
          "data": {
            "text/plain": [
              "2.0    478416\n",
              "1.0     88175\n",
              "Name: pneumonia, dtype: int64"
            ]
          },
          "metadata": {
            "tags": []
          },
          "execution_count": 27
        }
      ]
    },
    {
      "cell_type": "markdown",
      "metadata": {
        "id": "_jHs7fhZ0NO-"
      },
      "source": [
        "Pneumonia indicates whether the patient already has air sacs inflammation \n",
        "\n",
        "*   '1' denotes 'Yes'\n",
        "*   '2' denotes 'No'"
      ]
    },
    {
      "cell_type": "markdown",
      "metadata": {
        "id": "VVipcFLvkDcG"
      },
      "source": [
        "Encoding"
      ]
    },
    {
      "cell_type": "code",
      "metadata": {
        "id": "YctofLdrh_Je"
      },
      "source": [
        "data['pneumonia'].replace([1,2],['Yes','No'], inplace = True)"
      ],
      "execution_count": null,
      "outputs": []
    },
    {
      "cell_type": "code",
      "metadata": {
        "colab": {
          "base_uri": "https://localhost:8080/"
        },
        "id": "5Xcikx8Vk28B",
        "outputId": "6f1b6455-51bd-4d1d-da95-04b2aef4560c"
      },
      "source": [
        "data['pneumonia'].value_counts()"
      ],
      "execution_count": null,
      "outputs": [
        {
          "output_type": "execute_result",
          "data": {
            "text/plain": [
              "No     478416\n",
              "Yes     88175\n",
              "Name: pneumonia, dtype: int64"
            ]
          },
          "metadata": {
            "tags": []
          },
          "execution_count": 29
        }
      ]
    },
    {
      "cell_type": "markdown",
      "metadata": {
        "id": "Q9__5NXIkjFD"
      },
      "source": [
        "\n",
        "*   '0' denotes 'Yes'\n",
        "*   '1' denotes 'No'\n",
        "\n"
      ]
    },
    {
      "cell_type": "markdown",
      "metadata": {
        "id": "d6J4qUUx3OXt"
      },
      "source": [
        "**5. Pregnancy**"
      ]
    },
    {
      "cell_type": "code",
      "metadata": {
        "colab": {
          "base_uri": "https://localhost:8080/"
        },
        "id": "SxuVOr__1bI7",
        "outputId": "cbf8548a-b240-441c-dded-f808d89b88f2"
      },
      "source": [
        "data['pregnancy'].value_counts()"
      ],
      "execution_count": null,
      "outputs": [
        {
          "output_type": "execute_result",
          "data": {
            "text/plain": [
              "2.0    273840\n",
              "1.0      4063\n",
              "Name: pregnancy, dtype: int64"
            ]
          },
          "metadata": {
            "tags": []
          },
          "execution_count": 30
        }
      ]
    },
    {
      "cell_type": "markdown",
      "metadata": {
        "id": "05KHj2y42K37"
      },
      "source": [
        "Pregnancy indicates whether the patient is pregnant or not\n",
        "\n",
        "*  '1' denotes 'Yes'\n",
        "*  '2' denotes 'No'"
      ]
    },
    {
      "cell_type": "markdown",
      "metadata": {
        "id": "5VEt_HvukGVm"
      },
      "source": [
        "Encoding"
      ]
    },
    {
      "cell_type": "code",
      "metadata": {
        "id": "Vre4qfMzieSt"
      },
      "source": [
        "data['pregnancy'].replace([1, 2],['Yes','No'], inplace = True)"
      ],
      "execution_count": null,
      "outputs": []
    },
    {
      "cell_type": "code",
      "metadata": {
        "colab": {
          "base_uri": "https://localhost:8080/"
        },
        "id": "Q4Vkhnxsxpu0",
        "outputId": "756b20aa-ece6-482c-daf9-be8845bbaf94"
      },
      "source": [
        "data['pregnancy'].value_counts()"
      ],
      "execution_count": null,
      "outputs": [
        {
          "output_type": "execute_result",
          "data": {
            "text/plain": [
              "No     273840\n",
              "Yes      4063\n",
              "Name: pregnancy, dtype: int64"
            ]
          },
          "metadata": {
            "tags": []
          },
          "execution_count": 32
        }
      ]
    },
    {
      "cell_type": "markdown",
      "metadata": {
        "id": "bhafbmGJlQkq"
      },
      "source": [
        "*   '0' denotes 'Yes'\n",
        "*   '1' denotes 'No'"
      ]
    },
    {
      "cell_type": "markdown",
      "metadata": {
        "id": "h0XjDhdLm1Wk"
      },
      "source": [
        "**6. Chronic Obstructive Pulmonary Disease (COPD)**"
      ]
    },
    {
      "cell_type": "code",
      "metadata": {
        "colab": {
          "base_uri": "https://localhost:8080/"
        },
        "id": "AcdJ0ZjykOpB",
        "outputId": "9705baaa-a2c5-4fc4-c48f-3c8f262c7f30"
      },
      "source": [
        "data['copd'].value_counts()"
      ],
      "execution_count": null,
      "outputs": [
        {
          "output_type": "execute_result",
          "data": {
            "text/plain": [
              "2.0    555723\n",
              "1.0      9130\n",
              "Name: copd, dtype: int64"
            ]
          },
          "metadata": {
            "tags": []
          },
          "execution_count": 33
        }
      ]
    },
    {
      "cell_type": "markdown",
      "metadata": {
        "id": "MFGuJDdJkfYQ"
      },
      "source": [
        "copd indicates whether the patient has Chronic Obstructive Pulmonary Disease (COPD) or not.\n",
        "*  '1' denotes 'Yes'\n",
        "*  '2' denotes 'No'"
      ]
    },
    {
      "cell_type": "markdown",
      "metadata": {
        "id": "ROdhVxjRkI_R"
      },
      "source": [
        "Encoding"
      ]
    },
    {
      "cell_type": "code",
      "metadata": {
        "id": "MWmOSgJEiw_a"
      },
      "source": [
        "data['copd'].replace([1, 2],['Yes','No'], inplace = True)"
      ],
      "execution_count": null,
      "outputs": []
    },
    {
      "cell_type": "code",
      "metadata": {
        "colab": {
          "base_uri": "https://localhost:8080/"
        },
        "id": "Ffn8u6HBlDm2",
        "outputId": "03686c12-21ae-4444-93c9-1cf62d19f2cf"
      },
      "source": [
        "data['copd'].value_counts()"
      ],
      "execution_count": null,
      "outputs": [
        {
          "output_type": "execute_result",
          "data": {
            "text/plain": [
              "No     555723\n",
              "Yes      9130\n",
              "Name: copd, dtype: int64"
            ]
          },
          "metadata": {
            "tags": []
          },
          "execution_count": 35
        }
      ]
    },
    {
      "cell_type": "markdown",
      "metadata": {
        "id": "WKosvlp6lbJo"
      },
      "source": [
        "*   '0' denotes 'Yes'\n",
        "*   '1' denotes 'No'"
      ]
    },
    {
      "cell_type": "markdown",
      "metadata": {
        "id": "IdnkwPiu5p1F"
      },
      "source": [
        "**7. Asthma**"
      ]
    },
    {
      "cell_type": "code",
      "metadata": {
        "colab": {
          "base_uri": "https://localhost:8080/"
        },
        "id": "8xJtxJZEoirI",
        "outputId": "13fed104-2729-4491-de5e-b88c5219befb"
      },
      "source": [
        "data['asthma'].value_counts()"
      ],
      "execution_count": null,
      "outputs": [
        {
          "output_type": "execute_result",
          "data": {
            "text/plain": [
              "2.0    546824\n",
              "1.0     18026\n",
              "Name: asthma, dtype: int64"
            ]
          },
          "metadata": {
            "tags": []
          },
          "execution_count": 36
        }
      ]
    },
    {
      "cell_type": "markdown",
      "metadata": {
        "id": "jPGJyrMlo945"
      },
      "source": [
        "Asthma indicates whether the patient has asthma or not.   \n",
        "\n",
        "*  '1' denotes 'Yes'\n",
        "*  '2' denotes 'No'"
      ]
    },
    {
      "cell_type": "markdown",
      "metadata": {
        "id": "pJ9AJlqFkKLu"
      },
      "source": [
        "Encoding"
      ]
    },
    {
      "cell_type": "code",
      "metadata": {
        "id": "gR0YEymNi3wa"
      },
      "source": [
        "data['asthma'].replace([1,2],['Yes','No'], inplace = True)"
      ],
      "execution_count": null,
      "outputs": []
    },
    {
      "cell_type": "code",
      "metadata": {
        "colab": {
          "base_uri": "https://localhost:8080/"
        },
        "id": "9Z-N24_cpiAA",
        "outputId": "220280e8-0086-48c8-f0e5-87706609e908"
      },
      "source": [
        "data['asthma'].value_counts()"
      ],
      "execution_count": null,
      "outputs": [
        {
          "output_type": "execute_result",
          "data": {
            "text/plain": [
              "No     546824\n",
              "Yes     18026\n",
              "Name: asthma, dtype: int64"
            ]
          },
          "metadata": {
            "tags": []
          },
          "execution_count": 38
        }
      ]
    },
    {
      "cell_type": "markdown",
      "metadata": {
        "id": "T4Rl5IpnliZ0"
      },
      "source": [
        "*   '0' denotes 'Yes'\n",
        "*   '1' denotes 'No'"
      ]
    },
    {
      "cell_type": "markdown",
      "metadata": {
        "id": "JuUNsPBf-rz2"
      },
      "source": [
        "**8. Immunosuppression**"
      ]
    },
    {
      "cell_type": "code",
      "metadata": {
        "colab": {
          "base_uri": "https://localhost:8080/"
        },
        "id": "ZIk-cdJ9-rz-",
        "outputId": "5c80ca93-2499-4127-a6d7-97a74ef71bb8"
      },
      "source": [
        "data['inmsupr'].value_counts()"
      ],
      "execution_count": null,
      "outputs": [
        {
          "output_type": "execute_result",
          "data": {
            "text/plain": [
              "2.0    555644\n",
              "1.0      8978\n",
              "Name: inmsupr, dtype: int64"
            ]
          },
          "metadata": {
            "tags": []
          },
          "execution_count": 39
        }
      ]
    },
    {
      "cell_type": "code",
      "metadata": {
        "id": "qDtGmaYhPffU"
      },
      "source": [
        "data.rename(columns={'inmsupr':'imnsupr'}, inplace=True)"
      ],
      "execution_count": null,
      "outputs": []
    },
    {
      "cell_type": "markdown",
      "metadata": {
        "id": "lNlWWAAL-rz_"
      },
      "source": [
        "immunosuppression indicates whether the patient is immunosuppressed or not.\n",
        "*  '1' denotes 'yes'\n",
        "*  '2' denotes 'no'\n",
        "*  '98' is an unspecified value."
      ]
    },
    {
      "cell_type": "markdown",
      "metadata": {
        "id": "5YJIPF2KkLTf"
      },
      "source": [
        "Encoding"
      ]
    },
    {
      "cell_type": "code",
      "metadata": {
        "id": "zKvypRdqi_uN"
      },
      "source": [
        "data['imnsupr'].replace([1,2],['Yes','No'], inplace = True)"
      ],
      "execution_count": null,
      "outputs": []
    },
    {
      "cell_type": "code",
      "metadata": {
        "colab": {
          "base_uri": "https://localhost:8080/"
        },
        "id": "eVTA_oAa-r0B",
        "outputId": "fe7f725f-6a7b-4762-c2a0-4301c49ec32e"
      },
      "source": [
        "data['imnsupr'].value_counts()"
      ],
      "execution_count": null,
      "outputs": [
        {
          "output_type": "execute_result",
          "data": {
            "text/plain": [
              "No     555644\n",
              "Yes      8978\n",
              "Name: imnsupr, dtype: int64"
            ]
          },
          "metadata": {
            "tags": []
          },
          "execution_count": 42
        }
      ]
    },
    {
      "cell_type": "markdown",
      "metadata": {
        "id": "zDeSLH76loAa"
      },
      "source": [
        "*   '0' denotes 'Yes'\n",
        "*   '1' denotes 'No'"
      ]
    },
    {
      "cell_type": "markdown",
      "metadata": {
        "id": "S46H0u9s-_AM"
      },
      "source": [
        "**9. Hypertension**"
      ]
    },
    {
      "cell_type": "code",
      "metadata": {
        "colab": {
          "base_uri": "https://localhost:8080/"
        },
        "id": "EsyA-5HW-_AN",
        "outputId": "fe36d89d-617a-4075-c0d1-5a008aed35d0"
      },
      "source": [
        "data['hypertension'].value_counts()"
      ],
      "execution_count": null,
      "outputs": [
        {
          "output_type": "execute_result",
          "data": {
            "text/plain": [
              "2.0    472270\n",
              "1.0     92508\n",
              "Name: hypertension, dtype: int64"
            ]
          },
          "metadata": {
            "tags": []
          },
          "execution_count": 43
        }
      ]
    },
    {
      "cell_type": "markdown",
      "metadata": {
        "id": "APPC0WjwK4Db"
      },
      "source": [
        "Hypertension indicates whether the patient has hypertension or not.\n",
        "\n",
        "*   '1' denotes 'Yes'\n",
        "*   '2' denotes 'No'"
      ]
    },
    {
      "cell_type": "markdown",
      "metadata": {
        "id": "DEMZV5hSkOIf"
      },
      "source": [
        "Encoding"
      ]
    },
    {
      "cell_type": "code",
      "metadata": {
        "id": "i-86XA91jIMU"
      },
      "source": [
        "data['hypertension'].replace([1,2],['Yes','No'], inplace = True)"
      ],
      "execution_count": null,
      "outputs": []
    },
    {
      "cell_type": "code",
      "metadata": {
        "colab": {
          "base_uri": "https://localhost:8080/"
        },
        "id": "qS6zLLKb-_AP",
        "outputId": "9b852fdc-0790-41a0-ca9e-5d5246e6faa7"
      },
      "source": [
        "data['hypertension'].value_counts()"
      ],
      "execution_count": null,
      "outputs": [
        {
          "output_type": "execute_result",
          "data": {
            "text/plain": [
              "No     472270\n",
              "Yes     92508\n",
              "Name: hypertension, dtype: int64"
            ]
          },
          "metadata": {
            "tags": []
          },
          "execution_count": 45
        }
      ]
    },
    {
      "cell_type": "markdown",
      "metadata": {
        "id": "DrrifRjHl9gm"
      },
      "source": [
        "*   '0' denotes 'Yes'\n",
        "*   '1' denotes 'No'"
      ]
    },
    {
      "cell_type": "markdown",
      "metadata": {
        "id": "a7EeWuCC_OLT"
      },
      "source": [
        "**10. Other diseases**"
      ]
    },
    {
      "cell_type": "code",
      "metadata": {
        "colab": {
          "base_uri": "https://localhost:8080/"
        },
        "id": "JkAdof8d_OLU",
        "outputId": "6f5f96f8-1098-455b-ab6b-8f481b5aabb0"
      },
      "source": [
        "data['other_disease'].value_counts()"
      ],
      "execution_count": null,
      "outputs": [
        {
          "output_type": "execute_result",
          "data": {
            "text/plain": [
              "2.0    546920\n",
              "1.0     17084\n",
              "Name: other_disease, dtype: int64"
            ]
          },
          "metadata": {
            "tags": []
          },
          "execution_count": 46
        }
      ]
    },
    {
      "cell_type": "markdown",
      "metadata": {
        "id": "9Zxj2MKw_OLV"
      },
      "source": [
        "Other diseasese indicates whether the patient has any other underlying disease or not.\n",
        "*  '1' denotes 'Yes'\n",
        "*  '2' denotes 'No'"
      ]
    },
    {
      "cell_type": "markdown",
      "metadata": {
        "id": "6wiViVFmkPiM"
      },
      "source": [
        "Encoding"
      ]
    },
    {
      "cell_type": "code",
      "metadata": {
        "id": "83S-_GY0zR-E"
      },
      "source": [
        "data['other_disease'].replace([1,2],['Yes','No'],inplace=True)"
      ],
      "execution_count": null,
      "outputs": []
    },
    {
      "cell_type": "code",
      "metadata": {
        "colab": {
          "base_uri": "https://localhost:8080/"
        },
        "id": "I-iYbFcL_OLs",
        "outputId": "a7dd5236-7044-4d97-ae21-9dcef237cf84"
      },
      "source": [
        "data['other_disease'].value_counts()"
      ],
      "execution_count": null,
      "outputs": [
        {
          "output_type": "execute_result",
          "data": {
            "text/plain": [
              "No     546920\n",
              "Yes     17084\n",
              "Name: other_disease, dtype: int64"
            ]
          },
          "metadata": {
            "tags": []
          },
          "execution_count": 48
        }
      ]
    },
    {
      "cell_type": "markdown",
      "metadata": {
        "id": "xwmvRYqM_fJ_"
      },
      "source": [
        "**11. Cardiovascular Diseases**"
      ]
    },
    {
      "cell_type": "code",
      "metadata": {
        "colab": {
          "base_uri": "https://localhost:8080/"
        },
        "id": "i50kCRhc_fKB",
        "outputId": "8df7fbfa-15b7-4805-e714-80ec161f408b"
      },
      "source": [
        "data['cardiovascular'].value_counts()"
      ],
      "execution_count": null,
      "outputs": [
        {
          "output_type": "execute_result",
          "data": {
            "text/plain": [
              "2.0    552005\n",
              "1.0     12775\n",
              "Name: cardiovascular, dtype: int64"
            ]
          },
          "metadata": {
            "tags": []
          },
          "execution_count": 49
        }
      ]
    },
    {
      "cell_type": "markdown",
      "metadata": {
        "id": "6UmKYvRA_fKB"
      },
      "source": [
        "Cardiovascular diseases indicates whether the patient has heart or blood vessels realted disease.\n",
        "\n",
        "*  '1' denotes 'Yes'\n",
        "*  '2' denotes 'No'\n",
        "\n",
        "\n",
        "\n",
        "\n"
      ]
    },
    {
      "cell_type": "markdown",
      "metadata": {
        "id": "dxswb9ElkRZB"
      },
      "source": [
        "Encoding"
      ]
    },
    {
      "cell_type": "code",
      "metadata": {
        "id": "oUJ1ZcZVjZ-3"
      },
      "source": [
        "data['cardiovascular'].replace([1,2],['Yes','No'], inplace = True)"
      ],
      "execution_count": null,
      "outputs": []
    },
    {
      "cell_type": "code",
      "metadata": {
        "colab": {
          "base_uri": "https://localhost:8080/"
        },
        "id": "atdlYH0c_fKD",
        "outputId": "a8305eba-3fd3-4010-ca78-37feeb83bdd7"
      },
      "source": [
        "data['cardiovascular'].value_counts()"
      ],
      "execution_count": null,
      "outputs": [
        {
          "output_type": "execute_result",
          "data": {
            "text/plain": [
              "No     552005\n",
              "Yes     12775\n",
              "Name: cardiovascular, dtype: int64"
            ]
          },
          "metadata": {
            "tags": []
          },
          "execution_count": 51
        }
      ]
    },
    {
      "cell_type": "markdown",
      "metadata": {
        "id": "CTTzsUgdmJfj"
      },
      "source": [
        "*   '0' denotes 'Yes'\n",
        "*   '1' denotes 'No'"
      ]
    },
    {
      "cell_type": "markdown",
      "metadata": {
        "id": "G9zV5x3m_4Os"
      },
      "source": [
        "**12. Obesity**"
      ]
    },
    {
      "cell_type": "code",
      "metadata": {
        "colab": {
          "base_uri": "https://localhost:8080/"
        },
        "id": "JzQg64oH_4Ot",
        "outputId": "5ee31822-2461-434c-9b2f-ed33b3b93382"
      },
      "source": [
        "data['obesity'].value_counts()"
      ],
      "execution_count": null,
      "outputs": [
        {
          "output_type": "execute_result",
          "data": {
            "text/plain": [
              "2.0    472549\n",
              "1.0     92272\n",
              "Name: obesity, dtype: int64"
            ]
          },
          "metadata": {
            "tags": []
          },
          "execution_count": 52
        }
      ]
    },
    {
      "cell_type": "markdown",
      "metadata": {
        "id": "1Rnh9v5f_4Ou"
      },
      "source": [
        "Obesity indicates whether the patient is obese or not\n",
        "*  '1' denotes 'Yes'\n",
        "*  '2' denotes 'No'"
      ]
    },
    {
      "cell_type": "markdown",
      "metadata": {
        "id": "g4wAwQ0ukSen"
      },
      "source": [
        "Encoding"
      ]
    },
    {
      "cell_type": "code",
      "metadata": {
        "id": "WAoBxzE6jgo0"
      },
      "source": [
        "data['obesity'].replace([1,2],['Yes','No'], inplace = True)"
      ],
      "execution_count": null,
      "outputs": []
    },
    {
      "cell_type": "code",
      "metadata": {
        "colab": {
          "base_uri": "https://localhost:8080/"
        },
        "id": "_e3_LSHkmYFN",
        "outputId": "dc464353-9762-4b20-c753-260434b66fcd"
      },
      "source": [
        "data['obesity'].value_counts()"
      ],
      "execution_count": null,
      "outputs": [
        {
          "output_type": "execute_result",
          "data": {
            "text/plain": [
              "No     472549\n",
              "Yes     92272\n",
              "Name: obesity, dtype: int64"
            ]
          },
          "metadata": {
            "tags": []
          },
          "execution_count": 54
        }
      ]
    },
    {
      "cell_type": "markdown",
      "metadata": {
        "id": "yQWxqfArmZAQ"
      },
      "source": [
        "*   '0' denotes 'Yes'\n",
        "*   '1' denotes 'No'"
      ]
    },
    {
      "cell_type": "markdown",
      "metadata": {
        "id": "7F9Nofb5AJHn"
      },
      "source": [
        "**13. Renal Chronic Diseases**"
      ]
    },
    {
      "cell_type": "code",
      "metadata": {
        "colab": {
          "base_uri": "https://localhost:8080/"
        },
        "id": "WqvqTKadAJHo",
        "outputId": "a1282177-e8cf-4464-97a1-366db704326c"
      },
      "source": [
        "data['renal_chronic'].value_counts()"
      ],
      "execution_count": null,
      "outputs": [
        {
          "output_type": "execute_result",
          "data": {
            "text/plain": [
              "2.0    553560\n",
              "1.0     11250\n",
              "Name: renal_chronic, dtype: int64"
            ]
          },
          "metadata": {
            "tags": []
          },
          "execution_count": 55
        }
      ]
    },
    {
      "cell_type": "markdown",
      "metadata": {
        "id": "xgLGx3T8AJHp"
      },
      "source": [
        "Renal Chronic Diseases indicates whether the patient has chronic renal disease or not.\n",
        "*  '1' denotes 'Yes'\n",
        "*  '2' denotes 'No'"
      ]
    },
    {
      "cell_type": "markdown",
      "metadata": {
        "id": "WhB9eOm8kTdi"
      },
      "source": [
        "Encoding"
      ]
    },
    {
      "cell_type": "code",
      "metadata": {
        "id": "0SQfMAAwjmB8"
      },
      "source": [
        "data['renal_chronic'].replace([1,2],['Yes','No'], inplace = True)"
      ],
      "execution_count": null,
      "outputs": []
    },
    {
      "cell_type": "code",
      "metadata": {
        "colab": {
          "base_uri": "https://localhost:8080/"
        },
        "id": "P_7sJxSMmoyk",
        "outputId": "95078d2c-b0a9-4697-a47e-8b9698beabc6"
      },
      "source": [
        "data['renal_chronic'].value_counts()"
      ],
      "execution_count": null,
      "outputs": [
        {
          "output_type": "execute_result",
          "data": {
            "text/plain": [
              "No     553560\n",
              "Yes     11250\n",
              "Name: renal_chronic, dtype: int64"
            ]
          },
          "metadata": {
            "tags": []
          },
          "execution_count": 57
        }
      ]
    },
    {
      "cell_type": "markdown",
      "metadata": {
        "id": "-zSq-9SOmpMK"
      },
      "source": [
        "*   '0' denotes 'Yes'\n",
        "*   '1' denotes 'No'"
      ]
    },
    {
      "cell_type": "markdown",
      "metadata": {
        "id": "eDzKKIbORGCv"
      },
      "source": [
        "**14. Diabetes**"
      ]
    },
    {
      "cell_type": "code",
      "metadata": {
        "colab": {
          "base_uri": "https://localhost:8080/"
        },
        "id": "ZXDuf2HpRLRP",
        "outputId": "a9e4e6ad-69c5-4e73-870c-34bbde0169c5"
      },
      "source": [
        "data['diabetes'].value_counts()"
      ],
      "execution_count": null,
      "outputs": [
        {
          "output_type": "execute_result",
          "data": {
            "text/plain": [
              "2.0    493790\n",
              "1.0     70831\n",
              "Name: diabetes, dtype: int64"
            ]
          },
          "metadata": {
            "tags": []
          },
          "execution_count": 58
        }
      ]
    },
    {
      "cell_type": "markdown",
      "metadata": {
        "id": "GbZQbyuNRfgq"
      },
      "source": [
        "Diabetes indicates whether the patient has diabetes or not\n",
        "\n",
        "*   '1' denotes 'Yes'\n",
        "*   '2' denotes 'No'\n",
        "\n"
      ]
    },
    {
      "cell_type": "markdown",
      "metadata": {
        "id": "y-l1c-AtTXZS"
      },
      "source": [
        "Encoding"
      ]
    },
    {
      "cell_type": "code",
      "metadata": {
        "id": "crMJ6z04R1Q2"
      },
      "source": [
        "data['diabetes'].replace([1,2],['Yes','No'], inplace=True)"
      ],
      "execution_count": null,
      "outputs": []
    },
    {
      "cell_type": "code",
      "metadata": {
        "colab": {
          "base_uri": "https://localhost:8080/"
        },
        "id": "ThBwmjw6SQ8W",
        "outputId": "9951e296-7506-4eb9-fff6-c299735f5429"
      },
      "source": [
        "data['diabetes'].value_counts()"
      ],
      "execution_count": null,
      "outputs": [
        {
          "output_type": "execute_result",
          "data": {
            "text/plain": [
              "No     493790\n",
              "Yes     70831\n",
              "Name: diabetes, dtype: int64"
            ]
          },
          "metadata": {
            "tags": []
          },
          "execution_count": 60
        }
      ]
    },
    {
      "cell_type": "markdown",
      "metadata": {
        "id": "Qu18pc_jT3Z6"
      },
      "source": [
        "\n",
        "\n",
        "*   '1' denotes 'Yes'\n",
        "*   '2' denotes 'No'\n",
        "\n"
      ]
    },
    {
      "cell_type": "markdown",
      "metadata": {
        "id": "IDAWahHzSyzL"
      },
      "source": [
        "**15. Patient type**"
      ]
    },
    {
      "cell_type": "code",
      "metadata": {
        "colab": {
          "base_uri": "https://localhost:8080/"
        },
        "id": "AMHcwB7fS65R",
        "outputId": "1d2aa58a-10c5-48cd-dc8d-ded90b0327fb"
      },
      "source": [
        "data['patient_type'].value_counts()"
      ],
      "execution_count": null,
      "outputs": [
        {
          "output_type": "execute_result",
          "data": {
            "text/plain": [
              "1.0    444689\n",
              "2.0    121913\n",
              "Name: patient_type, dtype: int64"
            ]
          },
          "metadata": {
            "tags": []
          },
          "execution_count": 61
        }
      ]
    },
    {
      "cell_type": "markdown",
      "metadata": {
        "id": "UTmFPYzKAnj_"
      },
      "source": [
        "Patient type indicates whether the patient is hospitalized or not\n",
        "\n",
        "*   '1' denotes outpatient\n",
        "*   '2' denotes inpatient\n",
        "\n"
      ]
    },
    {
      "cell_type": "markdown",
      "metadata": {
        "id": "uR_ThjTjTdb6"
      },
      "source": [
        "Encoding"
      ]
    },
    {
      "cell_type": "code",
      "metadata": {
        "colab": {
          "base_uri": "https://localhost:8080/"
        },
        "id": "N_vlTr4MTfgt",
        "outputId": "f79faa60-f2f4-4d30-9a45-2d621c5ecd8a"
      },
      "source": [
        "data['patient_type'].replace([1,2],['Yes','No'], inplace=True)\n",
        "data['patient_type'].value_counts()"
      ],
      "execution_count": null,
      "outputs": [
        {
          "output_type": "execute_result",
          "data": {
            "text/plain": [
              "Yes    444689\n",
              "No     121913\n",
              "Name: patient_type, dtype: int64"
            ]
          },
          "metadata": {
            "tags": []
          },
          "execution_count": 62
        }
      ]
    },
    {
      "cell_type": "markdown",
      "metadata": {
        "id": "Ck0FvXGMViBV"
      },
      "source": [
        "*  '1' denotes outpatient\n",
        "*  '2' denotes inpatient"
      ]
    },
    {
      "cell_type": "markdown",
      "metadata": {
        "id": "AT0fBfj16VXW"
      },
      "source": [
        "**16. Tobacco**"
      ]
    },
    {
      "cell_type": "code",
      "metadata": {
        "colab": {
          "base_uri": "https://localhost:8080/"
        },
        "id": "3QvWHnvC6URF",
        "outputId": "81ece0d2-d81e-4d3f-f3f4-bd017843e2d5"
      },
      "source": [
        "data['tobacco'].value_counts()"
      ],
      "execution_count": null,
      "outputs": [
        {
          "output_type": "execute_result",
          "data": {
            "text/plain": [
              "2.0    516678\n",
              "1.0     48017\n",
              "Name: tobacco, dtype: int64"
            ]
          },
          "metadata": {
            "tags": []
          },
          "execution_count": 63
        }
      ]
    },
    {
      "cell_type": "markdown",
      "metadata": {
        "id": "vWDt5tzv6x4A"
      },
      "source": [
        "Tobacco indicates whether the patient is a tobacco user or not.\n",
        "*  '1' denotes 'Yes'\n",
        "*  '2' denotes 'No'"
      ]
    },
    {
      "cell_type": "markdown",
      "metadata": {
        "id": "7t0aAnfi7R6u"
      },
      "source": [
        "Encoding"
      ]
    },
    {
      "cell_type": "code",
      "metadata": {
        "id": "9mDfxIca7U_M"
      },
      "source": [
        "data['tobacco'].replace([1,2],['Yes','No'], inplace=True)"
      ],
      "execution_count": null,
      "outputs": []
    },
    {
      "cell_type": "code",
      "metadata": {
        "colab": {
          "base_uri": "https://localhost:8080/"
        },
        "id": "iT3CsE440Jlo",
        "outputId": "ec6c821d-2392-42a4-d1ea-3bec232fbf93"
      },
      "source": [
        "data['tobacco'].value_counts()"
      ],
      "execution_count": null,
      "outputs": [
        {
          "output_type": "execute_result",
          "data": {
            "text/plain": [
              "No     516678\n",
              "Yes     48017\n",
              "Name: tobacco, dtype: int64"
            ]
          },
          "metadata": {
            "tags": []
          },
          "execution_count": 65
        }
      ]
    },
    {
      "cell_type": "markdown",
      "metadata": {
        "id": "jEHWIiZ38K-p"
      },
      "source": [
        "*  '0' denotes 'Yes'\n",
        "*  '1' denotes 'No'"
      ]
    },
    {
      "cell_type": "markdown",
      "metadata": {
        "id": "JFvuOJVj8qqG"
      },
      "source": [
        "**17. Contact with Covid-19 patients**"
      ]
    },
    {
      "cell_type": "code",
      "metadata": {
        "colab": {
          "base_uri": "https://localhost:8080/"
        },
        "id": "gGi_ntqA8hEI",
        "outputId": "23d3b754-1991-438f-c6ee-15d4da0663a1"
      },
      "source": [
        "data['contact_other_covid'].value_counts()"
      ],
      "execution_count": null,
      "outputs": [
        {
          "output_type": "execute_result",
          "data": {
            "text/plain": [
              "1.0    221867\n",
              "2.0    169704\n",
              "Name: contact_other_covid, dtype: int64"
            ]
          },
          "metadata": {
            "tags": []
          },
          "execution_count": 66
        }
      ]
    },
    {
      "cell_type": "markdown",
      "metadata": {
        "id": "BPj4QBhv-VLt"
      },
      "source": [
        "Contact other covid indicates whether the patient had contact with any other COVID-19 patient\n",
        "*  '1' denotes 'Yes'\n",
        "*  '2' denotes 'No'"
      ]
    },
    {
      "cell_type": "markdown",
      "metadata": {
        "id": "_m-PJd3gAXec"
      },
      "source": [
        "Encoding"
      ]
    },
    {
      "cell_type": "code",
      "metadata": {
        "id": "atAeF3VuAWn0"
      },
      "source": [
        "data['contact_other_covid'].replace([1,2],['Yes','No'], inplace=True)"
      ],
      "execution_count": null,
      "outputs": []
    },
    {
      "cell_type": "code",
      "metadata": {
        "colab": {
          "base_uri": "https://localhost:8080/"
        },
        "id": "YK-C2ZMf0Ujj",
        "outputId": "58340e93-33ec-4921-8bf4-584cdc428844"
      },
      "source": [
        "data['contact_other_covid'].value_counts()"
      ],
      "execution_count": null,
      "outputs": [
        {
          "output_type": "execute_result",
          "data": {
            "text/plain": [
              "Yes    221867\n",
              "No     169704\n",
              "Name: contact_other_covid, dtype: int64"
            ]
          },
          "metadata": {
            "tags": []
          },
          "execution_count": 68
        }
      ]
    },
    {
      "cell_type": "markdown",
      "metadata": {
        "id": "58laE7oyAttS"
      },
      "source": [
        "*  '0' denotes 'Yes'\n",
        "*  '1' denotes 'No'"
      ]
    },
    {
      "cell_type": "markdown",
      "metadata": {
        "id": "K0FqI2SwA71s"
      },
      "source": [
        "**18. ICU**"
      ]
    },
    {
      "cell_type": "code",
      "metadata": {
        "colab": {
          "base_uri": "https://localhost:8080/"
        },
        "id": "PazCnxHuBA3S",
        "outputId": "28ab4b4b-45dc-41f8-a876-20c05e7917ae"
      },
      "source": [
        "data['icu'].value_counts()"
      ],
      "execution_count": null,
      "outputs": [
        {
          "output_type": "execute_result",
          "data": {
            "text/plain": [
              "2.0    111676\n",
              "1.0     10112\n",
              "Name: icu, dtype: int64"
            ]
          },
          "metadata": {
            "tags": []
          },
          "execution_count": 69
        }
      ]
    },
    {
      "cell_type": "markdown",
      "metadata": {
        "id": "z9hKeacEHA5U"
      },
      "source": [
        "ICU indicates whether the patient has been admitted to an Intensive Care Unit(ICU) or not\n",
        "*  '1' denotes 'Yes'\n",
        "*  '2' denotes 'No'"
      ]
    },
    {
      "cell_type": "markdown",
      "metadata": {
        "id": "QX-DQRJ7HahJ"
      },
      "source": [
        "Encoding"
      ]
    },
    {
      "cell_type": "code",
      "metadata": {
        "colab": {
          "base_uri": "https://localhost:8080/"
        },
        "id": "Wu6q-UdzHkJW",
        "outputId": "b2e35b85-def1-424e-bf39-2c085a1ee309"
      },
      "source": [
        "data['icu'].replace([1,2],['Yes','No'], inplace=True)\n",
        "data['icu'].value_counts()"
      ],
      "execution_count": null,
      "outputs": [
        {
          "output_type": "execute_result",
          "data": {
            "text/plain": [
              "No     111676\n",
              "Yes     10112\n",
              "Name: icu, dtype: int64"
            ]
          },
          "metadata": {
            "tags": []
          },
          "execution_count": 70
        }
      ]
    },
    {
      "cell_type": "markdown",
      "metadata": {
        "id": "OB5r8ukCIIba"
      },
      "source": [
        "*  '1' denotes 'Yes'\n",
        "*  '2' denotes 'No'"
      ]
    },
    {
      "cell_type": "markdown",
      "metadata": {
        "id": "nIFgpuuNte-G"
      },
      "source": [
        "**19. Deceased Patients**"
      ]
    },
    {
      "cell_type": "code",
      "metadata": {
        "colab": {
          "base_uri": "https://localhost:8080/"
        },
        "id": "4wljeQOet68m",
        "outputId": "d9f258bb-7ae4-40e0-d7d7-96add5654675"
      },
      "source": [
        "data['date_died'].value_counts()"
      ],
      "execution_count": null,
      "outputs": [
        {
          "output_type": "execute_result",
          "data": {
            "text/plain": [
              "9999-99-99    530426\n",
              "08-06-2020       701\n",
              "16-06-2020       699\n",
              "10-06-2020       691\n",
              "12-06-2020       674\n",
              "               ...  \n",
              "20-03-2020         1\n",
              "14-01-2020         1\n",
              "04-03-2020         1\n",
              "29-01-2020         1\n",
              "12-03-2020         1\n",
              "Name: date_died, Length: 124, dtype: int64"
            ]
          },
          "metadata": {
            "tags": []
          },
          "execution_count": 71
        }
      ]
    },
    {
      "cell_type": "markdown",
      "metadata": {
        "id": "pxyZiuxnWh0d"
      },
      "source": [
        "Observation: Data for date_died is not straightforward. Since only a fraction of the cases are actually fatal, hence we shall replace these values with some other value such as Not applicable."
      ]
    },
    {
      "cell_type": "code",
      "metadata": {
        "id": "v2ysA38sAn4Z"
      },
      "source": [
        "data.rename({'date_died':'Deceased'},axis = 1, inplace = True)\n",
        "data['Deceased'].replace('9999-99-99', 'No',inplace=True)\n",
        "data.loc[data['Deceased']!='No', 'Deceased'] = 'Yes'"
      ],
      "execution_count": null,
      "outputs": []
    },
    {
      "cell_type": "code",
      "metadata": {
        "colab": {
          "base_uri": "https://localhost:8080/"
        },
        "id": "ENivC7M9tqaK",
        "outputId": "ffd4e9fc-9b10-4eda-b92d-1f85f2d97f1a"
      },
      "source": [
        "data['Deceased'].value_counts()"
      ],
      "execution_count": null,
      "outputs": [
        {
          "output_type": "execute_result",
          "data": {
            "text/plain": [
              "No     530426\n",
              "Yes     36176\n",
              "Name: Deceased, dtype: int64"
            ]
          },
          "metadata": {
            "tags": []
          },
          "execution_count": 73
        }
      ]
    },
    {
      "cell_type": "markdown",
      "metadata": {
        "id": "trYNEjGqIU7H"
      },
      "source": [
        "*  '0' indicates that patient is dead\n",
        "*  '1' indicates that the patient is alive"
      ]
    },
    {
      "cell_type": "markdown",
      "metadata": {
        "id": "lsEbPNXWpCk8"
      },
      "source": [
        "**C. Handling Null Values**"
      ]
    },
    {
      "cell_type": "code",
      "metadata": {
        "colab": {
          "base_uri": "https://localhost:8080/"
        },
        "id": "wPAPi0Lg8qIp",
        "outputId": "b1981051-1995-4a80-9e55-c86be556668c"
      },
      "source": [
        "# Rows and columns after cleaning data\n",
        "data.shape"
      ],
      "execution_count": null,
      "outputs": [
        {
          "output_type": "execute_result",
          "data": {
            "text/plain": [
              "(566602, 23)"
            ]
          },
          "metadata": {
            "tags": []
          },
          "execution_count": 74
        }
      ]
    },
    {
      "cell_type": "code",
      "metadata": {
        "id": "7Ov1taMU2Az6"
      },
      "source": [
        "col=['id', 'sex', 'patient_type', 'entry_date', 'date_symptoms', 'Deceased',\n",
        "       'intubated', 'pneumonia', 'age', 'pregnancy', 'diabetes', 'copd',\n",
        "       'asthma', 'imnsupr', 'hypertension', 'other_disease', 'cardiovascular',\n",
        "       'obesity', 'renal_chronic', 'tobacco', 'contact_other_covid', 'icu', 'chance']"
      ],
      "execution_count": null,
      "outputs": []
    },
    {
      "cell_type": "code",
      "metadata": {
        "colab": {
          "base_uri": "https://localhost:8080/"
        },
        "id": "lP8Is32IABV0",
        "outputId": "c5f9a9ef-7fae-42c6-8077-b012ed19cb20"
      },
      "source": [
        "# Value counts for each feature\n",
        "for i in data.columns:\n",
        "  print((data[i].value_counts(normalize=True)*100).to_frame(),'\\n')\n",
        "  print(\"----------------\")"
      ],
      "execution_count": null,
      "outputs": [
        {
          "output_type": "stream",
          "text": [
            "                id\n",
            "0.00E+00  0.037063\n",
            "1.80E+07  0.001588\n",
            "1.56E+03  0.001588\n",
            "1.50E+09  0.001588\n",
            "1.32E+05  0.001412\n",
            "...            ...\n",
            "048bc0    0.000176\n",
            "02a5a5    0.000176\n",
            "15504c    0.000176\n",
            "018bd8    0.000176\n",
            "091deb    0.000176\n",
            "\n",
            "[563201 rows x 1 columns] \n",
            "\n",
            "----------------\n",
            "              sex\n",
            "Male    50.672606\n",
            "Female  49.327394 \n",
            "\n",
            "----------------\n",
            "     patient_type\n",
            "Yes     78.483486\n",
            "No      21.516514 \n",
            "\n",
            "----------------\n",
            "            entry_date\n",
            "2020-06-15    2.340444\n",
            "2020-06-16    2.254846\n",
            "2020-06-23    2.216018\n",
            "2020-06-22    2.184602\n",
            "2020-12-06    2.144539\n",
            "...                ...\n",
            "2020-01-02    0.001412\n",
            "2020-08-02    0.001412\n",
            "2020-04-01    0.001059\n",
            "2020-01-01    0.000882\n",
            "2020-11-01    0.000882\n",
            "\n",
            "[181 rows x 1 columns] \n",
            "\n",
            "----------------\n",
            "            date_symptoms\n",
            "2020-01-06       2.446162\n",
            "2020-06-15       2.400450\n",
            "2020-10-06       2.272318\n",
            "2020-06-20       2.155305\n",
            "2020-08-06       1.969637\n",
            "...                   ...\n",
            "2020-02-21       0.003353\n",
            "2020-04-01       0.003353\n",
            "2020-03-01       0.002824\n",
            "2020-01-31       0.002647\n",
            "2020-02-19       0.002471\n",
            "\n",
            "[181 rows x 1 columns] \n",
            "\n",
            "----------------\n",
            "      Deceased\n",
            "No   93.615271\n",
            "Yes   6.384729 \n",
            "\n",
            "----------------\n",
            "     intubated\n",
            "No   91.817816\n",
            "Yes   8.182184 \n",
            "\n",
            "----------------\n",
            "     pneumonia\n",
            "No   84.437628\n",
            "Yes  15.562372 \n",
            "\n",
            "----------------\n",
            "            age\n",
            "30.0   2.578413\n",
            "31.0   2.456060\n",
            "36.0   2.452352\n",
            "38.0   2.444760\n",
            "37.0   2.442818\n",
            "...         ...\n",
            "111.0  0.000177\n",
            "115.0  0.000177\n",
            "116.0  0.000177\n",
            "117.0  0.000177\n",
            "118.0  0.000177\n",
            "\n",
            "[117 rows x 1 columns] \n",
            "\n",
            "----------------\n",
            "     pregnancy\n",
            "No   98.537979\n",
            "Yes   1.462021 \n",
            "\n",
            "----------------\n",
            "      diabetes\n",
            "No   87.455125\n",
            "Yes  12.544875 \n",
            "\n",
            "----------------\n",
            "         copd\n",
            "No   98.38365\n",
            "Yes   1.61635 \n",
            "\n",
            "----------------\n",
            "       asthma\n",
            "No   96.80871\n",
            "Yes   3.19129 \n",
            "\n",
            "----------------\n",
            "      imnsupr\n",
            "No   98.40991\n",
            "Yes   1.59009 \n",
            "\n",
            "----------------\n",
            "     hypertension\n",
            "No      83.620467\n",
            "Yes     16.379533 \n",
            "\n",
            "----------------\n",
            "     other_disease\n",
            "No       96.970943\n",
            "Yes       3.029057 \n",
            "\n",
            "----------------\n",
            "     cardiovascular\n",
            "No        97.738057\n",
            "Yes        2.261943 \n",
            "\n",
            "----------------\n",
            "       obesity\n",
            "No   83.663497\n",
            "Yes  16.336503 \n",
            "\n",
            "----------------\n",
            "     renal_chronic\n",
            "No        98.00818\n",
            "Yes        1.99182 \n",
            "\n",
            "----------------\n",
            "       tobacco\n",
            "No   91.496826\n",
            "Yes   8.503174 \n",
            "\n",
            "----------------\n",
            "     contact_other_covid\n",
            "Yes            56.660733\n",
            "No             43.339267 \n",
            "\n",
            "----------------\n",
            "             chance\n",
            "negative  49.247091\n",
            "positive  38.943915\n",
            "awaiting  11.808995 \n",
            "\n",
            "----------------\n",
            "           icu\n",
            "No   91.697047\n",
            "Yes   8.302953 \n",
            "\n",
            "----------------\n"
          ],
          "name": "stdout"
        }
      ]
    },
    {
      "cell_type": "code",
      "metadata": {
        "id": "4aqjizBWXlNo",
        "colab": {
          "base_uri": "https://localhost:8080/"
        },
        "outputId": "d95b3ee4-3cf0-409d-b2c5-b6981431917f"
      },
      "source": [
        "# Sorting feature according to the count of null values in descending order\n",
        "null_values=data.isnull().sum().sort_values(ascending=False)\n",
        "null_values"
      ],
      "execution_count": null,
      "outputs": [
        {
          "output_type": "execute_result",
          "data": {
            "text/plain": [
              "icu                    444814\n",
              "intubated              444813\n",
              "pregnancy              288699\n",
              "contact_other_covid    175031\n",
              "other_disease            2598\n",
              "diabetes                 1981\n",
              "imnsupr                  1980\n",
              "tobacco                  1907\n",
              "hypertension             1824\n",
              "cardiovascular           1822\n",
              "renal_chronic            1792\n",
              "obesity                  1781\n",
              "asthma                   1752\n",
              "copd                     1749\n",
              "age                       207\n",
              "pneumonia                  11\n",
              "chance                      0\n",
              "Deceased                    0\n",
              "date_symptoms               0\n",
              "entry_date                  0\n",
              "patient_type                0\n",
              "sex                         0\n",
              "id                          0\n",
              "dtype: int64"
            ]
          },
          "metadata": {
            "tags": []
          },
          "execution_count": 77
        }
      ]
    },
    {
      "cell_type": "markdown",
      "metadata": {
        "id": "Jbn_ATK0YMAP"
      },
      "source": [
        "Observation:\n",
        "* 1. High number of null values can bee seen in intubed, pregnancy , ICU and contact_other_covid features.\n",
        "* 2. Categorical variables with null values in the range 1-10000 can be filled using mode"
      ]
    },
    {
      "cell_type": "code",
      "metadata": {
        "colab": {
          "base_uri": "https://localhost:8080/"
        },
        "id": "T88GoefKmWxQ",
        "outputId": "92b40ed7-5a6a-4d6b-abfb-c8d81d3c4063"
      },
      "source": [
        "# Features with a few null value count\n",
        "null_values=null_values[null_values<10000]\n",
        "null_values=null_values[null_values>0]\n",
        "null_values"
      ],
      "execution_count": null,
      "outputs": [
        {
          "output_type": "execute_result",
          "data": {
            "text/plain": [
              "other_disease     2598\n",
              "diabetes          1981\n",
              "imnsupr           1980\n",
              "tobacco           1907\n",
              "hypertension      1824\n",
              "cardiovascular    1822\n",
              "renal_chronic     1792\n",
              "obesity           1781\n",
              "asthma            1752\n",
              "copd              1749\n",
              "age                207\n",
              "pneumonia           11\n",
              "dtype: int64"
            ]
          },
          "metadata": {
            "tags": []
          },
          "execution_count": 78
        }
      ]
    },
    {
      "cell_type": "code",
      "metadata": {
        "id": "YiDrO_zamfeV"
      },
      "source": [
        "# Index of selected features\n",
        "col=null_values.index"
      ],
      "execution_count": null,
      "outputs": []
    },
    {
      "cell_type": "code",
      "metadata": {
        "id": "0zM2ZOGHnvR9"
      },
      "source": [
        "# filling the selected features\n",
        "for i in col:\n",
        "  data[i]=data[i].fillna(data[i].mode().iloc[0])"
      ],
      "execution_count": null,
      "outputs": []
    },
    {
      "cell_type": "code",
      "metadata": {
        "colab": {
          "base_uri": "https://localhost:8080/"
        },
        "id": "m7PaB5LoozZK",
        "outputId": "a0044c3e-40ca-4e12-dedb-037aacba536a"
      },
      "source": [
        "# Null value count after filling the data\n",
        "data.isnull().sum()"
      ],
      "execution_count": null,
      "outputs": [
        {
          "output_type": "execute_result",
          "data": {
            "text/plain": [
              "id                          0\n",
              "sex                         0\n",
              "patient_type                0\n",
              "entry_date                  0\n",
              "date_symptoms               0\n",
              "Deceased                    0\n",
              "intubated              444813\n",
              "pneumonia                   0\n",
              "age                         0\n",
              "pregnancy              288699\n",
              "diabetes                    0\n",
              "copd                        0\n",
              "asthma                      0\n",
              "imnsupr                     0\n",
              "hypertension                0\n",
              "other_disease               0\n",
              "cardiovascular              0\n",
              "obesity                     0\n",
              "renal_chronic               0\n",
              "tobacco                     0\n",
              "contact_other_covid    175031\n",
              "chance                      0\n",
              "icu                    444814\n",
              "dtype: int64"
            ]
          },
          "metadata": {
            "tags": []
          },
          "execution_count": 81
        }
      ]
    },
    {
      "cell_type": "markdown",
      "metadata": {
        "id": "eYcIZJinvm8h"
      },
      "source": [
        "Observation: For variables like 'intubated', 'pregnancy', 'contact_other_covid', and 'icu' around 80% data are missing, hence we shall omit those variables for modelling eventhough that would cause omitting bias."
      ]
    },
    {
      "cell_type": "code",
      "metadata": {
        "colab": {
          "base_uri": "https://localhost:8080/"
        },
        "id": "opJi7gwQLkK6",
        "outputId": "16570f19-c633-4b03-cc6f-c8855370e783"
      },
      "source": [
        "# Rows and columns\n",
        "data.shape"
      ],
      "execution_count": null,
      "outputs": [
        {
          "output_type": "execute_result",
          "data": {
            "text/plain": [
              "(566602, 23)"
            ]
          },
          "metadata": {
            "tags": []
          },
          "execution_count": 82
        }
      ]
    },
    {
      "cell_type": "markdown",
      "metadata": {
        "id": "-okN3ImdXE4y"
      },
      "source": [
        "# **IV. Data Visualization**"
      ]
    },
    {
      "cell_type": "markdown",
      "metadata": {
        "id": "fTz1tKyf9KNb"
      },
      "source": [
        "**A. Count Plot**"
      ]
    },
    {
      "cell_type": "markdown",
      "metadata": {
        "id": "Keu8m3cp2dhm"
      },
      "source": [
        "**1. Covid Test Result**"
      ]
    },
    {
      "cell_type": "code",
      "metadata": {
        "colab": {
          "base_uri": "https://localhost:8080/",
          "height": 553
        },
        "id": "o2LBZIbIL4R7",
        "outputId": "0768c7a3-ad62-4748-deb9-3da8f1bc1374"
      },
      "source": [
        "plt.figure(figsize = (8,8))\n",
        "c=sns.countplot(x='chance', data=data)\n",
        "plt.xticks(rotation=360)\n",
        "plt.xlabel('Covid-19 test results \\n \\n Case Positivity Rate: {0:0.2f}%'.format(data['chance'].value_counts(normalize=True)[1]*100), size=15)\n",
        "plt.ylabel('no of cases')\n",
        "plt.title('Countplot of Covid-19 test Results')\n",
        "plt.show()"
      ],
      "execution_count": null,
      "outputs": [
        {
          "output_type": "display_data",
          "data": {
            "image/png": "[encoded data removed]",
            "text/plain": [
              "<Figure size 576x576 with 1 Axes>"
            ]
          },
          "metadata": {
            "tags": [],
            "needs_background": "light"
          }
        }
      ]
    },
    {
      "cell_type": "markdown",
      "metadata": {
        "id": "p8VDUyHS2_AF"
      },
      "source": [
        "**2. Gender**"
      ]
    },
    {
      "cell_type": "code",
      "metadata": {
        "id": "bZI3APJ6aqo1"
      },
      "source": [
        "# COVID-19 Positive cases\n",
        "gender_pos=data[data['chance']=='positive']"
      ],
      "execution_count": null,
      "outputs": []
    },
    {
      "cell_type": "code",
      "metadata": {
        "colab": {
          "base_uri": "https://localhost:8080/",
          "height": 225
        },
        "id": "y-KnYYeuaqo2",
        "outputId": "bc3dcbb3-3b32-4fb8-c812-7658e0bc3e17"
      },
      "source": [
        "# Resetting idex\n",
        "gender_pos.reset_index(drop=True, inplace=True)\n",
        "gender_pos.head()"
      ],
      "execution_count": null,
      "outputs": [
        {
          "output_type": "execute_result",
          "data": {
            "text/html": [
              "<div>\n",
              "<style scoped>\n",
              "    .dataframe tbody tr th:only-of-type {\n",
              "        vertical-align: middle;\n",
              "    }\n",
              "\n",
              "    .dataframe tbody tr th {\n",
              "        vertical-align: top;\n",
              "    }\n",
              "\n",
              "    .dataframe thead th {\n",
              "        text-align: right;\n",
              "    }\n",
              "</style>\n",
              "<table border=\"1\" class=\"dataframe\">\n",
              "  <thead>\n",
              "    <tr style=\"text-align: right;\">\n",
              "      <th></th>\n",
              "      <th>id</th>\n",
              "      <th>sex</th>\n",
              "      <th>patient_type</th>\n",
              "      <th>entry_date</th>\n",
              "      <th>date_symptoms</th>\n",
              "      <th>Deceased</th>\n",
              "      <th>intubated</th>\n",
              "      <th>pneumonia</th>\n",
              "      <th>age</th>\n",
              "      <th>pregnancy</th>\n",
              "      <th>diabetes</th>\n",
              "      <th>copd</th>\n",
              "      <th>asthma</th>\n",
              "      <th>imnsupr</th>\n",
              "      <th>hypertension</th>\n",
              "      <th>other_disease</th>\n",
              "      <th>cardiovascular</th>\n",
              "      <th>obesity</th>\n",
              "      <th>renal_chronic</th>\n",
              "      <th>tobacco</th>\n",
              "      <th>contact_other_covid</th>\n",
              "      <th>chance</th>\n",
              "      <th>icu</th>\n",
              "    </tr>\n",
              "  </thead>\n",
              "  <tbody>\n",
              "    <tr>\n",
              "      <th>0</th>\n",
              "      <td>16169f</td>\n",
              "      <td>Male</td>\n",
              "      <td>Yes</td>\n",
              "      <td>2020-04-05</td>\n",
              "      <td>2020-02-05</td>\n",
              "      <td>No</td>\n",
              "      <td>NaN</td>\n",
              "      <td>No</td>\n",
              "      <td>27.0</td>\n",
              "      <td>NaN</td>\n",
              "      <td>No</td>\n",
              "      <td>No</td>\n",
              "      <td>No</td>\n",
              "      <td>No</td>\n",
              "      <td>No</td>\n",
              "      <td>No</td>\n",
              "      <td>No</td>\n",
              "      <td>No</td>\n",
              "      <td>No</td>\n",
              "      <td>No</td>\n",
              "      <td>No</td>\n",
              "      <td>positive</td>\n",
              "      <td>NaN</td>\n",
              "    </tr>\n",
              "    <tr>\n",
              "      <th>1</th>\n",
              "      <td>1009bf</td>\n",
              "      <td>Male</td>\n",
              "      <td>Yes</td>\n",
              "      <td>2020-03-19</td>\n",
              "      <td>2020-03-17</td>\n",
              "      <td>No</td>\n",
              "      <td>NaN</td>\n",
              "      <td>No</td>\n",
              "      <td>24.0</td>\n",
              "      <td>NaN</td>\n",
              "      <td>No</td>\n",
              "      <td>No</td>\n",
              "      <td>No</td>\n",
              "      <td>No</td>\n",
              "      <td>No</td>\n",
              "      <td>No</td>\n",
              "      <td>No</td>\n",
              "      <td>No</td>\n",
              "      <td>No</td>\n",
              "      <td>No</td>\n",
              "      <td>NaN</td>\n",
              "      <td>positive</td>\n",
              "      <td>NaN</td>\n",
              "    </tr>\n",
              "    <tr>\n",
              "      <th>2</th>\n",
              "      <td>167386</td>\n",
              "      <td>Female</td>\n",
              "      <td>No</td>\n",
              "      <td>2020-06-04</td>\n",
              "      <td>2020-01-04</td>\n",
              "      <td>No</td>\n",
              "      <td>No</td>\n",
              "      <td>No</td>\n",
              "      <td>54.0</td>\n",
              "      <td>No</td>\n",
              "      <td>No</td>\n",
              "      <td>No</td>\n",
              "      <td>No</td>\n",
              "      <td>No</td>\n",
              "      <td>No</td>\n",
              "      <td>No</td>\n",
              "      <td>No</td>\n",
              "      <td>Yes</td>\n",
              "      <td>No</td>\n",
              "      <td>No</td>\n",
              "      <td>NaN</td>\n",
              "      <td>positive</td>\n",
              "      <td>No</td>\n",
              "    </tr>\n",
              "    <tr>\n",
              "      <th>3</th>\n",
              "      <td>0b5948</td>\n",
              "      <td>Male</td>\n",
              "      <td>No</td>\n",
              "      <td>2020-04-17</td>\n",
              "      <td>2020-10-04</td>\n",
              "      <td>No</td>\n",
              "      <td>No</td>\n",
              "      <td>Yes</td>\n",
              "      <td>30.0</td>\n",
              "      <td>NaN</td>\n",
              "      <td>No</td>\n",
              "      <td>No</td>\n",
              "      <td>No</td>\n",
              "      <td>No</td>\n",
              "      <td>No</td>\n",
              "      <td>No</td>\n",
              "      <td>No</td>\n",
              "      <td>No</td>\n",
              "      <td>No</td>\n",
              "      <td>No</td>\n",
              "      <td>NaN</td>\n",
              "      <td>positive</td>\n",
              "      <td>No</td>\n",
              "    </tr>\n",
              "    <tr>\n",
              "      <th>4</th>\n",
              "      <td>0d01b5</td>\n",
              "      <td>Female</td>\n",
              "      <td>No</td>\n",
              "      <td>2020-04-13</td>\n",
              "      <td>2020-04-13</td>\n",
              "      <td>Yes</td>\n",
              "      <td>No</td>\n",
              "      <td>No</td>\n",
              "      <td>60.0</td>\n",
              "      <td>No</td>\n",
              "      <td>Yes</td>\n",
              "      <td>No</td>\n",
              "      <td>No</td>\n",
              "      <td>No</td>\n",
              "      <td>Yes</td>\n",
              "      <td>No</td>\n",
              "      <td>Yes</td>\n",
              "      <td>No</td>\n",
              "      <td>No</td>\n",
              "      <td>No</td>\n",
              "      <td>NaN</td>\n",
              "      <td>positive</td>\n",
              "      <td>No</td>\n",
              "    </tr>\n",
              "  </tbody>\n",
              "</table>\n",
              "</div>"
            ],
            "text/plain": [
              "       id     sex patient_type  ... contact_other_covid    chance  icu\n",
              "0  16169f    Male          Yes  ...                  No  positive  NaN\n",
              "1  1009bf    Male          Yes  ...                 NaN  positive  NaN\n",
              "2  167386  Female           No  ...                 NaN  positive   No\n",
              "3  0b5948    Male           No  ...                 NaN  positive   No\n",
              "4  0d01b5  Female           No  ...                 NaN  positive   No\n",
              "\n",
              "[5 rows x 23 columns]"
            ]
          },
          "metadata": {
            "tags": []
          },
          "execution_count": 85
        }
      ]
    },
    {
      "cell_type": "code",
      "metadata": {
        "colab": {
          "base_uri": "https://localhost:8080/",
          "height": 589
        },
        "id": "YfnTsf2EHbw6",
        "outputId": "a198875e-4242-4c6c-bd72-9b8ff88b38ca"
      },
      "source": [
        "# Cpount plot\n",
        "plt.figure(figsize = (8,8))\n",
        "s=sns.countplot(x='sex', data=data, hue=data['chance'])\n",
        "s.set_xticklabels(labels = ['Male','Female'], )\n",
        "plt.title('Countplot of Gender of Patients', fontsize=15)\n",
        "plt.xlabel('Sex \\n \\n Case Positivity Rate for male: {0:0.2f}% \\n \\n Case Positivity Rate for female:  {1:0.2f}%'.format(gender_pos['sex'].value_counts(normalize=True)[0]*100, gender_pos['sex'].value_counts(normalize=True)[1]*100), fontsize=15)\n",
        "plt.ylabel('no of cases') \n",
        "plt.show()"
      ],
      "execution_count": null,
      "outputs": [
        {
          "output_type": "display_data",
          "data": {
            "image/png": "[encoded data removed]",
            "text/plain": [
              "<Figure size 576x576 with 1 Axes>"
            ]
          },
          "metadata": {
            "tags": [],
            "needs_background": "light"
          }
        }
      ]
    },
    {
      "cell_type": "markdown",
      "metadata": {
        "id": "vTcwbbhHYu2F"
      },
      "source": [
        "Observation: Male case postivity rate  is slightly higher than of female case positivity, yet they are comparable."
      ]
    },
    {
      "cell_type": "markdown",
      "metadata": {
        "id": "cQeTU0Es3nMg"
      },
      "source": [
        "**3. Intubation**"
      ]
    },
    {
      "cell_type": "code",
      "metadata": {
        "colab": {
          "base_uri": "https://localhost:8080/",
          "height": 515
        },
        "id": "A5ZwWqzaqkwR",
        "outputId": "f5ac4bec-c2f8-4c2b-846c-6432e3770e26"
      },
      "source": [
        "plt.figure(figsize = (8,8))\n",
        "i=sns.countplot(x='intubated', data=data, hue=data['chance'])\n",
        "i.set_xticklabels(labels = ['patient not using ventilator','patient using ventilator'], rotation=360)\n",
        "plt.title('Countplot of Intubation', fontsize=15)\n",
        "plt.xlabel('Intubation')\n",
        "plt.ylabel('no of patients')\n",
        "plt.show()"
      ],
      "execution_count": null,
      "outputs": [
        {
          "output_type": "display_data",
          "data": {
            "image/png": "[encoded data removed]",
            "text/plain": [
              "<Figure size 576x576 with 1 Axes>"
            ]
          },
          "metadata": {
            "tags": [],
            "needs_background": "light"
          }
        }
      ]
    },
    {
      "cell_type": "markdown",
      "metadata": {
        "id": "Gq4g_Q7KYiCJ"
      },
      "source": [
        "Observation: Even without intubations, there are a lot of patients who are COVID +ve. This goes to show that only a few patients with infection have severe requirement of intubations which are basically external respiratory devices."
      ]
    },
    {
      "cell_type": "markdown",
      "metadata": {
        "id": "Cl_lupWP33b_"
      },
      "source": [
        "**4. Pneumonia**"
      ]
    },
    {
      "cell_type": "code",
      "metadata": {
        "colab": {
          "base_uri": "https://localhost:8080/",
          "height": 515
        },
        "id": "QQ4sROAY33cB",
        "outputId": "7cd88eec-2b0b-4b2a-de63-72d0e3f3e8de"
      },
      "source": [
        "plt.figure(figsize = (8,8))\n",
        "p=sns.countplot(x='pneumonia', data=data, hue=data['chance'])\n",
        "plt.title('Countplot of Pneumonia', fontsize=15)\n",
        "p.set_xticklabels(labels = [\"patient not having pneumonia\",\"patient having pneumonia\"], rotation = 360)\n",
        "plt.xlabel('Pneumonia')\n",
        "plt.ylabel('no of patients')\n",
        "plt.show()"
      ],
      "execution_count": null,
      "outputs": [
        {
          "output_type": "display_data",
          "data": {
            "image/png": "[encoded data removed]",
            "text/plain": [
              "<Figure size 576x576 with 1 Axes>"
            ]
          },
          "metadata": {
            "tags": [],
            "needs_background": "light"
          }
        }
      ]
    },
    {
      "cell_type": "markdown",
      "metadata": {
        "id": "yBhIv1tbls1I"
      },
      "source": [
        "Observation: Even without Pneumonia, there are a lot of patients who are COVID +ve.\n",
        "\n",
        "*   List item\n",
        "*   List item\n",
        "\n"
      ]
    },
    {
      "cell_type": "markdown",
      "metadata": {
        "id": "f0M77Ajdn1rb"
      },
      "source": [
        "**5. Pregnancy**"
      ]
    },
    {
      "cell_type": "code",
      "metadata": {
        "colab": {
          "base_uri": "https://localhost:8080/",
          "height": 515
        },
        "id": "LUfQydY42jTd",
        "outputId": "5af308f2-d9fe-46f8-9dc3-b8ff72f7eead"
      },
      "source": [
        "plt.figure(figsize = (8,8))\n",
        "g=sns.countplot(x='pregnancy', data=data, hue=data['chance'])\n",
        "plt.title('Countplot of Pregnancy', fontsize=15)\n",
        "g.set_xticklabels(labels = ['Not pregnant','pregnant'], rotation = 360)\n",
        "plt.xlabel('Pregnancy')\n",
        "plt.ylabel('no of patients')\n",
        "plt.show()"
      ],
      "execution_count": null,
      "outputs": [
        {
          "output_type": "display_data",
          "data": {
            "image/png": "[encoded data removed]",
            "text/plain": [
              "<Figure size 576x576 with 1 Axes>"
            ]
          },
          "metadata": {
            "tags": [],
            "needs_background": "light"
          }
        }
      ]
    },
    {
      "cell_type": "markdown",
      "metadata": {
        "id": "Y-WSOdQVmBQD"
      },
      "source": [
        "Observation: Even without pregnancy, there are a lot of patients who are COVID +ve.\n"
      ]
    },
    {
      "cell_type": "markdown",
      "metadata": {
        "id": "YcUUN3eT4a7X"
      },
      "source": [
        "**6. Chronic Obstructive Pulmonary Disease (COPD)**"
      ]
    },
    {
      "cell_type": "code",
      "metadata": {
        "colab": {
          "base_uri": "https://localhost:8080/",
          "height": 515
        },
        "id": "eRUvSh03lPXm",
        "outputId": "3d21f154-f2d1-4418-c5dd-1b7687715da1"
      },
      "source": [
        "plt.figure(figsize = (8,8))\n",
        "c=sns.countplot(x='copd', data=data, hue=data['chance'])\n",
        "plt.title('Countplot of COPD', fontsize=15)\n",
        "c.set_xticklabels(labels = [\"Patient has no COPD\",\"Patient has COPD\"], rotation = 360)\n",
        "plt.xlabel('COPD')\n",
        "plt.ylabel('no of patients')\n",
        "plt.show()"
      ],
      "execution_count": null,
      "outputs": [
        {
          "output_type": "display_data",
          "data": {
            "image/png": "[encoded data removed]",
            "text/plain": [
              "<Figure size 576x576 with 1 Axes>"
            ]
          },
          "metadata": {
            "tags": [],
            "needs_background": "light"
          }
        }
      ]
    },
    {
      "cell_type": "markdown",
      "metadata": {
        "id": "CEsLlDVymJjb"
      },
      "source": [
        "Observation: Even without COPD, there are a lot of patients who are COVID +ve.\n"
      ]
    },
    {
      "cell_type": "markdown",
      "metadata": {
        "id": "0-TENEDZoUKk"
      },
      "source": [
        "**7. Asthma**"
      ]
    },
    {
      "cell_type": "code",
      "metadata": {
        "colab": {
          "base_uri": "https://localhost:8080/",
          "height": 515
        },
        "id": "m2c9hMYIqXiE",
        "outputId": "a665b8d6-7998-4ce3-f73f-64d3279745d1"
      },
      "source": [
        "plt.figure(figsize = (8,8))\n",
        "a=sns.countplot(x='asthma', data=data, hue=data['chance'])\n",
        "plt.title('Countplot of Asthma', fontsize=15)\n",
        "a.set_xticklabels(labels = [\"Patient has no Asthma\",\"Patient has Asthma\"], rotation=360)\n",
        "plt.xlabel('Asthma')\n",
        "plt.ylabel('no of patients')\n",
        "plt.show()"
      ],
      "execution_count": null,
      "outputs": [
        {
          "output_type": "display_data",
          "data": {
            "image/png": "[encoded data removed]",
            "text/plain": [
              "<Figure size 576x576 with 1 Axes>"
            ]
          },
          "metadata": {
            "tags": [],
            "needs_background": "light"
          }
        }
      ]
    },
    {
      "cell_type": "markdown",
      "metadata": {
        "id": "HvgwqTaKmN4f"
      },
      "source": [
        "Observation: Even without Asthma, there are a lot of patients who are COVID +ve.\n"
      ]
    },
    {
      "cell_type": "markdown",
      "metadata": {
        "id": "kYPm_I-Ot7uG"
      },
      "source": [
        "**8. Immunosuppression**"
      ]
    },
    {
      "cell_type": "code",
      "metadata": {
        "colab": {
          "base_uri": "https://localhost:8080/",
          "height": 523
        },
        "id": "v2NWrzYmvK5P",
        "outputId": "c9f8fb01-fc64-4f5f-9466-9c34e520090b"
      },
      "source": [
        "plt.figure(figsize=(8,8))\n",
        "m=sns.countplot(x='imnsupr', data=data, hue=data['chance'])\n",
        "plt.title('Countplot of Immunosuppression', fontsize=15)\n",
        "m.set_xticklabels(labels=[\"Patient is not immunosuppressed\",\"Patient is immunosuppressed\",], rotation=360, size=13)\n",
        "plt.xlabel('Immunosuppression', fontsize=15)\n",
        "plt.ylabel('no of patients', fontsize=15)\n",
        "plt.show()"
      ],
      "execution_count": null,
      "outputs": [
        {
          "output_type": "display_data",
          "data": {
            "image/png": "[encoded data removed]",
            "text/plain": [
              "<Figure size 576x576 with 1 Axes>"
            ]
          },
          "metadata": {
            "tags": [],
            "needs_background": "light"
          }
        }
      ]
    },
    {
      "cell_type": "markdown",
      "metadata": {
        "id": "LuQsMywamRdZ"
      },
      "source": [
        "Observation: Even without immunosuppression, there are a lot of patients who are COVID +ve.\n"
      ]
    },
    {
      "cell_type": "markdown",
      "metadata": {
        "id": "EtaOyQnS0OD5"
      },
      "source": [
        "**9. Hypertension**"
      ]
    },
    {
      "cell_type": "code",
      "metadata": {
        "colab": {
          "base_uri": "https://localhost:8080/",
          "height": 518
        },
        "id": "tBD6GiCT01Jq",
        "outputId": "a0e797a0-85b4-44b1-8495-85b7a28a4f60"
      },
      "source": [
        "plt.figure(figsize = (8,8))\n",
        "h=sns.countplot(x='hypertension', data=data, hue=data['chance'])\n",
        "plt.title('Countplot of Hypertension', fontsize=15)\n",
        "h.set_xticklabels(labels = [\"Patien thas no hypertension\",\"Patient has hypertension\"], rotation=360,size=13)\n",
        "plt.xlabel('No of patients hypertension or not')\n",
        "plt.ylabel('no of patients')\n",
        "plt.show()"
      ],
      "execution_count": null,
      "outputs": [
        {
          "output_type": "display_data",
          "data": {
            "image/png": "[encoded data removed]",
            "text/plain": [
              "<Figure size 576x576 with 1 Axes>"
            ]
          },
          "metadata": {
            "tags": [],
            "needs_background": "light"
          }
        }
      ]
    },
    {
      "cell_type": "markdown",
      "metadata": {
        "id": "2hakbLrsnDZ6"
      },
      "source": [
        "Observation: Even without hypertension, there are a lot of patients who are COVID +ve.\n"
      ]
    },
    {
      "cell_type": "markdown",
      "metadata": {
        "id": "u0oJQq-x-S6e"
      },
      "source": [
        "**10. Other diseases**"
      ]
    },
    {
      "cell_type": "code",
      "metadata": {
        "colab": {
          "base_uri": "https://localhost:8080/",
          "height": 515
        },
        "id": "fndBJNl9_vNl",
        "outputId": "536058a2-7782-45f9-d177-740571f23117"
      },
      "source": [
        "plt.figure(figsize = (8,8))\n",
        "o=sns.countplot(x='other_disease', data=data, hue=data['chance'])\n",
        "plt.title('Countplot of Other Diseases', fontsize=15)\n",
        "o.set_xticklabels(labels = [\"Patient has no another disease\",\"Patient has another disease\"], rotation=360)\n",
        "plt.xlabel('Other diseases')\n",
        "plt.ylabel('no of patients')\n",
        "plt.show()"
      ],
      "execution_count": null,
      "outputs": [
        {
          "output_type": "display_data",
          "data": {
            "image/png": "[encoded data removed]",
            "text/plain": [
              "<Figure size 576x576 with 1 Axes>"
            ]
          },
          "metadata": {
            "tags": [],
            "needs_background": "light"
          }
        }
      ]
    },
    {
      "cell_type": "markdown",
      "metadata": {
        "id": "s1520xJNnH3r"
      },
      "source": [
        "Observation: Even without any underlying disease, there are a lot of patients who are COVID +ve.\n"
      ]
    },
    {
      "cell_type": "markdown",
      "metadata": {
        "id": "igstV8y8BBVB"
      },
      "source": [
        "**11. Cardiovascular Diseases**"
      ]
    },
    {
      "cell_type": "code",
      "metadata": {
        "colab": {
          "base_uri": "https://localhost:8080/",
          "height": 515
        },
        "id": "3T660OqW_u_h",
        "outputId": "b67425a2-c1e1-4d05-a706-f9c275431300"
      },
      "source": [
        "plt.figure(figsize = (8,8))\n",
        "c=sns.countplot(x='cardiovascular', data=data, hue=data['chance'])\n",
        "plt.title('Countplot of Cardiovascular Diseases', fontsize=15)\n",
        "c.set_xticklabels(labels = [\"Patient has no cardiovascular diseases\",\"Patient has cardiovascular diseases\"], rotation=360)\n",
        "plt.xlabel('Cardovascular Diseases')\n",
        "plt.ylabel('no of patients')\n",
        "plt.show()"
      ],
      "execution_count": null,
      "outputs": [
        {
          "output_type": "display_data",
          "data": {
            "image/png": "[encoded data removed]",
            "text/plain": [
              "<Figure size 576x576 with 1 Axes>"
            ]
          },
          "metadata": {
            "tags": [],
            "needs_background": "light"
          }
        }
      ]
    },
    {
      "cell_type": "markdown",
      "metadata": {
        "id": "5SsIyUXwnVP5"
      },
      "source": [
        "Observation: Even without cardiovascular diseases, there are a lot of patients who are COVID +ve."
      ]
    },
    {
      "cell_type": "markdown",
      "metadata": {
        "id": "wsByTQiFDW-D"
      },
      "source": [
        "**12. Obesity**"
      ]
    },
    {
      "cell_type": "code",
      "metadata": {
        "colab": {
          "base_uri": "https://localhost:8080/",
          "height": 515
        },
        "id": "GHoJ-o8O_u48",
        "outputId": "c28d715f-3ae0-4e6b-d37a-f2c00b971bc8"
      },
      "source": [
        "plt.figure(figsize = (8,8))\n",
        "o=sns.countplot(x='obesity', data=data, hue=data['chance'])\n",
        "o.set_xticklabels(labels = [\"Patient is not obese\",\"Patient is obese\"], rotation=360)\n",
        "plt.title('Countplot of Obesity', fontsize=15)\n",
        "plt.xlabel('Obesity')\n",
        "plt.ylabel('no of patients')\n",
        "plt.show()"
      ],
      "execution_count": null,
      "outputs": [
        {
          "output_type": "display_data",
          "data": {
            "image/png": "[encoded data removed]",
            "text/plain": [
              "<Figure size 576x576 with 1 Axes>"
            ]
          },
          "metadata": {
            "tags": [],
            "needs_background": "light"
          }
        }
      ]
    },
    {
      "cell_type": "markdown",
      "metadata": {
        "id": "moLXwGIZne4B"
      },
      "source": [
        "Observation: There are a lot of patients who are not obese yet COVID +ve."
      ]
    },
    {
      "cell_type": "markdown",
      "metadata": {
        "id": "e2Z3mwMa_9Df"
      },
      "source": [
        "**13. Renal Chronic Diseases**"
      ]
    },
    {
      "cell_type": "code",
      "metadata": {
        "colab": {
          "base_uri": "https://localhost:8080/",
          "height": 515
        },
        "id": "WsFdf840_uyJ",
        "outputId": "0e8e36a9-2d28-4142-f0a5-895ce0794f8e"
      },
      "source": [
        "plt.figure(figsize = (8,8))\n",
        "r=sns.countplot(x='renal_chronic', data=data, hue=data['chance'])\n",
        "plt.title('Countplot of Renal Chronic Diseases', fontsize=15)\n",
        "r.set_xticklabels(labels = [\"Patient having no renel problem\",\"Patient having renel problem\"], rotation=360)\n",
        "plt.xlabel('Renal Chronic Diseases')\n",
        "plt.ylabel('no of patients')\n",
        "plt.show()"
      ],
      "execution_count": null,
      "outputs": [
        {
          "output_type": "display_data",
          "data": {
            "image/png": "[encoded data removed]",
            "text/plain": [
              "<Figure size 576x576 with 1 Axes>"
            ]
          },
          "metadata": {
            "tags": [],
            "needs_background": "light"
          }
        }
      ]
    },
    {
      "cell_type": "markdown",
      "metadata": {
        "id": "1P4dl_BnpA5d"
      },
      "source": [
        "Observation: Even without any renal chronic disease, there are a lot of patients who are COVID +ve.\n"
      ]
    },
    {
      "cell_type": "markdown",
      "metadata": {
        "id": "DXaGFcPw_uup"
      },
      "source": [
        "**14. Diabetes**"
      ]
    },
    {
      "cell_type": "code",
      "metadata": {
        "colab": {
          "base_uri": "https://localhost:8080/",
          "height": 515
        },
        "id": "e7F-V8rg_urv",
        "outputId": "2c20c4e3-7846-409f-b8d4-f620f4731fd3"
      },
      "source": [
        "plt.figure(figsize=(8,8))\n",
        "d=sns.countplot(x='diabetes', data=data, hue=data['chance'])\n",
        "plt.title('Countplot of Diabetes', fontsize=15)\n",
        "d.set_xticklabels(labels=['Pateint has no diabetes', 'patient has diabetes'], rotation=360)\n",
        "plt.xlabel('Diabetes')\n",
        "plt.ylabel('no. of patients')\n",
        "plt.show()"
      ],
      "execution_count": null,
      "outputs": [
        {
          "output_type": "display_data",
          "data": {
            "image/png": "[encoded data removed]",
            "text/plain": [
              "<Figure size 576x576 with 1 Axes>"
            ]
          },
          "metadata": {
            "tags": [],
            "needs_background": "light"
          }
        }
      ]
    },
    {
      "cell_type": "markdown",
      "metadata": {
        "id": "A0X6XGbipHoZ"
      },
      "source": [
        "Observation: Even without diabetes, there are a lot of patients who are COVID +ve."
      ]
    },
    {
      "cell_type": "markdown",
      "metadata": {
        "id": "5LiVma7S_unk"
      },
      "source": [
        "**15. Tobacco**"
      ]
    },
    {
      "cell_type": "code",
      "metadata": {
        "colab": {
          "base_uri": "https://localhost:8080/",
          "height": 515
        },
        "id": "-AS0XTR0_ujx",
        "outputId": "a0742f87-f128-44f5-a90e-fe40caebf2c2"
      },
      "source": [
        "plt.figure(figsize=(8,8))\n",
        "t=sns.countplot(x='tobacco', data=data, hue=data['chance'])\n",
        "plt.title('Countplot of Tobacco', fontsize=15)\n",
        "t.set_xticklabels(labels=['patient is not a tobacco user', 'patient is a tobacco user'], rotation=360)\n",
        "plt.xlabel('Tobacco')\n",
        "plt.ylabel('no. of patients')\n",
        "plt.show()"
      ],
      "execution_count": null,
      "outputs": [
        {
          "output_type": "display_data",
          "data": {
            "image/png": "[encoded data removed]",
            "text/plain": [
              "<Figure size 576x576 with 1 Axes>"
            ]
          },
          "metadata": {
            "tags": [],
            "needs_background": "light"
          }
        }
      ]
    },
    {
      "cell_type": "markdown",
      "metadata": {
        "id": "pZ-DuP-4nyHb"
      },
      "source": [
        "Observation: There are a lot of non tobacco users who are COVID +ve."
      ]
    },
    {
      "cell_type": "markdown",
      "metadata": {
        "id": "bRtPrMDX_udJ"
      },
      "source": [
        "**16. Contact with other COVID-19 Patients**"
      ]
    },
    {
      "cell_type": "code",
      "metadata": {
        "colab": {
          "base_uri": "https://localhost:8080/",
          "height": 515
        },
        "id": "nVKEHwh0_uZu",
        "outputId": "afceb2ce-b268-4930-de3a-f838a0e5934a"
      },
      "source": [
        "plt.figure(figsize=(8,8))\n",
        "x=sns.countplot(x='contact_other_covid', data=data, hue=data['chance'])\n",
        "plt.title('Countplot of patients contacted other covid-19 patients', fontsize=15)\n",
        "plt.xticks(rotation=360)\n",
        "plt.xlabel('Contacted other Covid-19 patients')\n",
        "plt.ylabel('no. of patients')\n",
        "plt.show()"
      ],
      "execution_count": null,
      "outputs": [
        {
          "output_type": "display_data",
          "data": {
            "image/png": "[encoded data removed]",
            "text/plain": [
              "<Figure size 576x576 with 1 Axes>"
            ]
          },
          "metadata": {
            "tags": [],
            "needs_background": "light"
          }
        }
      ]
    },
    {
      "cell_type": "markdown",
      "metadata": {
        "id": "soIyW-CYY4nA"
      },
      "source": [
        "**17. ICU**"
      ]
    },
    {
      "cell_type": "code",
      "metadata": {
        "colab": {
          "base_uri": "https://localhost:8080/",
          "height": 515
        },
        "id": "gHb7Jo9fZAT-",
        "outputId": "02a03999-2db3-4749-c56b-bec3642ff502"
      },
      "source": [
        "plt.figure(figsize=(8,8))\n",
        "icu=sns.countplot(x='icu', data=data, hue=data['chance'])\n",
        "plt.title('Countplot of ICU Admission', fontsize=15)\n",
        "icu.set_xticklabels(labels=['Not admitted in ICU','Admitted in ICU', 'Unspecified'], rotation=360)\n",
        "plt.xlabel('ICU')\n",
        "plt.ylabel('no. of patients')\n",
        "plt.show()"
      ],
      "execution_count": null,
      "outputs": [
        {
          "output_type": "display_data",
          "data": {
            "image/png": "[encoded data removed]",
            "text/plain": [
              "<Figure size 576x576 with 1 Axes>"
            ]
          },
          "metadata": {
            "tags": [],
            "needs_background": "light"
          }
        }
      ]
    },
    {
      "cell_type": "markdown",
      "metadata": {
        "id": "Ng-mC26opW8W"
      },
      "source": [
        "Observation: Only a few COVID_19 patients are admitted in ICU"
      ]
    },
    {
      "cell_type": "markdown",
      "metadata": {
        "id": "2cnspHWVaD9N"
      },
      "source": [
        "**18. Deceased Patients**"
      ]
    },
    {
      "cell_type": "code",
      "metadata": {
        "colab": {
          "base_uri": "https://localhost:8080/",
          "height": 515
        },
        "id": "w5LWM8UiaOiP",
        "outputId": "297a502b-bc77-4c6b-ac6c-81941cc386db"
      },
      "source": [
        "plt.figure(figsize=(8,8))\n",
        "dd=sns.countplot(x='Deceased', data=data, hue=data['chance'])\n",
        "plt.title('Countplot of Patients Dead and Alive', fontsize=15)\n",
        "dd.set_xticklabels(labels=['alive', 'dead'], rotation=360)\n",
        "plt.xlabel('Deceased')\n",
        "plt.ylabel('no. of patients')\n",
        "plt.show()"
      ],
      "execution_count": null,
      "outputs": [
        {
          "output_type": "display_data",
          "data": {
            "image/png": "[encoded data removed]",
            "text/plain": [
              "<Figure size 576x576 with 1 Axes>"
            ]
          },
          "metadata": {
            "tags": [],
            "needs_background": "light"
          }
        }
      ]
    },
    {
      "cell_type": "markdown",
      "metadata": {
        "id": "9qSLspjzqGbc"
      },
      "source": [
        "Observation: Only a few COVID-19 Patients have been succumbed to death\n"
      ]
    },
    {
      "cell_type": "markdown",
      "metadata": {
        "id": "U6vmHukd-ywI"
      },
      "source": [
        "**20 Intubated VS Pneumonia**"
      ]
    },
    {
      "cell_type": "code",
      "metadata": {
        "colab": {
          "base_uri": "https://localhost:8080/",
          "height": 533
        },
        "id": "vqH7x4wv3ao6",
        "outputId": "d20ddd8a-b1d3-4ab7-fdfb-198ac81115b3"
      },
      "source": [
        "# Count plot\n",
        "plt.figure(figsize=(8,8))\n",
        "sns.countplot(x='intubated',data=data, hue=data['pneumonia'])\n",
        "plt.title('Intubated VS Pneumonia', fontsize=15)"
      ],
      "execution_count": null,
      "outputs": [
        {
          "output_type": "execute_result",
          "data": {
            "text/plain": [
              "Text(0.5, 1.0, 'Intubated VS Pneumonia')"
            ]
          },
          "metadata": {
            "tags": []
          },
          "execution_count": 103
        },
        {
          "output_type": "display_data",
          "data": {
            "image/png": "[encoded data removed]",
            "text/plain": [
              "<Figure size 576x576 with 1 Axes>"
            ]
          },
          "metadata": {
            "tags": [],
            "needs_background": "light"
          }
        }
      ]
    },
    {
      "cell_type": "markdown",
      "metadata": {
        "id": "NWDVMSrHqjNk"
      },
      "source": [
        "Observation: Most of the intubated patients have Pneumonia eventhough not all the patients with pneumonia were intubated"
      ]
    },
    {
      "cell_type": "markdown",
      "metadata": {
        "id": "O_mIOdA5q3iE"
      },
      "source": [
        "**21. Fatality Rate for COVID-19 Positive intubated Patients**"
      ]
    },
    {
      "cell_type": "code",
      "metadata": {
        "colab": {
          "base_uri": "https://localhost:8080/",
          "height": 225
        },
        "id": "cn1b4IP0DemP",
        "outputId": "ebbf4837-4904-40a2-9cd8-3ce7c4b9dd3a"
      },
      "source": [
        "# Intubated cases\n",
        "intubated=data[data['intubated']=='Yes']# Resetting Index\n",
        "intubated.reset_index(drop=True, inplace=True)\n",
        "intubated.head()"
      ],
      "execution_count": null,
      "outputs": [
        {
          "output_type": "execute_result",
          "data": {
            "text/html": [
              "<div>\n",
              "<style scoped>\n",
              "    .dataframe tbody tr th:only-of-type {\n",
              "        vertical-align: middle;\n",
              "    }\n",
              "\n",
              "    .dataframe tbody tr th {\n",
              "        vertical-align: top;\n",
              "    }\n",
              "\n",
              "    .dataframe thead th {\n",
              "        text-align: right;\n",
              "    }\n",
              "</style>\n",
              "<table border=\"1\" class=\"dataframe\">\n",
              "  <thead>\n",
              "    <tr style=\"text-align: right;\">\n",
              "      <th></th>\n",
              "      <th>id</th>\n",
              "      <th>sex</th>\n",
              "      <th>patient_type</th>\n",
              "      <th>entry_date</th>\n",
              "      <th>date_symptoms</th>\n",
              "      <th>Deceased</th>\n",
              "      <th>intubated</th>\n",
              "      <th>pneumonia</th>\n",
              "      <th>age</th>\n",
              "      <th>pregnancy</th>\n",
              "      <th>diabetes</th>\n",
              "      <th>copd</th>\n",
              "      <th>asthma</th>\n",
              "      <th>imnsupr</th>\n",
              "      <th>hypertension</th>\n",
              "      <th>other_disease</th>\n",
              "      <th>cardiovascular</th>\n",
              "      <th>obesity</th>\n",
              "      <th>renal_chronic</th>\n",
              "      <th>tobacco</th>\n",
              "      <th>contact_other_covid</th>\n",
              "      <th>chance</th>\n",
              "      <th>icu</th>\n",
              "    </tr>\n",
              "  </thead>\n",
              "  <tbody>\n",
              "    <tr>\n",
              "      <th>0</th>\n",
              "      <td>006b91</td>\n",
              "      <td>Female</td>\n",
              "      <td>No</td>\n",
              "      <td>2020-04-23</td>\n",
              "      <td>2020-04-18</td>\n",
              "      <td>No</td>\n",
              "      <td>Yes</td>\n",
              "      <td>Yes</td>\n",
              "      <td>39.0</td>\n",
              "      <td>No</td>\n",
              "      <td>No</td>\n",
              "      <td>No</td>\n",
              "      <td>No</td>\n",
              "      <td>No</td>\n",
              "      <td>No</td>\n",
              "      <td>No</td>\n",
              "      <td>No</td>\n",
              "      <td>Yes</td>\n",
              "      <td>No</td>\n",
              "      <td>No</td>\n",
              "      <td>NaN</td>\n",
              "      <td>positive</td>\n",
              "      <td>No</td>\n",
              "    </tr>\n",
              "    <tr>\n",
              "      <th>1</th>\n",
              "      <td>03f45a</td>\n",
              "      <td>Male</td>\n",
              "      <td>No</td>\n",
              "      <td>2020-12-04</td>\n",
              "      <td>2020-07-04</td>\n",
              "      <td>Yes</td>\n",
              "      <td>Yes</td>\n",
              "      <td>Yes</td>\n",
              "      <td>57.0</td>\n",
              "      <td>NaN</td>\n",
              "      <td>No</td>\n",
              "      <td>No</td>\n",
              "      <td>No</td>\n",
              "      <td>No</td>\n",
              "      <td>No</td>\n",
              "      <td>No</td>\n",
              "      <td>No</td>\n",
              "      <td>Yes</td>\n",
              "      <td>No</td>\n",
              "      <td>Yes</td>\n",
              "      <td>No</td>\n",
              "      <td>positive</td>\n",
              "      <td>No</td>\n",
              "    </tr>\n",
              "    <tr>\n",
              "      <th>2</th>\n",
              "      <td>1d5df2</td>\n",
              "      <td>Female</td>\n",
              "      <td>No</td>\n",
              "      <td>2020-08-06</td>\n",
              "      <td>2020-07-06</td>\n",
              "      <td>No</td>\n",
              "      <td>Yes</td>\n",
              "      <td>Yes</td>\n",
              "      <td>67.0</td>\n",
              "      <td>No</td>\n",
              "      <td>Yes</td>\n",
              "      <td>No</td>\n",
              "      <td>No</td>\n",
              "      <td>No</td>\n",
              "      <td>Yes</td>\n",
              "      <td>No</td>\n",
              "      <td>No</td>\n",
              "      <td>Yes</td>\n",
              "      <td>No</td>\n",
              "      <td>No</td>\n",
              "      <td>Yes</td>\n",
              "      <td>positive</td>\n",
              "      <td>No</td>\n",
              "    </tr>\n",
              "    <tr>\n",
              "      <th>3</th>\n",
              "      <td>077c96</td>\n",
              "      <td>Male</td>\n",
              "      <td>No</td>\n",
              "      <td>2020-04-30</td>\n",
              "      <td>2020-04-30</td>\n",
              "      <td>Yes</td>\n",
              "      <td>Yes</td>\n",
              "      <td>Yes</td>\n",
              "      <td>66.0</td>\n",
              "      <td>NaN</td>\n",
              "      <td>No</td>\n",
              "      <td>No</td>\n",
              "      <td>No</td>\n",
              "      <td>No</td>\n",
              "      <td>No</td>\n",
              "      <td>No</td>\n",
              "      <td>No</td>\n",
              "      <td>No</td>\n",
              "      <td>No</td>\n",
              "      <td>No</td>\n",
              "      <td>NaN</td>\n",
              "      <td>positive</td>\n",
              "      <td>Yes</td>\n",
              "    </tr>\n",
              "    <tr>\n",
              "      <th>4</th>\n",
              "      <td>03877c</td>\n",
              "      <td>Female</td>\n",
              "      <td>No</td>\n",
              "      <td>2020-05-20</td>\n",
              "      <td>2020-05-13</td>\n",
              "      <td>Yes</td>\n",
              "      <td>Yes</td>\n",
              "      <td>Yes</td>\n",
              "      <td>52.0</td>\n",
              "      <td>No</td>\n",
              "      <td>No</td>\n",
              "      <td>No</td>\n",
              "      <td>No</td>\n",
              "      <td>No</td>\n",
              "      <td>No</td>\n",
              "      <td>No</td>\n",
              "      <td>No</td>\n",
              "      <td>Yes</td>\n",
              "      <td>No</td>\n",
              "      <td>No</td>\n",
              "      <td>NaN</td>\n",
              "      <td>positive</td>\n",
              "      <td>No</td>\n",
              "    </tr>\n",
              "  </tbody>\n",
              "</table>\n",
              "</div>"
            ],
            "text/plain": [
              "       id     sex patient_type  ... contact_other_covid    chance  icu\n",
              "0  006b91  Female           No  ...                 NaN  positive   No\n",
              "1  03f45a    Male           No  ...                  No  positive   No\n",
              "2  1d5df2  Female           No  ...                 Yes  positive   No\n",
              "3  077c96    Male           No  ...                 NaN  positive  Yes\n",
              "4  03877c  Female           No  ...                 NaN  positive   No\n",
              "\n",
              "[5 rows x 23 columns]"
            ]
          },
          "metadata": {
            "tags": []
          },
          "execution_count": 104
        }
      ]
    },
    {
      "cell_type": "code",
      "metadata": {
        "colab": {
          "base_uri": "https://localhost:8080/",
          "height": 225
        },
        "id": "XlhXFn7CGLHB",
        "outputId": "f68c28de-14ea-478d-da50-60fd44f4c01d"
      },
      "source": [
        "# Intubated COVID-19 positive cases\n",
        "intubated_pos=intubated[intubated['chance']=='positive']\n",
        "# Resetting Index\n",
        "intubated_pos.reset_index(drop=True, inplace=True)\n",
        "intubated_pos.head()"
      ],
      "execution_count": null,
      "outputs": [
        {
          "output_type": "execute_result",
          "data": {
            "text/html": [
              "<div>\n",
              "<style scoped>\n",
              "    .dataframe tbody tr th:only-of-type {\n",
              "        vertical-align: middle;\n",
              "    }\n",
              "\n",
              "    .dataframe tbody tr th {\n",
              "        vertical-align: top;\n",
              "    }\n",
              "\n",
              "    .dataframe thead th {\n",
              "        text-align: right;\n",
              "    }\n",
              "</style>\n",
              "<table border=\"1\" class=\"dataframe\">\n",
              "  <thead>\n",
              "    <tr style=\"text-align: right;\">\n",
              "      <th></th>\n",
              "      <th>id</th>\n",
              "      <th>sex</th>\n",
              "      <th>patient_type</th>\n",
              "      <th>entry_date</th>\n",
              "      <th>date_symptoms</th>\n",
              "      <th>Deceased</th>\n",
              "      <th>intubated</th>\n",
              "      <th>pneumonia</th>\n",
              "      <th>age</th>\n",
              "      <th>pregnancy</th>\n",
              "      <th>diabetes</th>\n",
              "      <th>copd</th>\n",
              "      <th>asthma</th>\n",
              "      <th>imnsupr</th>\n",
              "      <th>hypertension</th>\n",
              "      <th>other_disease</th>\n",
              "      <th>cardiovascular</th>\n",
              "      <th>obesity</th>\n",
              "      <th>renal_chronic</th>\n",
              "      <th>tobacco</th>\n",
              "      <th>contact_other_covid</th>\n",
              "      <th>chance</th>\n",
              "      <th>icu</th>\n",
              "    </tr>\n",
              "  </thead>\n",
              "  <tbody>\n",
              "    <tr>\n",
              "      <th>0</th>\n",
              "      <td>006b91</td>\n",
              "      <td>Female</td>\n",
              "      <td>No</td>\n",
              "      <td>2020-04-23</td>\n",
              "      <td>2020-04-18</td>\n",
              "      <td>No</td>\n",
              "      <td>Yes</td>\n",
              "      <td>Yes</td>\n",
              "      <td>39.0</td>\n",
              "      <td>No</td>\n",
              "      <td>No</td>\n",
              "      <td>No</td>\n",
              "      <td>No</td>\n",
              "      <td>No</td>\n",
              "      <td>No</td>\n",
              "      <td>No</td>\n",
              "      <td>No</td>\n",
              "      <td>Yes</td>\n",
              "      <td>No</td>\n",
              "      <td>No</td>\n",
              "      <td>NaN</td>\n",
              "      <td>positive</td>\n",
              "      <td>No</td>\n",
              "    </tr>\n",
              "    <tr>\n",
              "      <th>1</th>\n",
              "      <td>03f45a</td>\n",
              "      <td>Male</td>\n",
              "      <td>No</td>\n",
              "      <td>2020-12-04</td>\n",
              "      <td>2020-07-04</td>\n",
              "      <td>Yes</td>\n",
              "      <td>Yes</td>\n",
              "      <td>Yes</td>\n",
              "      <td>57.0</td>\n",
              "      <td>NaN</td>\n",
              "      <td>No</td>\n",
              "      <td>No</td>\n",
              "      <td>No</td>\n",
              "      <td>No</td>\n",
              "      <td>No</td>\n",
              "      <td>No</td>\n",
              "      <td>No</td>\n",
              "      <td>Yes</td>\n",
              "      <td>No</td>\n",
              "      <td>Yes</td>\n",
              "      <td>No</td>\n",
              "      <td>positive</td>\n",
              "      <td>No</td>\n",
              "    </tr>\n",
              "    <tr>\n",
              "      <th>2</th>\n",
              "      <td>1d5df2</td>\n",
              "      <td>Female</td>\n",
              "      <td>No</td>\n",
              "      <td>2020-08-06</td>\n",
              "      <td>2020-07-06</td>\n",
              "      <td>No</td>\n",
              "      <td>Yes</td>\n",
              "      <td>Yes</td>\n",
              "      <td>67.0</td>\n",
              "      <td>No</td>\n",
              "      <td>Yes</td>\n",
              "      <td>No</td>\n",
              "      <td>No</td>\n",
              "      <td>No</td>\n",
              "      <td>Yes</td>\n",
              "      <td>No</td>\n",
              "      <td>No</td>\n",
              "      <td>Yes</td>\n",
              "      <td>No</td>\n",
              "      <td>No</td>\n",
              "      <td>Yes</td>\n",
              "      <td>positive</td>\n",
              "      <td>No</td>\n",
              "    </tr>\n",
              "    <tr>\n",
              "      <th>3</th>\n",
              "      <td>077c96</td>\n",
              "      <td>Male</td>\n",
              "      <td>No</td>\n",
              "      <td>2020-04-30</td>\n",
              "      <td>2020-04-30</td>\n",
              "      <td>Yes</td>\n",
              "      <td>Yes</td>\n",
              "      <td>Yes</td>\n",
              "      <td>66.0</td>\n",
              "      <td>NaN</td>\n",
              "      <td>No</td>\n",
              "      <td>No</td>\n",
              "      <td>No</td>\n",
              "      <td>No</td>\n",
              "      <td>No</td>\n",
              "      <td>No</td>\n",
              "      <td>No</td>\n",
              "      <td>No</td>\n",
              "      <td>No</td>\n",
              "      <td>No</td>\n",
              "      <td>NaN</td>\n",
              "      <td>positive</td>\n",
              "      <td>Yes</td>\n",
              "    </tr>\n",
              "    <tr>\n",
              "      <th>4</th>\n",
              "      <td>03877c</td>\n",
              "      <td>Female</td>\n",
              "      <td>No</td>\n",
              "      <td>2020-05-20</td>\n",
              "      <td>2020-05-13</td>\n",
              "      <td>Yes</td>\n",
              "      <td>Yes</td>\n",
              "      <td>Yes</td>\n",
              "      <td>52.0</td>\n",
              "      <td>No</td>\n",
              "      <td>No</td>\n",
              "      <td>No</td>\n",
              "      <td>No</td>\n",
              "      <td>No</td>\n",
              "      <td>No</td>\n",
              "      <td>No</td>\n",
              "      <td>No</td>\n",
              "      <td>Yes</td>\n",
              "      <td>No</td>\n",
              "      <td>No</td>\n",
              "      <td>NaN</td>\n",
              "      <td>positive</td>\n",
              "      <td>No</td>\n",
              "    </tr>\n",
              "  </tbody>\n",
              "</table>\n",
              "</div>"
            ],
            "text/plain": [
              "       id     sex patient_type  ... contact_other_covid    chance  icu\n",
              "0  006b91  Female           No  ...                 NaN  positive   No\n",
              "1  03f45a    Male           No  ...                  No  positive   No\n",
              "2  1d5df2  Female           No  ...                 Yes  positive   No\n",
              "3  077c96    Male           No  ...                 NaN  positive  Yes\n",
              "4  03877c  Female           No  ...                 NaN  positive   No\n",
              "\n",
              "[5 rows x 23 columns]"
            ]
          },
          "metadata": {
            "tags": []
          },
          "execution_count": 105
        }
      ]
    },
    {
      "cell_type": "code",
      "metadata": {
        "colab": {
          "base_uri": "https://localhost:8080/"
        },
        "id": "4XCEoxcBALPY",
        "outputId": "23d323ba-3649-426f-f702-6a0ec8a24474"
      },
      "source": [
        "# Value counts of total deceased intubated cases and deceased intubated COVID-19 positive cases\n",
        "intubated['Deceased'].value_counts(normalize=True)*100, intubated_pos['Deceased'].value_counts(normalize=True)*100"
      ],
      "execution_count": null,
      "outputs": [
        {
          "output_type": "execute_result",
          "data": {
            "text/plain": [
              "(Yes    58.083292\n",
              " No     41.916708\n",
              " Name: Deceased, dtype: float64, Yes    67.643915\n",
              " No     32.356085\n",
              " Name: Deceased, dtype: float64)"
            ]
          },
          "metadata": {
            "tags": []
          },
          "execution_count": 106
        }
      ]
    },
    {
      "cell_type": "code",
      "metadata": {
        "colab": {
          "base_uri": "https://localhost:8080/",
          "height": 607
        },
        "id": "czgThgL7GzBn",
        "outputId": "f955d42a-d016-4bae-9665-393c70a3a820"
      },
      "source": [
        "# Count plot\n",
        "plt.figure(figsize=(8,8))\n",
        "sns.countplot(x='chance', data=intubated, hue=intubated['Deceased'])\n",
        "plt.xticks(rotation=360)\n",
        "plt.title('Fatality Rate of Intubated Patients',fontsize=15)\n",
        "plt.xlabel('Intubated Patients \\n \\n Case Fatality Rate:{0:0.2f}% \\n \\n COVID-19 Positive Fatality rate:{1:0.2f}%'.format(intubated['Deceased'].value_counts(normalize=True)[0]*100, intubated_pos['Deceased'].value_counts(normalize=True)[0]*100), fontsize=15)\n",
        "plt.ylabel('count',fontsize=15)"
      ],
      "execution_count": null,
      "outputs": [
        {
          "output_type": "execute_result",
          "data": {
            "text/plain": [
              "Text(0, 0.5, 'count')"
            ]
          },
          "metadata": {
            "tags": []
          },
          "execution_count": 107
        },
        {
          "output_type": "display_data",
          "data": {
            "image/png": "[encoded data removed]",
            "text/plain": [
              "<Figure size 576x576 with 1 Axes>"
            ]
          },
          "metadata": {
            "tags": [],
            "needs_background": "light"
          }
        }
      ]
    },
    {
      "cell_type": "markdown",
      "metadata": {
        "id": "6Zqc_Art5W06"
      },
      "source": [
        "**22. Fatality Rate for COVID-19 Positive Patients with Pneumonia**"
      ]
    },
    {
      "cell_type": "code",
      "metadata": {
        "id": "47G90Y8s6J5c"
      },
      "source": [
        "# Cases with neumonia\n",
        "pneumonia=data[data['pneumonia']=='Yes']\n",
        "# Resettintg index\n",
        "pneumonia.reset_index(drop=True, inplace=True)"
      ],
      "execution_count": null,
      "outputs": []
    },
    {
      "cell_type": "code",
      "metadata": {
        "colab": {
          "base_uri": "https://localhost:8080/",
          "height": 225
        },
        "id": "m63y6C6bAmkf",
        "outputId": "73d40fde-099d-4115-8ea2-99f1f34e5494"
      },
      "source": [
        "# COVID-19 positive cases with pneumonia\n",
        "pneumonia_pos=pneumonia[pneumonia['chance']=='positive']\n",
        "# Resettintg index\n",
        "pneumonia_pos.reset_index(drop=True, inplace=True)\n",
        "pneumonia_pos.head()"
      ],
      "execution_count": null,
      "outputs": [
        {
          "output_type": "execute_result",
          "data": {
            "text/html": [
              "<div>\n",
              "<style scoped>\n",
              "    .dataframe tbody tr th:only-of-type {\n",
              "        vertical-align: middle;\n",
              "    }\n",
              "\n",
              "    .dataframe tbody tr th {\n",
              "        vertical-align: top;\n",
              "    }\n",
              "\n",
              "    .dataframe thead th {\n",
              "        text-align: right;\n",
              "    }\n",
              "</style>\n",
              "<table border=\"1\" class=\"dataframe\">\n",
              "  <thead>\n",
              "    <tr style=\"text-align: right;\">\n",
              "      <th></th>\n",
              "      <th>id</th>\n",
              "      <th>sex</th>\n",
              "      <th>patient_type</th>\n",
              "      <th>entry_date</th>\n",
              "      <th>date_symptoms</th>\n",
              "      <th>Deceased</th>\n",
              "      <th>intubated</th>\n",
              "      <th>pneumonia</th>\n",
              "      <th>age</th>\n",
              "      <th>pregnancy</th>\n",
              "      <th>diabetes</th>\n",
              "      <th>copd</th>\n",
              "      <th>asthma</th>\n",
              "      <th>imnsupr</th>\n",
              "      <th>hypertension</th>\n",
              "      <th>other_disease</th>\n",
              "      <th>cardiovascular</th>\n",
              "      <th>obesity</th>\n",
              "      <th>renal_chronic</th>\n",
              "      <th>tobacco</th>\n",
              "      <th>contact_other_covid</th>\n",
              "      <th>chance</th>\n",
              "      <th>icu</th>\n",
              "    </tr>\n",
              "  </thead>\n",
              "  <tbody>\n",
              "    <tr>\n",
              "      <th>0</th>\n",
              "      <td>0b5948</td>\n",
              "      <td>Male</td>\n",
              "      <td>No</td>\n",
              "      <td>2020-04-17</td>\n",
              "      <td>2020-10-04</td>\n",
              "      <td>No</td>\n",
              "      <td>No</td>\n",
              "      <td>Yes</td>\n",
              "      <td>30.0</td>\n",
              "      <td>NaN</td>\n",
              "      <td>No</td>\n",
              "      <td>No</td>\n",
              "      <td>No</td>\n",
              "      <td>No</td>\n",
              "      <td>No</td>\n",
              "      <td>No</td>\n",
              "      <td>No</td>\n",
              "      <td>No</td>\n",
              "      <td>No</td>\n",
              "      <td>No</td>\n",
              "      <td>NaN</td>\n",
              "      <td>positive</td>\n",
              "      <td>No</td>\n",
              "    </tr>\n",
              "    <tr>\n",
              "      <th>1</th>\n",
              "      <td>1beec8</td>\n",
              "      <td>Male</td>\n",
              "      <td>No</td>\n",
              "      <td>2020-04-16</td>\n",
              "      <td>2020-04-16</td>\n",
              "      <td>Yes</td>\n",
              "      <td>No</td>\n",
              "      <td>Yes</td>\n",
              "      <td>47.0</td>\n",
              "      <td>NaN</td>\n",
              "      <td>Yes</td>\n",
              "      <td>No</td>\n",
              "      <td>No</td>\n",
              "      <td>No</td>\n",
              "      <td>No</td>\n",
              "      <td>No</td>\n",
              "      <td>No</td>\n",
              "      <td>No</td>\n",
              "      <td>No</td>\n",
              "      <td>No</td>\n",
              "      <td>NaN</td>\n",
              "      <td>positive</td>\n",
              "      <td>Yes</td>\n",
              "    </tr>\n",
              "    <tr>\n",
              "      <th>2</th>\n",
              "      <td>006b91</td>\n",
              "      <td>Female</td>\n",
              "      <td>No</td>\n",
              "      <td>2020-04-23</td>\n",
              "      <td>2020-04-18</td>\n",
              "      <td>No</td>\n",
              "      <td>Yes</td>\n",
              "      <td>Yes</td>\n",
              "      <td>39.0</td>\n",
              "      <td>No</td>\n",
              "      <td>No</td>\n",
              "      <td>No</td>\n",
              "      <td>No</td>\n",
              "      <td>No</td>\n",
              "      <td>No</td>\n",
              "      <td>No</td>\n",
              "      <td>No</td>\n",
              "      <td>Yes</td>\n",
              "      <td>No</td>\n",
              "      <td>No</td>\n",
              "      <td>NaN</td>\n",
              "      <td>positive</td>\n",
              "      <td>No</td>\n",
              "    </tr>\n",
              "    <tr>\n",
              "      <th>3</th>\n",
              "      <td>0dfc54</td>\n",
              "      <td>Female</td>\n",
              "      <td>No</td>\n",
              "      <td>2020-04-22</td>\n",
              "      <td>2020-04-22</td>\n",
              "      <td>No</td>\n",
              "      <td>No</td>\n",
              "      <td>Yes</td>\n",
              "      <td>46.0</td>\n",
              "      <td>No</td>\n",
              "      <td>No</td>\n",
              "      <td>No</td>\n",
              "      <td>No</td>\n",
              "      <td>No</td>\n",
              "      <td>No</td>\n",
              "      <td>No</td>\n",
              "      <td>No</td>\n",
              "      <td>No</td>\n",
              "      <td>No</td>\n",
              "      <td>No</td>\n",
              "      <td>NaN</td>\n",
              "      <td>positive</td>\n",
              "      <td>No</td>\n",
              "    </tr>\n",
              "    <tr>\n",
              "      <th>4</th>\n",
              "      <td>187b28</td>\n",
              "      <td>Female</td>\n",
              "      <td>Yes</td>\n",
              "      <td>2020-05-15</td>\n",
              "      <td>2020-05-14</td>\n",
              "      <td>No</td>\n",
              "      <td>NaN</td>\n",
              "      <td>Yes</td>\n",
              "      <td>49.0</td>\n",
              "      <td>No</td>\n",
              "      <td>No</td>\n",
              "      <td>No</td>\n",
              "      <td>No</td>\n",
              "      <td>No</td>\n",
              "      <td>Yes</td>\n",
              "      <td>No</td>\n",
              "      <td>No</td>\n",
              "      <td>No</td>\n",
              "      <td>No</td>\n",
              "      <td>No</td>\n",
              "      <td>Yes</td>\n",
              "      <td>positive</td>\n",
              "      <td>NaN</td>\n",
              "    </tr>\n",
              "  </tbody>\n",
              "</table>\n",
              "</div>"
            ],
            "text/plain": [
              "       id     sex patient_type  ... contact_other_covid    chance  icu\n",
              "0  0b5948    Male           No  ...                 NaN  positive   No\n",
              "1  1beec8    Male           No  ...                 NaN  positive  Yes\n",
              "2  006b91  Female           No  ...                 NaN  positive   No\n",
              "3  0dfc54  Female           No  ...                 NaN  positive   No\n",
              "4  187b28  Female          Yes  ...                 Yes  positive  NaN\n",
              "\n",
              "[5 rows x 23 columns]"
            ]
          },
          "metadata": {
            "tags": []
          },
          "execution_count": 109
        }
      ]
    },
    {
      "cell_type": "code",
      "metadata": {
        "colab": {
          "base_uri": "https://localhost:8080/"
        },
        "id": "b5W1gs5OAWEo",
        "outputId": "9e82542f-ac58-49c5-bb0c-d24094265957"
      },
      "source": [
        "# Value counts of total deceased cases with pneumonia and deceased COVID-19 positive pneumonia cases\n",
        "pneumonia['Deceased'].value_counts(normalize=True)*100, pneumonia_pos['Deceased'].value_counts(normalize=True)*100"
      ],
      "execution_count": null,
      "outputs": [
        {
          "output_type": "execute_result",
          "data": {
            "text/plain": [
              "(No     70.145733\n",
              " Yes    29.854267\n",
              " Name: Deceased, dtype: float64, No     60.904\n",
              " Yes    39.096\n",
              " Name: Deceased, dtype: float64)"
            ]
          },
          "metadata": {
            "tags": []
          },
          "execution_count": 110
        }
      ]
    },
    {
      "cell_type": "code",
      "metadata": {
        "colab": {
          "base_uri": "https://localhost:8080/",
          "height": 607
        },
        "id": "iWmwD1ZX8rWO",
        "outputId": "3f22d92a-2413-462e-b9da-a78f71425ac5"
      },
      "source": [
        "# Count plot\n",
        "plt.figure(figsize=(8,8))\n",
        "sns.countplot(x='chance', data=pneumonia, hue=pneumonia['Deceased'])\n",
        "plt.xticks(rotation=360)\n",
        "plt.title('Fatality Rate of Pneumonia Patients',fontsize=15)\n",
        "plt.xlabel('Pneumonia Patients \\n \\n Case Fatality Rate:{0:0.2f}% \\n \\n COVID-19 Positive Fatality rate:{1:0.2f}%'.format(pneumonia['Deceased'].value_counts(normalize=True)[1]*100, pneumonia_pos['Deceased'].value_counts(normalize=True)[1]*100), fontsize=15)\n",
        "plt.ylabel('count',fontsize=15)"
      ],
      "execution_count": null,
      "outputs": [
        {
          "output_type": "execute_result",
          "data": {
            "text/plain": [
              "Text(0, 0.5, 'count')"
            ]
          },
          "metadata": {
            "tags": []
          },
          "execution_count": 111
        },
        {
          "output_type": "display_data",
          "data": {
            "image/png": "[encoded data removed]",
            "text/plain": [
              "<Figure size 576x576 with 1 Axes>"
            ]
          },
          "metadata": {
            "tags": [],
            "needs_background": "light"
          }
        }
      ]
    },
    {
      "cell_type": "markdown",
      "metadata": {
        "id": "210Jvyrh54xr"
      },
      "source": [
        "**23. Fatality Rate for COVID-19 Positive Patients with Pregnancy**"
      ]
    },
    {
      "cell_type": "code",
      "metadata": {
        "id": "1rzYSxgt7mCu"
      },
      "source": [
        "# Cases with pregnancy\n",
        "pregnancy=data[data['pregnancy']=='Yes']\n",
        "# Resettintg index\n",
        "pregnancy.reset_index(drop=True, inplace=True)"
      ],
      "execution_count": null,
      "outputs": []
    },
    {
      "cell_type": "code",
      "metadata": {
        "colab": {
          "base_uri": "https://localhost:8080/",
          "height": 225
        },
        "id": "Fd_INTF17mCw",
        "outputId": "0352d8e2-91ef-4b99-b0bc-2909fba007d1"
      },
      "source": [
        "# COVID-19 positive cases with pregnancy\n",
        "pregnancy_pos=pregnancy[pregnancy['chance']=='positive']\n",
        "# Resettintg index\n",
        "pregnancy_pos.reset_index(drop=True, inplace=True)\n",
        "pregnancy_pos.head()"
      ],
      "execution_count": null,
      "outputs": [
        {
          "output_type": "execute_result",
          "data": {
            "text/html": [
              "<div>\n",
              "<style scoped>\n",
              "    .dataframe tbody tr th:only-of-type {\n",
              "        vertical-align: middle;\n",
              "    }\n",
              "\n",
              "    .dataframe tbody tr th {\n",
              "        vertical-align: top;\n",
              "    }\n",
              "\n",
              "    .dataframe thead th {\n",
              "        text-align: right;\n",
              "    }\n",
              "</style>\n",
              "<table border=\"1\" class=\"dataframe\">\n",
              "  <thead>\n",
              "    <tr style=\"text-align: right;\">\n",
              "      <th></th>\n",
              "      <th>id</th>\n",
              "      <th>sex</th>\n",
              "      <th>patient_type</th>\n",
              "      <th>entry_date</th>\n",
              "      <th>date_symptoms</th>\n",
              "      <th>Deceased</th>\n",
              "      <th>intubated</th>\n",
              "      <th>pneumonia</th>\n",
              "      <th>age</th>\n",
              "      <th>pregnancy</th>\n",
              "      <th>diabetes</th>\n",
              "      <th>copd</th>\n",
              "      <th>asthma</th>\n",
              "      <th>imnsupr</th>\n",
              "      <th>hypertension</th>\n",
              "      <th>other_disease</th>\n",
              "      <th>cardiovascular</th>\n",
              "      <th>obesity</th>\n",
              "      <th>renal_chronic</th>\n",
              "      <th>tobacco</th>\n",
              "      <th>contact_other_covid</th>\n",
              "      <th>chance</th>\n",
              "      <th>icu</th>\n",
              "    </tr>\n",
              "  </thead>\n",
              "  <tbody>\n",
              "    <tr>\n",
              "      <th>0</th>\n",
              "      <td>0aa8e2</td>\n",
              "      <td>Female</td>\n",
              "      <td>No</td>\n",
              "      <td>2020-04-19</td>\n",
              "      <td>2020-04-16</td>\n",
              "      <td>No</td>\n",
              "      <td>No</td>\n",
              "      <td>No</td>\n",
              "      <td>29.0</td>\n",
              "      <td>Yes</td>\n",
              "      <td>No</td>\n",
              "      <td>No</td>\n",
              "      <td>No</td>\n",
              "      <td>No</td>\n",
              "      <td>No</td>\n",
              "      <td>No</td>\n",
              "      <td>No</td>\n",
              "      <td>No</td>\n",
              "      <td>No</td>\n",
              "      <td>No</td>\n",
              "      <td>NaN</td>\n",
              "      <td>positive</td>\n",
              "      <td>No</td>\n",
              "    </tr>\n",
              "    <tr>\n",
              "      <th>1</th>\n",
              "      <td>10af4b</td>\n",
              "      <td>Female</td>\n",
              "      <td>Yes</td>\n",
              "      <td>2020-04-22</td>\n",
              "      <td>2020-04-17</td>\n",
              "      <td>No</td>\n",
              "      <td>NaN</td>\n",
              "      <td>No</td>\n",
              "      <td>25.0</td>\n",
              "      <td>Yes</td>\n",
              "      <td>No</td>\n",
              "      <td>No</td>\n",
              "      <td>No</td>\n",
              "      <td>No</td>\n",
              "      <td>No</td>\n",
              "      <td>No</td>\n",
              "      <td>No</td>\n",
              "      <td>No</td>\n",
              "      <td>No</td>\n",
              "      <td>No</td>\n",
              "      <td>NaN</td>\n",
              "      <td>positive</td>\n",
              "      <td>NaN</td>\n",
              "    </tr>\n",
              "    <tr>\n",
              "      <th>2</th>\n",
              "      <td>003b48</td>\n",
              "      <td>Female</td>\n",
              "      <td>Yes</td>\n",
              "      <td>2020-04-17</td>\n",
              "      <td>2020-04-14</td>\n",
              "      <td>No</td>\n",
              "      <td>NaN</td>\n",
              "      <td>No</td>\n",
              "      <td>31.0</td>\n",
              "      <td>Yes</td>\n",
              "      <td>No</td>\n",
              "      <td>No</td>\n",
              "      <td>No</td>\n",
              "      <td>No</td>\n",
              "      <td>No</td>\n",
              "      <td>No</td>\n",
              "      <td>No</td>\n",
              "      <td>No</td>\n",
              "      <td>No</td>\n",
              "      <td>No</td>\n",
              "      <td>NaN</td>\n",
              "      <td>positive</td>\n",
              "      <td>NaN</td>\n",
              "    </tr>\n",
              "    <tr>\n",
              "      <th>3</th>\n",
              "      <td>121414</td>\n",
              "      <td>Female</td>\n",
              "      <td>Yes</td>\n",
              "      <td>2020-08-04</td>\n",
              "      <td>2020-05-04</td>\n",
              "      <td>No</td>\n",
              "      <td>NaN</td>\n",
              "      <td>No</td>\n",
              "      <td>25.0</td>\n",
              "      <td>Yes</td>\n",
              "      <td>No</td>\n",
              "      <td>No</td>\n",
              "      <td>No</td>\n",
              "      <td>No</td>\n",
              "      <td>No</td>\n",
              "      <td>No</td>\n",
              "      <td>No</td>\n",
              "      <td>No</td>\n",
              "      <td>No</td>\n",
              "      <td>No</td>\n",
              "      <td>NaN</td>\n",
              "      <td>positive</td>\n",
              "      <td>NaN</td>\n",
              "    </tr>\n",
              "    <tr>\n",
              "      <th>4</th>\n",
              "      <td>1aa543</td>\n",
              "      <td>Female</td>\n",
              "      <td>Yes</td>\n",
              "      <td>2020-07-05</td>\n",
              "      <td>2020-06-05</td>\n",
              "      <td>No</td>\n",
              "      <td>NaN</td>\n",
              "      <td>No</td>\n",
              "      <td>27.0</td>\n",
              "      <td>Yes</td>\n",
              "      <td>No</td>\n",
              "      <td>No</td>\n",
              "      <td>No</td>\n",
              "      <td>No</td>\n",
              "      <td>No</td>\n",
              "      <td>No</td>\n",
              "      <td>No</td>\n",
              "      <td>Yes</td>\n",
              "      <td>No</td>\n",
              "      <td>No</td>\n",
              "      <td>NaN</td>\n",
              "      <td>positive</td>\n",
              "      <td>NaN</td>\n",
              "    </tr>\n",
              "  </tbody>\n",
              "</table>\n",
              "</div>"
            ],
            "text/plain": [
              "       id     sex patient_type  ... contact_other_covid    chance  icu\n",
              "0  0aa8e2  Female           No  ...                 NaN  positive   No\n",
              "1  10af4b  Female          Yes  ...                 NaN  positive  NaN\n",
              "2  003b48  Female          Yes  ...                 NaN  positive  NaN\n",
              "3  121414  Female          Yes  ...                 NaN  positive  NaN\n",
              "4  1aa543  Female          Yes  ...                 NaN  positive  NaN\n",
              "\n",
              "[5 rows x 23 columns]"
            ]
          },
          "metadata": {
            "tags": []
          },
          "execution_count": 113
        }
      ]
    },
    {
      "cell_type": "code",
      "metadata": {
        "colab": {
          "base_uri": "https://localhost:8080/"
        },
        "id": "N7b3ABSNAulH",
        "outputId": "bd62feb9-5f99-41fe-fdea-8dc4495c5d4d"
      },
      "source": [
        "# Value counts of total deceased cases with pregnancy and deceased COVID-19 positive cases with pregnancy\n",
        "pregnancy['Deceased'].value_counts(normalize=True)*100, pregnancy_pos['Deceased'].value_counts(normalize=True)*100"
      ],
      "execution_count": null,
      "outputs": [
        {
          "output_type": "execute_result",
          "data": {
            "text/plain": [
              "(No     98.818607\n",
              " Yes     1.181393\n",
              " Name: Deceased, dtype: float64, No     97.54386\n",
              " Yes     2.45614\n",
              " Name: Deceased, dtype: float64)"
            ]
          },
          "metadata": {
            "tags": []
          },
          "execution_count": 114
        }
      ]
    },
    {
      "cell_type": "code",
      "metadata": {
        "colab": {
          "base_uri": "https://localhost:8080/",
          "height": 607
        },
        "id": "VGzyBQKn8se8",
        "outputId": "e87075af-1f3d-4fda-aac0-07e0b27983fa"
      },
      "source": [
        "# Count plot\n",
        "plt.figure(figsize=(8,8))\n",
        "sns.countplot(x='chance', data=pregnancy, hue=pregnancy['Deceased'])\n",
        "plt.xticks(rotation=360)\n",
        "plt.title('Fatality Rate of Pregnant Patients',fontsize=15)\n",
        "plt.xlabel('Pregnant Patients \\n \\n Case Fatality Rate:{0:0.2f}% \\n \\n COVID-19 Positive Fatality rate:{1:0.2f}%'.format(pregnancy['Deceased'].value_counts(normalize=True)[1]*100, pregnancy_pos['Deceased'].value_counts(normalize=True)[1]*100), fontsize=15)\n",
        "plt.ylabel('count',fontsize=15)"
      ],
      "execution_count": null,
      "outputs": [
        {
          "output_type": "execute_result",
          "data": {
            "text/plain": [
              "Text(0, 0.5, 'count')"
            ]
          },
          "metadata": {
            "tags": []
          },
          "execution_count": 115
        },
        {
          "output_type": "display_data",
          "data": {
            "image/png": "[encoded data removed]",
            "text/plain": [
              "<Figure size 576x576 with 1 Axes>"
            ]
          },
          "metadata": {
            "tags": [],
            "needs_background": "light"
          }
        }
      ]
    },
    {
      "cell_type": "markdown",
      "metadata": {
        "id": "fuPNfjis6D5p"
      },
      "source": [
        "**24. Fatality Rate for COVID-19 Positive Patients with Obesity**"
      ]
    },
    {
      "cell_type": "code",
      "metadata": {
        "id": "qtiAyFjW72yo"
      },
      "source": [
        "# Cases with obesity\n",
        "obesity=data[data['obesity']=='Yes']\n",
        "# Resettintg index\n",
        "obesity.reset_index(drop=True, inplace=True)"
      ],
      "execution_count": null,
      "outputs": []
    },
    {
      "cell_type": "code",
      "metadata": {
        "colab": {
          "base_uri": "https://localhost:8080/",
          "height": 225
        },
        "id": "y69r9EYO72yq",
        "outputId": "ecab1bbb-2491-4883-9c2e-45aee253a7d9"
      },
      "source": [
        "# COVID-19 positive cases with obesity\n",
        "obesity_pos=obesity[obesity['chance']=='positive']\n",
        "# Resetting index\n",
        "obesity_pos.reset_index(drop=True, inplace=True)\n",
        "obesity_pos.head()"
      ],
      "execution_count": null,
      "outputs": [
        {
          "output_type": "execute_result",
          "data": {
            "text/html": [
              "<div>\n",
              "<style scoped>\n",
              "    .dataframe tbody tr th:only-of-type {\n",
              "        vertical-align: middle;\n",
              "    }\n",
              "\n",
              "    .dataframe tbody tr th {\n",
              "        vertical-align: top;\n",
              "    }\n",
              "\n",
              "    .dataframe thead th {\n",
              "        text-align: right;\n",
              "    }\n",
              "</style>\n",
              "<table border=\"1\" class=\"dataframe\">\n",
              "  <thead>\n",
              "    <tr style=\"text-align: right;\">\n",
              "      <th></th>\n",
              "      <th>id</th>\n",
              "      <th>sex</th>\n",
              "      <th>patient_type</th>\n",
              "      <th>entry_date</th>\n",
              "      <th>date_symptoms</th>\n",
              "      <th>Deceased</th>\n",
              "      <th>intubated</th>\n",
              "      <th>pneumonia</th>\n",
              "      <th>age</th>\n",
              "      <th>pregnancy</th>\n",
              "      <th>diabetes</th>\n",
              "      <th>copd</th>\n",
              "      <th>asthma</th>\n",
              "      <th>imnsupr</th>\n",
              "      <th>hypertension</th>\n",
              "      <th>other_disease</th>\n",
              "      <th>cardiovascular</th>\n",
              "      <th>obesity</th>\n",
              "      <th>renal_chronic</th>\n",
              "      <th>tobacco</th>\n",
              "      <th>contact_other_covid</th>\n",
              "      <th>chance</th>\n",
              "      <th>icu</th>\n",
              "    </tr>\n",
              "  </thead>\n",
              "  <tbody>\n",
              "    <tr>\n",
              "      <th>0</th>\n",
              "      <td>167386</td>\n",
              "      <td>Female</td>\n",
              "      <td>No</td>\n",
              "      <td>2020-06-04</td>\n",
              "      <td>2020-01-04</td>\n",
              "      <td>No</td>\n",
              "      <td>No</td>\n",
              "      <td>No</td>\n",
              "      <td>54.0</td>\n",
              "      <td>No</td>\n",
              "      <td>No</td>\n",
              "      <td>No</td>\n",
              "      <td>No</td>\n",
              "      <td>No</td>\n",
              "      <td>No</td>\n",
              "      <td>No</td>\n",
              "      <td>No</td>\n",
              "      <td>Yes</td>\n",
              "      <td>No</td>\n",
              "      <td>No</td>\n",
              "      <td>NaN</td>\n",
              "      <td>positive</td>\n",
              "      <td>No</td>\n",
              "    </tr>\n",
              "    <tr>\n",
              "      <th>1</th>\n",
              "      <td>006b91</td>\n",
              "      <td>Female</td>\n",
              "      <td>No</td>\n",
              "      <td>2020-04-23</td>\n",
              "      <td>2020-04-18</td>\n",
              "      <td>No</td>\n",
              "      <td>Yes</td>\n",
              "      <td>Yes</td>\n",
              "      <td>39.0</td>\n",
              "      <td>No</td>\n",
              "      <td>No</td>\n",
              "      <td>No</td>\n",
              "      <td>No</td>\n",
              "      <td>No</td>\n",
              "      <td>No</td>\n",
              "      <td>No</td>\n",
              "      <td>No</td>\n",
              "      <td>Yes</td>\n",
              "      <td>No</td>\n",
              "      <td>No</td>\n",
              "      <td>NaN</td>\n",
              "      <td>positive</td>\n",
              "      <td>No</td>\n",
              "    </tr>\n",
              "    <tr>\n",
              "      <th>2</th>\n",
              "      <td>0e1aeb</td>\n",
              "      <td>Male</td>\n",
              "      <td>Yes</td>\n",
              "      <td>2020-04-30</td>\n",
              "      <td>2020-04-20</td>\n",
              "      <td>No</td>\n",
              "      <td>NaN</td>\n",
              "      <td>No</td>\n",
              "      <td>46.0</td>\n",
              "      <td>NaN</td>\n",
              "      <td>No</td>\n",
              "      <td>No</td>\n",
              "      <td>No</td>\n",
              "      <td>No</td>\n",
              "      <td>Yes</td>\n",
              "      <td>No</td>\n",
              "      <td>No</td>\n",
              "      <td>Yes</td>\n",
              "      <td>No</td>\n",
              "      <td>No</td>\n",
              "      <td>NaN</td>\n",
              "      <td>positive</td>\n",
              "      <td>NaN</td>\n",
              "    </tr>\n",
              "    <tr>\n",
              "      <th>3</th>\n",
              "      <td>16e14e</td>\n",
              "      <td>Female</td>\n",
              "      <td>No</td>\n",
              "      <td>2020-06-22</td>\n",
              "      <td>2020-06-17</td>\n",
              "      <td>No</td>\n",
              "      <td>No</td>\n",
              "      <td>No</td>\n",
              "      <td>52.0</td>\n",
              "      <td>No</td>\n",
              "      <td>No</td>\n",
              "      <td>No</td>\n",
              "      <td>No</td>\n",
              "      <td>No</td>\n",
              "      <td>No</td>\n",
              "      <td>No</td>\n",
              "      <td>No</td>\n",
              "      <td>Yes</td>\n",
              "      <td>No</td>\n",
              "      <td>Yes</td>\n",
              "      <td>Yes</td>\n",
              "      <td>positive</td>\n",
              "      <td>No</td>\n",
              "    </tr>\n",
              "    <tr>\n",
              "      <th>4</th>\n",
              "      <td>006ddc</td>\n",
              "      <td>Female</td>\n",
              "      <td>No</td>\n",
              "      <td>2020-04-26</td>\n",
              "      <td>2020-04-23</td>\n",
              "      <td>Yes</td>\n",
              "      <td>No</td>\n",
              "      <td>Yes</td>\n",
              "      <td>53.0</td>\n",
              "      <td>No</td>\n",
              "      <td>Yes</td>\n",
              "      <td>No</td>\n",
              "      <td>No</td>\n",
              "      <td>No</td>\n",
              "      <td>No</td>\n",
              "      <td>No</td>\n",
              "      <td>No</td>\n",
              "      <td>Yes</td>\n",
              "      <td>No</td>\n",
              "      <td>No</td>\n",
              "      <td>NaN</td>\n",
              "      <td>positive</td>\n",
              "      <td>No</td>\n",
              "    </tr>\n",
              "  </tbody>\n",
              "</table>\n",
              "</div>"
            ],
            "text/plain": [
              "       id     sex patient_type  ... contact_other_covid    chance  icu\n",
              "0  167386  Female           No  ...                 NaN  positive   No\n",
              "1  006b91  Female           No  ...                 NaN  positive   No\n",
              "2  0e1aeb    Male          Yes  ...                 NaN  positive  NaN\n",
              "3  16e14e  Female           No  ...                 Yes  positive   No\n",
              "4  006ddc  Female           No  ...                 NaN  positive   No\n",
              "\n",
              "[5 rows x 23 columns]"
            ]
          },
          "metadata": {
            "tags": []
          },
          "execution_count": 117
        }
      ]
    },
    {
      "cell_type": "code",
      "metadata": {
        "colab": {
          "base_uri": "https://localhost:8080/"
        },
        "id": "Q0IHYKRAA1o0",
        "outputId": "1c8a557f-4f2f-4da1-b561-064847cce3da"
      },
      "source": [
        "# Value counts of total deceased cases with obesity and deceased COVID-10 positive cases with obesity\n",
        "obesity['Deceased'].value_counts(normalize=True)*100, obesity_pos['Deceased'].value_counts(normalize=True)*100"
      ],
      "execution_count": null,
      "outputs": [
        {
          "output_type": "execute_result",
          "data": {
            "text/plain": [
              "(No     90.848795\n",
              " Yes     9.151205\n",
              " Name: Deceased, dtype: float64, No     84.301936\n",
              " Yes    15.698064\n",
              " Name: Deceased, dtype: float64)"
            ]
          },
          "metadata": {
            "tags": []
          },
          "execution_count": 118
        }
      ]
    },
    {
      "cell_type": "code",
      "metadata": {
        "colab": {
          "base_uri": "https://localhost:8080/",
          "height": 607
        },
        "id": "lPk4OMt08tl5",
        "outputId": "9c16be6f-9dee-43b5-9f3f-f8703cf2f9e6"
      },
      "source": [
        "# Count plot\n",
        "plt.figure(figsize=(8,8))\n",
        "sns.countplot(x='chance', data=obesity, hue=obesity['Deceased'])\n",
        "plt.xticks(rotation=360)\n",
        "plt.title('Fatality Rate of Obese Patients',fontsize=15)\n",
        "plt.xlabel('Obesity Patients \\n \\n Case Fatality Rate:{0:0.2f}% \\n \\n COVID-19 Positive Fatality rate:{1:0.2f}%'.format(obesity['Deceased'].value_counts(normalize=True)[1]*100, obesity_pos['Deceased'].value_counts(normalize=True)[1]*100), fontsize=15)\n",
        "plt.ylabel('count',fontsize=15)"
      ],
      "execution_count": null,
      "outputs": [
        {
          "output_type": "execute_result",
          "data": {
            "text/plain": [
              "Text(0, 0.5, 'count')"
            ]
          },
          "metadata": {
            "tags": []
          },
          "execution_count": 119
        },
        {
          "output_type": "display_data",
          "data": {
            "image/png": "[encoded data removed]",
            "text/plain": [
              "<Figure size 576x576 with 1 Axes>"
            ]
          },
          "metadata": {
            "tags": [],
            "needs_background": "light"
          }
        }
      ]
    },
    {
      "cell_type": "markdown",
      "metadata": {
        "id": "6vb2UW4c6GQi"
      },
      "source": [
        "**25. Fatality Rate for COVID-19 Positive Patients with Cardiovascular Disease**"
      ]
    },
    {
      "cell_type": "code",
      "metadata": {
        "id": "jyqs0W9Z8abU"
      },
      "source": [
        "# Cases with cardiovascular diseases\n",
        "cardiovascular=data[data['cardiovascular']=='Yes']\n",
        "# Resetting index\n",
        "cardiovascular.reset_index(drop=True, inplace=True)"
      ],
      "execution_count": null,
      "outputs": []
    },
    {
      "cell_type": "code",
      "metadata": {
        "colab": {
          "base_uri": "https://localhost:8080/",
          "height": 225
        },
        "id": "vlbwR6Po8abW",
        "outputId": "10f8238f-ecdf-449b-8efe-00baa8f99cad"
      },
      "source": [
        "# COVID-19 positive cases with cardiovascular diseases\n",
        "cardiovascular_pos=cardiovascular[cardiovascular['chance']=='positive']\n",
        "# Resetting index\n",
        "cardiovascular_pos.reset_index(drop=True, inplace=True)\n",
        "cardiovascular_pos.head()"
      ],
      "execution_count": null,
      "outputs": [
        {
          "output_type": "execute_result",
          "data": {
            "text/html": [
              "<div>\n",
              "<style scoped>\n",
              "    .dataframe tbody tr th:only-of-type {\n",
              "        vertical-align: middle;\n",
              "    }\n",
              "\n",
              "    .dataframe tbody tr th {\n",
              "        vertical-align: top;\n",
              "    }\n",
              "\n",
              "    .dataframe thead th {\n",
              "        text-align: right;\n",
              "    }\n",
              "</style>\n",
              "<table border=\"1\" class=\"dataframe\">\n",
              "  <thead>\n",
              "    <tr style=\"text-align: right;\">\n",
              "      <th></th>\n",
              "      <th>id</th>\n",
              "      <th>sex</th>\n",
              "      <th>patient_type</th>\n",
              "      <th>entry_date</th>\n",
              "      <th>date_symptoms</th>\n",
              "      <th>Deceased</th>\n",
              "      <th>intubated</th>\n",
              "      <th>pneumonia</th>\n",
              "      <th>age</th>\n",
              "      <th>pregnancy</th>\n",
              "      <th>diabetes</th>\n",
              "      <th>copd</th>\n",
              "      <th>asthma</th>\n",
              "      <th>imnsupr</th>\n",
              "      <th>hypertension</th>\n",
              "      <th>other_disease</th>\n",
              "      <th>cardiovascular</th>\n",
              "      <th>obesity</th>\n",
              "      <th>renal_chronic</th>\n",
              "      <th>tobacco</th>\n",
              "      <th>contact_other_covid</th>\n",
              "      <th>chance</th>\n",
              "      <th>icu</th>\n",
              "    </tr>\n",
              "  </thead>\n",
              "  <tbody>\n",
              "    <tr>\n",
              "      <th>0</th>\n",
              "      <td>0d01b5</td>\n",
              "      <td>Female</td>\n",
              "      <td>No</td>\n",
              "      <td>2020-04-13</td>\n",
              "      <td>2020-04-13</td>\n",
              "      <td>Yes</td>\n",
              "      <td>No</td>\n",
              "      <td>No</td>\n",
              "      <td>60.0</td>\n",
              "      <td>No</td>\n",
              "      <td>Yes</td>\n",
              "      <td>No</td>\n",
              "      <td>No</td>\n",
              "      <td>No</td>\n",
              "      <td>Yes</td>\n",
              "      <td>No</td>\n",
              "      <td>Yes</td>\n",
              "      <td>No</td>\n",
              "      <td>No</td>\n",
              "      <td>No</td>\n",
              "      <td>NaN</td>\n",
              "      <td>positive</td>\n",
              "      <td>No</td>\n",
              "    </tr>\n",
              "    <tr>\n",
              "      <th>1</th>\n",
              "      <td>16582b</td>\n",
              "      <td>Female</td>\n",
              "      <td>No</td>\n",
              "      <td>2020-04-21</td>\n",
              "      <td>2020-04-15</td>\n",
              "      <td>No</td>\n",
              "      <td>No</td>\n",
              "      <td>No</td>\n",
              "      <td>83.0</td>\n",
              "      <td>No</td>\n",
              "      <td>Yes</td>\n",
              "      <td>Yes</td>\n",
              "      <td>No</td>\n",
              "      <td>Yes</td>\n",
              "      <td>Yes</td>\n",
              "      <td>No</td>\n",
              "      <td>Yes</td>\n",
              "      <td>No</td>\n",
              "      <td>No</td>\n",
              "      <td>No</td>\n",
              "      <td>NaN</td>\n",
              "      <td>positive</td>\n",
              "      <td>No</td>\n",
              "    </tr>\n",
              "    <tr>\n",
              "      <th>2</th>\n",
              "      <td>1c183c</td>\n",
              "      <td>Female</td>\n",
              "      <td>No</td>\n",
              "      <td>2020-03-24</td>\n",
              "      <td>2020-03-24</td>\n",
              "      <td>Yes</td>\n",
              "      <td>No</td>\n",
              "      <td>Yes</td>\n",
              "      <td>80.0</td>\n",
              "      <td>No</td>\n",
              "      <td>Yes</td>\n",
              "      <td>No</td>\n",
              "      <td>No</td>\n",
              "      <td>No</td>\n",
              "      <td>Yes</td>\n",
              "      <td>No</td>\n",
              "      <td>Yes</td>\n",
              "      <td>No</td>\n",
              "      <td>Yes</td>\n",
              "      <td>No</td>\n",
              "      <td>NaN</td>\n",
              "      <td>positive</td>\n",
              "      <td>No</td>\n",
              "    </tr>\n",
              "    <tr>\n",
              "      <th>3</th>\n",
              "      <td>12f36f</td>\n",
              "      <td>Female</td>\n",
              "      <td>Yes</td>\n",
              "      <td>2020-04-23</td>\n",
              "      <td>2020-04-15</td>\n",
              "      <td>No</td>\n",
              "      <td>NaN</td>\n",
              "      <td>No</td>\n",
              "      <td>57.0</td>\n",
              "      <td>No</td>\n",
              "      <td>No</td>\n",
              "      <td>No</td>\n",
              "      <td>No</td>\n",
              "      <td>No</td>\n",
              "      <td>No</td>\n",
              "      <td>No</td>\n",
              "      <td>Yes</td>\n",
              "      <td>No</td>\n",
              "      <td>No</td>\n",
              "      <td>No</td>\n",
              "      <td>NaN</td>\n",
              "      <td>positive</td>\n",
              "      <td>NaN</td>\n",
              "    </tr>\n",
              "    <tr>\n",
              "      <th>4</th>\n",
              "      <td>0accf8</td>\n",
              "      <td>Male</td>\n",
              "      <td>No</td>\n",
              "      <td>2020-02-04</td>\n",
              "      <td>2020-01-04</td>\n",
              "      <td>Yes</td>\n",
              "      <td>No</td>\n",
              "      <td>Yes</td>\n",
              "      <td>87.0</td>\n",
              "      <td>NaN</td>\n",
              "      <td>Yes</td>\n",
              "      <td>Yes</td>\n",
              "      <td>No</td>\n",
              "      <td>Yes</td>\n",
              "      <td>Yes</td>\n",
              "      <td>No</td>\n",
              "      <td>Yes</td>\n",
              "      <td>No</td>\n",
              "      <td>No</td>\n",
              "      <td>No</td>\n",
              "      <td>NaN</td>\n",
              "      <td>positive</td>\n",
              "      <td>No</td>\n",
              "    </tr>\n",
              "  </tbody>\n",
              "</table>\n",
              "</div>"
            ],
            "text/plain": [
              "       id     sex patient_type  ... contact_other_covid    chance  icu\n",
              "0  0d01b5  Female           No  ...                 NaN  positive   No\n",
              "1  16582b  Female           No  ...                 NaN  positive   No\n",
              "2  1c183c  Female           No  ...                 NaN  positive   No\n",
              "3  12f36f  Female          Yes  ...                 NaN  positive  NaN\n",
              "4  0accf8    Male           No  ...                 NaN  positive   No\n",
              "\n",
              "[5 rows x 23 columns]"
            ]
          },
          "metadata": {
            "tags": []
          },
          "execution_count": 121
        }
      ]
    },
    {
      "cell_type": "code",
      "metadata": {
        "colab": {
          "base_uri": "https://localhost:8080/"
        },
        "id": "iOXqhC9SBC9d",
        "outputId": "04f88e8d-15e0-4e47-ec0f-a0424a5014c5"
      },
      "source": [
        "# Value counts of total deceased patients with cardiovascular diseases and deceased COVID-19 positive cases with cardiovascular diseases\n",
        "cardiovascular['Deceased'].value_counts(normalize=True)*100, cardiovascular_pos['Deceased'].value_counts(normalize=True)*100"
      ],
      "execution_count": null,
      "outputs": [
        {
          "output_type": "execute_result",
          "data": {
            "text/plain": [
              "(No     82.630137\n",
              " Yes    17.369863\n",
              " Name: Deceased, dtype: float64, No     72.161953\n",
              " Yes    27.838047\n",
              " Name: Deceased, dtype: float64)"
            ]
          },
          "metadata": {
            "tags": []
          },
          "execution_count": 122
        }
      ]
    },
    {
      "cell_type": "code",
      "metadata": {
        "colab": {
          "base_uri": "https://localhost:8080/",
          "height": 607
        },
        "id": "D0qk-wE28u29",
        "outputId": "e144c7ed-3375-4a45-cb2f-5b19c5188bb0"
      },
      "source": [
        "# Count plot\n",
        "plt.figure(figsize=(8,8))\n",
        "sns.countplot(x='chance', data=cardiovascular, hue=cardiovascular['Deceased'])\n",
        "plt.xticks(rotation=360)\n",
        "plt.title('Fatality Rate of Cardiovascular Patients',fontsize=15)\n",
        "plt.xlabel('Cardiovascular Patients \\n \\n Case Fatality Rate:{0:0.2f}% \\n \\n COVID-19 Positive Fatality rate:{1:0.2f}%'.format(cardiovascular['Deceased'].value_counts(normalize=True)[1]*100, cardiovascular_pos['Deceased'].value_counts(normalize=True)[1]*100), fontsize=15)\n",
        "plt.ylabel('count',fontsize=15)"
      ],
      "execution_count": null,
      "outputs": [
        {
          "output_type": "execute_result",
          "data": {
            "text/plain": [
              "Text(0, 0.5, 'count')"
            ]
          },
          "metadata": {
            "tags": []
          },
          "execution_count": 123
        },
        {
          "output_type": "display_data",
          "data": {
            "image/png": "[encoded data removed]",
            "text/plain": [
              "<Figure size 576x576 with 1 Axes>"
            ]
          },
          "metadata": {
            "tags": [],
            "needs_background": "light"
          }
        }
      ]
    },
    {
      "cell_type": "markdown",
      "metadata": {
        "id": "RM_fXr5Pc9Gf"
      },
      "source": [
        "**B. Box Plot for Age-Fatality Relation**"
      ]
    },
    {
      "cell_type": "code",
      "metadata": {
        "id": "LWlc2TtuXOT1"
      },
      "source": [
        "# New dataframe created using 'age' and 'deceased' columns\n",
        "death = pd.DataFrame(data['Deceased'])\n",
        "age = pd.DataFrame(data['age'])\n",
        "df = pd.concat([age,death], axis = 1)"
      ],
      "execution_count": null,
      "outputs": []
    },
    {
      "cell_type": "code",
      "metadata": {
        "colab": {
          "base_uri": "https://localhost:8080/",
          "height": 315
        },
        "id": "ga9ku6pDaMlE",
        "outputId": "550e213b-cfb1-43d1-e333-8039061032e3"
      },
      "source": [
        "# Boxplot\n",
        "fig = plt.figure(figsize=(12,4))\n",
        "sns.boxplot(x = 'age', y = 'Deceased', data = data, orient = 'h')\n",
        "plt.title('Age-Fatality Relation', fontsize=15)"
      ],
      "execution_count": null,
      "outputs": [
        {
          "output_type": "execute_result",
          "data": {
            "text/plain": [
              "Text(0.5, 1.0, 'Age-Fatality Relation')"
            ]
          },
          "metadata": {
            "tags": []
          },
          "execution_count": 125
        },
        {
          "output_type": "display_data",
          "data": {
            "image/png": "[encoded data removed]",
            "text/plain": [
              "<Figure size 864x288 with 1 Axes>"
            ]
          },
          "metadata": {
            "tags": [],
            "needs_background": "light"
          }
        }
      ]
    },
    {
      "cell_type": "markdown",
      "metadata": {
        "id": "2zRCLyFFcWxY"
      },
      "source": [
        "Observation: Covid is more lethal for older patients."
      ]
    },
    {
      "cell_type": "markdown",
      "metadata": {
        "id": "OARO0KOJMjxN"
      },
      "source": [
        "**Label Encoding**"
      ]
    },
    {
      "cell_type": "code",
      "metadata": {
        "colab": {
          "base_uri": "https://localhost:8080/"
        },
        "id": "xpohN7nnMCLX",
        "outputId": "ca431046-5788-4518-e3c8-a3a218cfcf38"
      },
      "source": [
        "# Rows and columns\n",
        "data.shape"
      ],
      "execution_count": null,
      "outputs": [
        {
          "output_type": "execute_result",
          "data": {
            "text/plain": [
              "(566602, 23)"
            ]
          },
          "metadata": {
            "tags": []
          },
          "execution_count": 126
        }
      ]
    },
    {
      "cell_type": "code",
      "metadata": {
        "colab": {
          "base_uri": "https://localhost:8080/"
        },
        "id": "ryKWpRPos1R4",
        "outputId": "c6757848-7d94-4799-f1ff-bddc3bc13842"
      },
      "source": [
        "# Removing COVID-19 awaiting results\n",
        "data=data[data['chance']!='awaiting']\n",
        "data['chance'].replace(['negative', 'positive'],[0,1], inplace=True)\n",
        "data['chance'].value_counts()"
      ],
      "execution_count": null,
      "outputs": [
        {
          "output_type": "execute_result",
          "data": {
            "text/plain": [
              "0    279035\n",
              "1    220657\n",
              "Name: chance, dtype: int64"
            ]
          },
          "metadata": {
            "tags": []
          },
          "execution_count": 127
        }
      ]
    },
    {
      "cell_type": "code",
      "metadata": {
        "colab": {
          "base_uri": "https://localhost:8080/"
        },
        "id": "T_zIu9ut1Uns",
        "outputId": "eb79b9b8-585e-4908-dde0-bb672baa472c"
      },
      "source": [
        "# Columns\n",
        "data.columns"
      ],
      "execution_count": null,
      "outputs": [
        {
          "output_type": "execute_result",
          "data": {
            "text/plain": [
              "Index(['id', 'sex', 'patient_type', 'entry_date', 'date_symptoms', 'Deceased',\n",
              "       'intubated', 'pneumonia', 'age', 'pregnancy', 'diabetes', 'copd',\n",
              "       'asthma', 'imnsupr', 'hypertension', 'other_disease', 'cardiovascular',\n",
              "       'obesity', 'renal_chronic', 'tobacco', 'contact_other_covid', 'chance',\n",
              "       'icu'],\n",
              "      dtype='object')"
            ]
          },
          "metadata": {
            "tags": []
          },
          "execution_count": 128
        }
      ]
    },
    {
      "cell_type": "code",
      "metadata": {
        "id": "SGjlbx4CrZP-"
      },
      "source": [
        "# Label encoding\n",
        "from sklearn.preprocessing import LabelEncoder\n",
        "label_en=LabelEncoder()\n",
        "a=['sex', 'patient_type', 'Deceased', 'pneumonia', 'diabetes', 'copd',\n",
        "       'asthma', 'imnsupr', 'hypertension', 'other_disease', 'cardiovascular',\n",
        "       'obesity', 'renal_chronic', 'tobacco']\n",
        "for i in np.arange(len(a)):\n",
        "  data[a[i]]=label_en.fit_transform(data[a[i]])\n"
      ],
      "execution_count": null,
      "outputs": []
    },
    {
      "cell_type": "code",
      "metadata": {
        "colab": {
          "base_uri": "https://localhost:8080/",
          "height": 225
        },
        "id": "SNk9A6oA6QaT",
        "outputId": "243ba001-2166-4835-9528-3da3c90dd51d"
      },
      "source": [
        "# Display first 5 rows\n",
        "data.head()"
      ],
      "execution_count": null,
      "outputs": [
        {
          "output_type": "execute_result",
          "data": {
            "text/html": [
              "<div>\n",
              "<style scoped>\n",
              "    .dataframe tbody tr th:only-of-type {\n",
              "        vertical-align: middle;\n",
              "    }\n",
              "\n",
              "    .dataframe tbody tr th {\n",
              "        vertical-align: top;\n",
              "    }\n",
              "\n",
              "    .dataframe thead th {\n",
              "        text-align: right;\n",
              "    }\n",
              "</style>\n",
              "<table border=\"1\" class=\"dataframe\">\n",
              "  <thead>\n",
              "    <tr style=\"text-align: right;\">\n",
              "      <th></th>\n",
              "      <th>id</th>\n",
              "      <th>sex</th>\n",
              "      <th>patient_type</th>\n",
              "      <th>entry_date</th>\n",
              "      <th>date_symptoms</th>\n",
              "      <th>Deceased</th>\n",
              "      <th>intubated</th>\n",
              "      <th>pneumonia</th>\n",
              "      <th>age</th>\n",
              "      <th>pregnancy</th>\n",
              "      <th>diabetes</th>\n",
              "      <th>copd</th>\n",
              "      <th>asthma</th>\n",
              "      <th>imnsupr</th>\n",
              "      <th>hypertension</th>\n",
              "      <th>other_disease</th>\n",
              "      <th>cardiovascular</th>\n",
              "      <th>obesity</th>\n",
              "      <th>renal_chronic</th>\n",
              "      <th>tobacco</th>\n",
              "      <th>contact_other_covid</th>\n",
              "      <th>chance</th>\n",
              "      <th>icu</th>\n",
              "    </tr>\n",
              "  </thead>\n",
              "  <tbody>\n",
              "    <tr>\n",
              "      <th>0</th>\n",
              "      <td>16169f</td>\n",
              "      <td>1</td>\n",
              "      <td>1</td>\n",
              "      <td>2020-04-05</td>\n",
              "      <td>2020-02-05</td>\n",
              "      <td>0</td>\n",
              "      <td>NaN</td>\n",
              "      <td>0</td>\n",
              "      <td>27.0</td>\n",
              "      <td>NaN</td>\n",
              "      <td>0</td>\n",
              "      <td>0</td>\n",
              "      <td>0</td>\n",
              "      <td>0</td>\n",
              "      <td>0</td>\n",
              "      <td>0</td>\n",
              "      <td>0</td>\n",
              "      <td>0</td>\n",
              "      <td>0</td>\n",
              "      <td>0</td>\n",
              "      <td>No</td>\n",
              "      <td>1</td>\n",
              "      <td>NaN</td>\n",
              "    </tr>\n",
              "    <tr>\n",
              "      <th>1</th>\n",
              "      <td>1009bf</td>\n",
              "      <td>1</td>\n",
              "      <td>1</td>\n",
              "      <td>2020-03-19</td>\n",
              "      <td>2020-03-17</td>\n",
              "      <td>0</td>\n",
              "      <td>NaN</td>\n",
              "      <td>0</td>\n",
              "      <td>24.0</td>\n",
              "      <td>NaN</td>\n",
              "      <td>0</td>\n",
              "      <td>0</td>\n",
              "      <td>0</td>\n",
              "      <td>0</td>\n",
              "      <td>0</td>\n",
              "      <td>0</td>\n",
              "      <td>0</td>\n",
              "      <td>0</td>\n",
              "      <td>0</td>\n",
              "      <td>0</td>\n",
              "      <td>NaN</td>\n",
              "      <td>1</td>\n",
              "      <td>NaN</td>\n",
              "    </tr>\n",
              "    <tr>\n",
              "      <th>2</th>\n",
              "      <td>167386</td>\n",
              "      <td>0</td>\n",
              "      <td>0</td>\n",
              "      <td>2020-06-04</td>\n",
              "      <td>2020-01-04</td>\n",
              "      <td>0</td>\n",
              "      <td>No</td>\n",
              "      <td>0</td>\n",
              "      <td>54.0</td>\n",
              "      <td>No</td>\n",
              "      <td>0</td>\n",
              "      <td>0</td>\n",
              "      <td>0</td>\n",
              "      <td>0</td>\n",
              "      <td>0</td>\n",
              "      <td>0</td>\n",
              "      <td>0</td>\n",
              "      <td>1</td>\n",
              "      <td>0</td>\n",
              "      <td>0</td>\n",
              "      <td>NaN</td>\n",
              "      <td>1</td>\n",
              "      <td>No</td>\n",
              "    </tr>\n",
              "    <tr>\n",
              "      <th>3</th>\n",
              "      <td>0b5948</td>\n",
              "      <td>1</td>\n",
              "      <td>0</td>\n",
              "      <td>2020-04-17</td>\n",
              "      <td>2020-10-04</td>\n",
              "      <td>0</td>\n",
              "      <td>No</td>\n",
              "      <td>1</td>\n",
              "      <td>30.0</td>\n",
              "      <td>NaN</td>\n",
              "      <td>0</td>\n",
              "      <td>0</td>\n",
              "      <td>0</td>\n",
              "      <td>0</td>\n",
              "      <td>0</td>\n",
              "      <td>0</td>\n",
              "      <td>0</td>\n",
              "      <td>0</td>\n",
              "      <td>0</td>\n",
              "      <td>0</td>\n",
              "      <td>NaN</td>\n",
              "      <td>1</td>\n",
              "      <td>No</td>\n",
              "    </tr>\n",
              "    <tr>\n",
              "      <th>4</th>\n",
              "      <td>0d01b5</td>\n",
              "      <td>0</td>\n",
              "      <td>0</td>\n",
              "      <td>2020-04-13</td>\n",
              "      <td>2020-04-13</td>\n",
              "      <td>1</td>\n",
              "      <td>No</td>\n",
              "      <td>0</td>\n",
              "      <td>60.0</td>\n",
              "      <td>No</td>\n",
              "      <td>1</td>\n",
              "      <td>0</td>\n",
              "      <td>0</td>\n",
              "      <td>0</td>\n",
              "      <td>1</td>\n",
              "      <td>0</td>\n",
              "      <td>1</td>\n",
              "      <td>0</td>\n",
              "      <td>0</td>\n",
              "      <td>0</td>\n",
              "      <td>NaN</td>\n",
              "      <td>1</td>\n",
              "      <td>No</td>\n",
              "    </tr>\n",
              "  </tbody>\n",
              "</table>\n",
              "</div>"
            ],
            "text/plain": [
              "       id  sex  patient_type  ... contact_other_covid chance  icu\n",
              "0  16169f    1             1  ...                  No      1  NaN\n",
              "1  1009bf    1             1  ...                 NaN      1  NaN\n",
              "2  167386    0             0  ...                 NaN      1   No\n",
              "3  0b5948    1             0  ...                 NaN      1   No\n",
              "4  0d01b5    0             0  ...                 NaN      1   No\n",
              "\n",
              "[5 rows x 23 columns]"
            ]
          },
          "metadata": {
            "tags": []
          },
          "execution_count": 130
        }
      ]
    },
    {
      "cell_type": "code",
      "metadata": {
        "colab": {
          "base_uri": "https://localhost:8080/"
        },
        "id": "XGGLFc996gwC",
        "outputId": "7223fed9-3df3-40c5-cb15-43e0445ab1b1"
      },
      "source": [
        "# Value count of encoded features\n",
        "for i in a:\n",
        "  print((data[i].value_counts(normalize=True)*100).to_frame(),'\\n')\n",
        "  print(\"----------------\")"
      ],
      "execution_count": null,
      "outputs": [
        {
          "output_type": "stream",
          "text": [
            "         sex\n",
            "1  50.650801\n",
            "0  49.349199 \n",
            "\n",
            "----------------\n",
            "   patient_type\n",
            "1     78.477542\n",
            "0     21.522458 \n",
            "\n",
            "----------------\n",
            "    Deceased\n",
            "0  93.171594\n",
            "1   6.828406 \n",
            "\n",
            "----------------\n",
            "   pneumonia\n",
            "0  84.247096\n",
            "1  15.752904 \n",
            "\n",
            "----------------\n",
            "    diabetes\n",
            "0  87.522514\n",
            "1  12.477486 \n",
            "\n",
            "----------------\n",
            "       copd\n",
            "0  98.34378\n",
            "1   1.65622 \n",
            "\n",
            "----------------\n",
            "      asthma\n",
            "0  96.755201\n",
            "1   3.244799 \n",
            "\n",
            "----------------\n",
            "     imnsupr\n",
            "0  98.384805\n",
            "1   1.615195 \n",
            "\n",
            "----------------\n",
            "   hypertension\n",
            "0     83.721973\n",
            "1     16.278027 \n",
            "\n",
            "----------------\n",
            "   other_disease\n",
            "0      96.919703\n",
            "1       3.080297 \n",
            "\n",
            "----------------\n",
            "   cardiovascular\n",
            "0       97.714792\n",
            "1        2.285208 \n",
            "\n",
            "----------------\n",
            "   obesity\n",
            "0  83.6041\n",
            "1  16.3959 \n",
            "\n",
            "----------------\n",
            "   renal_chronic\n",
            "0      97.994965\n",
            "1       2.005035 \n",
            "\n",
            "----------------\n",
            "     tobacco\n",
            "0  91.403705\n",
            "1   8.596295 \n",
            "\n",
            "----------------\n"
          ],
          "name": "stdout"
        }
      ]
    },
    {
      "cell_type": "markdown",
      "metadata": {
        "id": "IlFBkpEKH-5C"
      },
      "source": [
        "**Correlation Analysis**"
      ]
    },
    {
      "cell_type": "markdown",
      "metadata": {
        "id": "M5YBMTu5woIE"
      },
      "source": [
        "This heatmap shows the linear relationship between the features"
      ]
    },
    {
      "cell_type": "code",
      "metadata": {
        "colab": {
          "base_uri": "https://localhost:8080/",
          "height": 445
        },
        "id": "w4SFjWuJI4FE",
        "outputId": "a83ffc97-627e-4eaf-86d3-0ea389da0515"
      },
      "source": [
        "# Correlation matrix\n",
        "corrmatrix=data.corr()\n",
        "plt.subplots(figsize=(30,10))\n",
        "sns.heatmap(corrmatrix,vmin=-0.7,vmax=0.45,annot=True,linewidths=0.2,cmap='YlGnBu')"
      ],
      "execution_count": null,
      "outputs": [
        {
          "output_type": "execute_result",
          "data": {
            "text/plain": [
              "<matplotlib.axes._subplots.AxesSubplot at 0x7fc9112ade90>"
            ]
          },
          "metadata": {
            "tags": []
          },
          "execution_count": 132
        },
        {
          "output_type": "display_data",
          "data": {
            "image/png": "[encoded data removed]",
            "text/plain": [
              "<Figure size 2160x720 with 2 Axes>"
            ]
          },
          "metadata": {
            "tags": [],
            "needs_background": "light"
          }
        }
      ]
    },
    {
      "cell_type": "markdown",
      "metadata": {
        "id": "j7xglRqj4SaW"
      },
      "source": [
        "# **V. Model Development and Performance Evaluation**"
      ]
    },
    {
      "cell_type": "markdown",
      "metadata": {
        "id": "Qtm8e03nhDhP"
      },
      "source": [
        "**A. Dataset Splitting**"
      ]
    },
    {
      "cell_type": "code",
      "metadata": {
        "colab": {
          "base_uri": "https://localhost:8080/"
        },
        "id": "JGeEvcK-K7Dd",
        "outputId": "d9a36261-eaa1-4f77-eb48-571e77d6d9b3"
      },
      "source": [
        "# Rows and columns\n",
        "data.shape"
      ],
      "execution_count": null,
      "outputs": [
        {
          "output_type": "execute_result",
          "data": {
            "text/plain": [
              "(499692, 23)"
            ]
          },
          "metadata": {
            "tags": []
          },
          "execution_count": 133
        }
      ]
    },
    {
      "cell_type": "code",
      "metadata": {
        "colab": {
          "base_uri": "https://localhost:8080/"
        },
        "id": "tD5nGgBZQJOq",
        "outputId": "92a67abb-6774-4f1a-a23e-686452c6030f"
      },
      "source": [
        "# Columns\n",
        "data.columns"
      ],
      "execution_count": null,
      "outputs": [
        {
          "output_type": "execute_result",
          "data": {
            "text/plain": [
              "Index(['id', 'sex', 'patient_type', 'entry_date', 'date_symptoms', 'Deceased',\n",
              "       'intubated', 'pneumonia', 'age', 'pregnancy', 'diabetes', 'copd',\n",
              "       'asthma', 'imnsupr', 'hypertension', 'other_disease', 'cardiovascular',\n",
              "       'obesity', 'renal_chronic', 'tobacco', 'contact_other_covid', 'chance',\n",
              "       'icu'],\n",
              "      dtype='object')"
            ]
          },
          "metadata": {
            "tags": []
          },
          "execution_count": 134
        }
      ]
    },
    {
      "cell_type": "code",
      "metadata": {
        "id": "9b_O4WFH81R7"
      },
      "source": [
        "# Selecting target variable and variables for model development\n",
        "X=data.drop(['id','entry_date', 'date_symptoms', 'Deceased', 'intubated', 'pregnancy', 'contact_other_covid', 'icu', 'chance'],axis=1)\n",
        "y=data['chance']"
      ],
      "execution_count": null,
      "outputs": []
    },
    {
      "cell_type": "code",
      "metadata": {
        "colab": {
          "base_uri": "https://localhost:8080/"
        },
        "id": "n0o4X6lUDpPY",
        "outputId": "5e7e77f8-de98-4741-822f-c858ce595aa6"
      },
      "source": [
        "# Rows and columns for target variable and other chosen variables for model development\n",
        "X.shape, y.shape"
      ],
      "execution_count": null,
      "outputs": [
        {
          "output_type": "execute_result",
          "data": {
            "text/plain": [
              "((499692, 14), (499692,))"
            ]
          },
          "metadata": {
            "tags": []
          },
          "execution_count": 136
        }
      ]
    },
    {
      "cell_type": "code",
      "metadata": {
        "id": "S0o0ZCD8QSGq"
      },
      "source": [
        "# Splitting the dataset as training set and testing set in the ratio 80:20 repectively\n",
        "from sklearn.model_selection import train_test_split\n",
        "X_train, X_test, y_train, y_test=train_test_split(X, y, random_state=42, test_size=.2)"
      ],
      "execution_count": null,
      "outputs": []
    },
    {
      "cell_type": "code",
      "metadata": {
        "colab": {
          "base_uri": "https://localhost:8080/"
        },
        "id": "ZDRNQPkeIQXI",
        "outputId": "c4aeef8b-6f1d-4186-91e5-0f79f5c61f6b"
      },
      "source": [
        "# Rows and columns  of trainining set\n",
        "X_train.shape, y_train.shape"
      ],
      "execution_count": null,
      "outputs": [
        {
          "output_type": "execute_result",
          "data": {
            "text/plain": [
              "((399753, 14), (399753,))"
            ]
          },
          "metadata": {
            "tags": []
          },
          "execution_count": 138
        }
      ]
    },
    {
      "cell_type": "code",
      "metadata": {
        "colab": {
          "base_uri": "https://localhost:8080/"
        },
        "id": "piZ5uHCKISRH",
        "outputId": "2fe0f668-68c4-4cef-bd2a-74842048684b"
      },
      "source": [
        "# Rows and columns testing set\n",
        "X_test.shape, y_test.shape"
      ],
      "execution_count": null,
      "outputs": [
        {
          "output_type": "execute_result",
          "data": {
            "text/plain": [
              "((99939, 14), (99939,))"
            ]
          },
          "metadata": {
            "tags": []
          },
          "execution_count": 139
        }
      ]
    },
    {
      "cell_type": "markdown",
      "metadata": {
        "id": "4xgS-UO26Ej2"
      },
      "source": [
        "**B. Machine Learning Model Building**"
      ]
    },
    {
      "cell_type": "markdown",
      "metadata": {
        "id": "7wwdofr9xE9r"
      },
      "source": [
        "Splitting the dataset into train set and test set in the ratio of 75:25 respectively"
      ]
    },
    {
      "cell_type": "code",
      "metadata": {
        "id": "mQlCZdBhTxCM"
      },
      "source": [
        "# Importing evaluation metrics from sklearn\n",
        "from sklearn.metrics import confusion_matrix, accuracy_score, precision_score,recall_score,f1_score"
      ],
      "execution_count": null,
      "outputs": []
    },
    {
      "cell_type": "markdown",
      "metadata": {
        "id": "8iroE4T7Tov_"
      },
      "source": [
        "**1. Logistic Regression**"
      ]
    },
    {
      "cell_type": "code",
      "metadata": {
        "colab": {
          "base_uri": "https://localhost:8080/"
        },
        "id": "SuXaR4baTn3a",
        "outputId": "3b0c85c6-dc5f-4d95-d9e0-3ff437341b32"
      },
      "source": [
        "# Fitting the training data and making the predictions on test data\n",
        "from sklearn.linear_model import LogisticRegression\n",
        "logit_model=LogisticRegression()\n",
        "logit_model.fit(X_train,y_train)\n",
        "y_pred=logit_model.predict(X_test)"
      ],
      "execution_count": null,
      "outputs": [
        {
          "output_type": "stream",
          "text": [
            "/usr/local/lib/python3.7/dist-packages/sklearn/linear_model/_logistic.py:940: ConvergenceWarning: lbfgs failed to converge (status=1):\n",
            "STOP: TOTAL NO. of ITERATIONS REACHED LIMIT.\n",
            "\n",
            "Increase the number of iterations (max_iter) or scale the data as shown in:\n",
            "    https://scikit-learn.org/stable/modules/preprocessing.html\n",
            "Please also refer to the documentation for alternative solver options:\n",
            "    https://scikit-learn.org/stable/modules/linear_model.html#logistic-regression\n",
            "  extra_warning_msg=_LOGISTIC_SOLVER_CONVERGENCE_MSG)\n"
          ],
          "name": "stderr"
        }
      ]
    },
    {
      "cell_type": "code",
      "metadata": {
        "colab": {
          "base_uri": "https://localhost:8080/"
        },
        "id": "maob0rLFVYVq",
        "outputId": "383808e9-21b5-4c31-ba59-200ed42b70f5"
      },
      "source": [
        "# Performance Evaluation:\n",
        "print(\"Accuracy is\", accuracy_score(y_test, y_pred))\n",
        "print(\"precision is\", precision_score(y_test,y_pred))\n",
        "print(\"Recall is\", recall_score(y_test,y_pred))\n",
        "print(\"f1 score is\" ,f1_score(y_test,y_pred))\n",
        "confusion_matrix(y_test,y_pred)"
      ],
      "execution_count": null,
      "outputs": [
        {
          "output_type": "stream",
          "text": [
            "Accuracy is 0.6297041195129028\n",
            "precision is 0.646717831482691\n",
            "Recall is 0.35845683900893766\n",
            "f1 score is 0.4612540216331106\n"
          ],
          "name": "stdout"
        },
        {
          "output_type": "execute_result",
          "data": {
            "text/plain": [
              "array([[47090,  8654],\n",
              "       [28353, 15842]])"
            ]
          },
          "metadata": {
            "tags": []
          },
          "execution_count": 142
        }
      ]
    },
    {
      "cell_type": "markdown",
      "metadata": {
        "id": "Fc4dYQYkLXZz"
      },
      "source": [
        "**2. Decision Tree Algorithm**"
      ]
    },
    {
      "cell_type": "code",
      "metadata": {
        "id": "93Jz1LVgUqnK"
      },
      "source": [
        "# Fitting the training data and making the predictions on test data\n",
        "from sklearn.tree import  DecisionTreeClassifier\n",
        "dt_model=DecisionTreeClassifier()\n",
        "dt_model.fit(X_train,y_train)\n",
        "y_pred=dt_model.predict(X_test)"
      ],
      "execution_count": null,
      "outputs": []
    },
    {
      "cell_type": "code",
      "metadata": {
        "id": "13y7iOI3Vc34",
        "colab": {
          "base_uri": "https://localhost:8080/"
        },
        "outputId": "cb975de5-c75e-46f1-d1b1-c3ddb628c2b4"
      },
      "source": [
        "# Performance Evaluation:\n",
        "print(\"Accuracy is\", accuracy_score(y_test, y_pred))\n",
        "print(\"precision is\", precision_score(y_test,y_pred))\n",
        "print(\"Recall is\", recall_score(y_test,y_pred))\n",
        "print(\"f1 score is\" ,f1_score(y_test,y_pred))\n",
        "confusion_matrix(y_test,y_pred)"
      ],
      "execution_count": null,
      "outputs": [
        {
          "output_type": "stream",
          "text": [
            "Accuracy is 0.6248011286885\n",
            "precision is 0.644229112833764\n",
            "Recall is 0.33847720330354114\n",
            "f1 score is 0.4437884743751391\n"
          ],
          "name": "stdout"
        },
        {
          "output_type": "execute_result",
          "data": {
            "text/plain": [
              "array([[47483,  8261],\n",
              "       [29236, 14959]])"
            ]
          },
          "metadata": {
            "tags": []
          },
          "execution_count": 144
        }
      ]
    },
    {
      "cell_type": "markdown",
      "metadata": {
        "id": "gSYjkEpxNjqh"
      },
      "source": [
        "**3. Random Forest Algorithm**"
      ]
    },
    {
      "cell_type": "code",
      "metadata": {
        "id": "3A-J69YASvm5"
      },
      "source": [
        "# Fitting the training data and making the predictions on test data\n",
        "from sklearn.ensemble import RandomForestClassifier\n",
        "Random_forest=RandomForestClassifier(n_estimators=200)\n",
        "Random_forest.fit(X_train,y_train)\n",
        "y_pred = Random_forest.predict(X_test)"
      ],
      "execution_count": null,
      "outputs": []
    },
    {
      "cell_type": "code",
      "metadata": {
        "colab": {
          "base_uri": "https://localhost:8080/"
        },
        "id": "qsduwLQxTFSy",
        "outputId": "063949c6-8fb1-4cfb-bfac-4ae8ab3ca85c"
      },
      "source": [
        "# Performance Evaluation:\n",
        "print(\"Accuracy is\", accuracy_score(y_test, y_pred))\n",
        "print(\"precision is\", precision_score(y_test,y_pred))\n",
        "print(\"Recall is\", recall_score(y_test,y_pred))\n",
        "print(\"f1 score is\" ,f1_score(y_test,y_pred))\n",
        "confusion_matrix(y_test,y_pred)"
      ],
      "execution_count": null,
      "outputs": [
        {
          "output_type": "stream",
          "text": [
            "Accuracy is 0.6255615925714686\n",
            "precision is 0.6397392524135654\n",
            "Recall is 0.3508541690236452\n",
            "f1 score is 0.45317317668376367\n"
          ],
          "name": "stdout"
        },
        {
          "output_type": "execute_result",
          "data": {
            "text/plain": [
              "array([[47012,  8732],\n",
              "       [28689, 15506]])"
            ]
          },
          "metadata": {
            "tags": []
          },
          "execution_count": 146
        }
      ]
    },
    {
      "cell_type": "markdown",
      "metadata": {
        "id": "OiiqmXSlNwcR"
      },
      "source": [
        "**4. Gradient Boosting**"
      ]
    },
    {
      "cell_type": "code",
      "metadata": {
        "id": "Pam1Q3L4ShV1"
      },
      "source": [
        "# Fitting the training data and making the predictions on test data\n",
        "from sklearn.ensemble import GradientBoostingClassifier\n",
        "gb=GradientBoostingClassifier()\n",
        "gb.fit(X_train,y_train)\n",
        "gb_predict=gb.predict(X_test)"
      ],
      "execution_count": null,
      "outputs": []
    },
    {
      "cell_type": "code",
      "metadata": {
        "colab": {
          "base_uri": "https://localhost:8080/"
        },
        "id": "t0vn7520Sm1F",
        "outputId": "6bc5623c-e989-4b7f-f9b7-c474a84af76c"
      },
      "source": [
        "# Performance Evaluation:\n",
        "print(\"Accuracy is\", accuracy_score(y_test, y_pred))\n",
        "print(\"precision is\", precision_score(y_test,y_pred))\n",
        "print(\"Recall is\", recall_score(y_test,y_pred))\n",
        "print(\"f1 score is\" ,f1_score(y_test,y_pred))\n",
        "confusion_matrix(y_test,y_pred)"
      ],
      "execution_count": null,
      "outputs": [
        {
          "output_type": "stream",
          "text": [
            "Accuracy is 0.6255615925714686\n",
            "precision is 0.6397392524135654\n",
            "Recall is 0.3508541690236452\n",
            "f1 score is 0.45317317668376367\n"
          ],
          "name": "stdout"
        },
        {
          "output_type": "execute_result",
          "data": {
            "text/plain": [
              "array([[47012,  8732],\n",
              "       [28689, 15506]])"
            ]
          },
          "metadata": {
            "tags": []
          },
          "execution_count": 148
        }
      ]
    },
    {
      "cell_type": "markdown",
      "metadata": {
        "id": "P9jyfAVHN90I"
      },
      "source": [
        "**5. Extreme Gradient Boosting**"
      ]
    },
    {
      "cell_type": "code",
      "metadata": {
        "id": "U_z57n0nPLtC"
      },
      "source": [
        "# Fitting the training data and making the predictions on test data\n",
        "from xgboost import XGBClassifier\n",
        "xg=XGBClassifier()\n",
        "xg.fit(X_train,y_train)\n",
        "xg_predict=xg.predict(X_test)"
      ],
      "execution_count": null,
      "outputs": []
    },
    {
      "cell_type": "code",
      "metadata": {
        "colab": {
          "base_uri": "https://localhost:8080/"
        },
        "id": "PJC_DyEOv684",
        "outputId": "aae486fa-6ee5-4b7b-d9b0-a93cca0992eb"
      },
      "source": [
        "# Performance Evaluation:\n",
        "print(\"Accuracy is\", accuracy_score(y_test, y_pred))\n",
        "print(\"precision is\", precision_score(y_test,y_pred))\n",
        "print(\"Recall is\", recall_score(y_test,y_pred))\n",
        "print(\"f1 score is\" ,f1_score(y_test,y_pred))\n",
        "confusion_matrix(y_test,y_pred)"
      ],
      "execution_count": null,
      "outputs": [
        {
          "output_type": "stream",
          "text": [
            "Accuracy is 0.6255615925714686\n",
            "precision is 0.6397392524135654\n",
            "Recall is 0.3508541690236452\n",
            "f1 score is 0.45317317668376367\n"
          ],
          "name": "stdout"
        },
        {
          "output_type": "execute_result",
          "data": {
            "text/plain": [
              "array([[47012,  8732],\n",
              "       [28689, 15506]])"
            ]
          },
          "metadata": {
            "tags": []
          },
          "execution_count": 150
        }
      ]
    },
    {
      "cell_type": "markdown",
      "metadata": {
        "id": "6oZuOwZNV2V1"
      },
      "source": [
        "**6. Naive Bayes**"
      ]
    },
    {
      "cell_type": "markdown",
      "metadata": {
        "id": "Z_pv8J5CV5fF"
      },
      "source": [
        "**6.1. Bernoulli Naive Bayes**"
      ]
    },
    {
      "cell_type": "code",
      "metadata": {
        "id": "_C35J3Y8WMDw"
      },
      "source": [
        "# Fitting the training data and making the predictions on test data\n",
        "from sklearn.naive_bayes import BernoulliNB\n",
        "classifier=BernoulliNB()\n",
        "classifier.fit(X_train,y_train)\n",
        "y_pred=classifier.predict(X_test)"
      ],
      "execution_count": null,
      "outputs": []
    },
    {
      "cell_type": "code",
      "metadata": {
        "id": "3n7uj-I3WPfi",
        "colab": {
          "base_uri": "https://localhost:8080/"
        },
        "outputId": "ac2e94ea-b701-464c-f067-31cfb546ce0d"
      },
      "source": [
        "# Performance Evaluation:\n",
        "print(\"Accuracy is\", accuracy_score(y_test, y_pred))\n",
        "print(\"precision is\", precision_score(y_test,y_pred))\n",
        "print(\"Recall is\", recall_score(y_test,y_pred))\n",
        "print(\"f1 score is\" ,f1_score(y_test,y_pred))\n",
        "confusion_matrix(y_test,y_pred)"
      ],
      "execution_count": null,
      "outputs": [
        {
          "output_type": "stream",
          "text": [
            "Accuracy is 0.622439688209808\n",
            "precision is 0.6181784930504755\n",
            "Recall is 0.3824188256590112\n",
            "f1 score is 0.47252393933039766\n"
          ],
          "name": "stdout"
        },
        {
          "output_type": "execute_result",
          "data": {
            "text/plain": [
              "array([[45305, 10439],\n",
              "       [27294, 16901]])"
            ]
          },
          "metadata": {
            "tags": []
          },
          "execution_count": 152
        }
      ]
    },
    {
      "cell_type": "markdown",
      "metadata": {
        "id": "_2m3OImaWB42"
      },
      "source": [
        "**6.2. Gaussian Naive Bayes**"
      ]
    },
    {
      "cell_type": "code",
      "metadata": {
        "id": "qV3-NbtKWSZi"
      },
      "source": [
        "# Fitting the training data and making the predictions on test data\n",
        "from sklearn.naive_bayes import GaussianNB\n",
        "classifier=GaussianNB()\n",
        "classifier.fit(X_train,y_train)\n",
        "y_pred=classifier.predict(X_test)"
      ],
      "execution_count": null,
      "outputs": []
    },
    {
      "cell_type": "code",
      "metadata": {
        "id": "sbkZgSFtWRvq",
        "colab": {
          "base_uri": "https://localhost:8080/"
        },
        "outputId": "b8b913ee-9912-481d-9485-d732bdec6e9e"
      },
      "source": [
        "# Performance Evaluation:\n",
        "print(\"Accuracy is\", accuracy_score(y_test, y_pred))\n",
        "print(\"precision is\", precision_score(y_test,y_pred))\n",
        "print(\"Recall is\", recall_score(y_test,y_pred))\n",
        "print(\"f1 score is\" ,f1_score(y_test,y_pred))\n",
        "confusion_matrix(y_test,y_pred)"
      ],
      "execution_count": null,
      "outputs": [
        {
          "output_type": "stream",
          "text": [
            "Accuracy is 0.6226197980768269\n",
            "precision is 0.6049494687742939\n",
            "Recall is 0.42258174001583887\n",
            "f1 score is 0.49758215993712285\n"
          ],
          "name": "stdout"
        },
        {
          "output_type": "execute_result",
          "data": {
            "text/plain": [
              "array([[43548, 12196],\n",
              "       [25519, 18676]])"
            ]
          },
          "metadata": {
            "tags": []
          },
          "execution_count": 154
        }
      ]
    },
    {
      "cell_type": "markdown",
      "metadata": {
        "id": "3oyu6NTdEBSX"
      },
      "source": [
        "# **VI. Data Transformation**"
      ]
    },
    {
      "cell_type": "markdown",
      "metadata": {
        "id": "tDL3uwhwwd9R"
      },
      "source": [
        "**A. Normalization**"
      ]
    },
    {
      "cell_type": "code",
      "metadata": {
        "id": "8z9n4A7_wheU"
      },
      "source": [
        "# Normalizing training set and testing set seperately\n",
        "from sklearn.preprocessing import Normalizer\n",
        "norm=Normalizer()\n",
        "X_train_norm=norm.fit_transform(X_train)\n",
        "X_test_norm=norm.fit_transform(X_test)"
      ],
      "execution_count": null,
      "outputs": []
    },
    {
      "cell_type": "code",
      "metadata": {
        "id": "OM3I9SxP_kUV",
        "colab": {
          "base_uri": "https://localhost:8080/",
          "height": 319
        },
        "outputId": "5233f55b-5a5f-4466-f9a6-f7d11df6738b"
      },
      "source": [
        "# Descriptive statistics of training set and testing set after normalization\n",
        "X_train_norm=pd.DataFrame(X_train_norm)\n",
        "X_train_norm.describe()\n",
        "X_test_norm=pd.DataFrame(X_test_norm)\n",
        "X_test_norm.describe()"
      ],
      "execution_count": null,
      "outputs": [
        {
          "output_type": "execute_result",
          "data": {
            "text/html": [
              "<div>\n",
              "<style scoped>\n",
              "    .dataframe tbody tr th:only-of-type {\n",
              "        vertical-align: middle;\n",
              "    }\n",
              "\n",
              "    .dataframe tbody tr th {\n",
              "        vertical-align: top;\n",
              "    }\n",
              "\n",
              "    .dataframe thead th {\n",
              "        text-align: right;\n",
              "    }\n",
              "</style>\n",
              "<table border=\"1\" class=\"dataframe\">\n",
              "  <thead>\n",
              "    <tr style=\"text-align: right;\">\n",
              "      <th></th>\n",
              "      <th>0</th>\n",
              "      <th>1</th>\n",
              "      <th>2</th>\n",
              "      <th>3</th>\n",
              "      <th>4</th>\n",
              "      <th>5</th>\n",
              "      <th>6</th>\n",
              "      <th>7</th>\n",
              "      <th>8</th>\n",
              "      <th>9</th>\n",
              "      <th>10</th>\n",
              "      <th>11</th>\n",
              "      <th>12</th>\n",
              "      <th>13</th>\n",
              "    </tr>\n",
              "  </thead>\n",
              "  <tbody>\n",
              "    <tr>\n",
              "      <th>count</th>\n",
              "      <td>99939.000000</td>\n",
              "      <td>99939.000000</td>\n",
              "      <td>99939.000000</td>\n",
              "      <td>99939.000000</td>\n",
              "      <td>99939.000000</td>\n",
              "      <td>99939.000000</td>\n",
              "      <td>99939.000000</td>\n",
              "      <td>99939.000000</td>\n",
              "      <td>99939.000000</td>\n",
              "      <td>99939.000000</td>\n",
              "      <td>99939.000000</td>\n",
              "      <td>99939.000000</td>\n",
              "      <td>99939.000000</td>\n",
              "      <td>99939.000000</td>\n",
              "    </tr>\n",
              "    <tr>\n",
              "      <th>mean</th>\n",
              "      <td>0.017905</td>\n",
              "      <td>0.026568</td>\n",
              "      <td>0.005212</td>\n",
              "      <td>0.992807</td>\n",
              "      <td>0.002360</td>\n",
              "      <td>0.000282</td>\n",
              "      <td>0.001062</td>\n",
              "      <td>0.000626</td>\n",
              "      <td>0.003112</td>\n",
              "      <td>0.001376</td>\n",
              "      <td>0.000708</td>\n",
              "      <td>0.004074</td>\n",
              "      <td>0.000452</td>\n",
              "      <td>0.002260</td>\n",
              "    </tr>\n",
              "    <tr>\n",
              "      <th>std</th>\n",
              "      <td>0.053198</td>\n",
              "      <td>0.048337</td>\n",
              "      <td>0.036387</td>\n",
              "      <td>0.069396</td>\n",
              "      <td>0.008605</td>\n",
              "      <td>0.003212</td>\n",
              "      <td>0.009457</td>\n",
              "      <td>0.010991</td>\n",
              "      <td>0.009237</td>\n",
              "      <td>0.019805</td>\n",
              "      <td>0.012718</td>\n",
              "      <td>0.011783</td>\n",
              "      <td>0.005295</td>\n",
              "      <td>0.009574</td>\n",
              "    </tr>\n",
              "    <tr>\n",
              "      <th>min</th>\n",
              "      <td>0.000000</td>\n",
              "      <td>0.000000</td>\n",
              "      <td>0.000000</td>\n",
              "      <td>0.000000</td>\n",
              "      <td>0.000000</td>\n",
              "      <td>0.000000</td>\n",
              "      <td>0.000000</td>\n",
              "      <td>0.000000</td>\n",
              "      <td>0.000000</td>\n",
              "      <td>0.000000</td>\n",
              "      <td>0.000000</td>\n",
              "      <td>0.000000</td>\n",
              "      <td>0.000000</td>\n",
              "      <td>0.000000</td>\n",
              "    </tr>\n",
              "    <tr>\n",
              "      <th>25%</th>\n",
              "      <td>0.000000</td>\n",
              "      <td>0.015148</td>\n",
              "      <td>0.000000</td>\n",
              "      <td>0.999015</td>\n",
              "      <td>0.000000</td>\n",
              "      <td>0.000000</td>\n",
              "      <td>0.000000</td>\n",
              "      <td>0.000000</td>\n",
              "      <td>0.000000</td>\n",
              "      <td>0.000000</td>\n",
              "      <td>0.000000</td>\n",
              "      <td>0.000000</td>\n",
              "      <td>0.000000</td>\n",
              "      <td>0.000000</td>\n",
              "    </tr>\n",
              "    <tr>\n",
              "      <th>50%</th>\n",
              "      <td>0.012192</td>\n",
              "      <td>0.022721</td>\n",
              "      <td>0.000000</td>\n",
              "      <td>0.999434</td>\n",
              "      <td>0.000000</td>\n",
              "      <td>0.000000</td>\n",
              "      <td>0.000000</td>\n",
              "      <td>0.000000</td>\n",
              "      <td>0.000000</td>\n",
              "      <td>0.000000</td>\n",
              "      <td>0.000000</td>\n",
              "      <td>0.000000</td>\n",
              "      <td>0.000000</td>\n",
              "      <td>0.000000</td>\n",
              "    </tr>\n",
              "    <tr>\n",
              "      <th>75%</th>\n",
              "      <td>0.023803</td>\n",
              "      <td>0.031235</td>\n",
              "      <td>0.000000</td>\n",
              "      <td>0.999657</td>\n",
              "      <td>0.000000</td>\n",
              "      <td>0.000000</td>\n",
              "      <td>0.000000</td>\n",
              "      <td>0.000000</td>\n",
              "      <td>0.000000</td>\n",
              "      <td>0.000000</td>\n",
              "      <td>0.000000</td>\n",
              "      <td>0.000000</td>\n",
              "      <td>0.000000</td>\n",
              "      <td>0.000000</td>\n",
              "    </tr>\n",
              "    <tr>\n",
              "      <th>max</th>\n",
              "      <td>1.000000</td>\n",
              "      <td>1.000000</td>\n",
              "      <td>1.000000</td>\n",
              "      <td>1.000000</td>\n",
              "      <td>0.707107</td>\n",
              "      <td>0.707107</td>\n",
              "      <td>1.000000</td>\n",
              "      <td>1.000000</td>\n",
              "      <td>0.707107</td>\n",
              "      <td>1.000000</td>\n",
              "      <td>1.000000</td>\n",
              "      <td>0.707107</td>\n",
              "      <td>0.707107</td>\n",
              "      <td>0.707107</td>\n",
              "    </tr>\n",
              "  </tbody>\n",
              "</table>\n",
              "</div>"
            ],
            "text/plain": [
              "                 0             1   ...            12            13\n",
              "count  99939.000000  99939.000000  ...  99939.000000  99939.000000\n",
              "mean       0.017905      0.026568  ...      0.000452      0.002260\n",
              "std        0.053198      0.048337  ...      0.005295      0.009574\n",
              "min        0.000000      0.000000  ...      0.000000      0.000000\n",
              "25%        0.000000      0.015148  ...      0.000000      0.000000\n",
              "50%        0.012192      0.022721  ...      0.000000      0.000000\n",
              "75%        0.023803      0.031235  ...      0.000000      0.000000\n",
              "max        1.000000      1.000000  ...      0.707107      0.707107\n",
              "\n",
              "[8 rows x 14 columns]"
            ]
          },
          "metadata": {
            "tags": []
          },
          "execution_count": 156
        }
      ]
    },
    {
      "cell_type": "markdown",
      "metadata": {
        "id": "fLtfK0rvUPZx"
      },
      "source": [
        "**Logistic Regression with normalized datasets**"
      ]
    },
    {
      "cell_type": "code",
      "metadata": {
        "id": "utdznwMwUPZy",
        "colab": {
          "base_uri": "https://localhost:8080/"
        },
        "outputId": "62711fb2-fba9-4e3a-9173-01c5532b9ed9"
      },
      "source": [
        "# Fitting the training data and making the predictions on test data\n",
        "from sklearn.linear_model import LogisticRegression\n",
        "logit_model=LogisticRegression()\n",
        "logit_model.fit(X_train_norm,y_train)\n",
        "y_pred=logit_model.predict(X_test_norm)"
      ],
      "execution_count": null,
      "outputs": [
        {
          "output_type": "stream",
          "text": [
            "/usr/local/lib/python3.7/dist-packages/sklearn/linear_model/_logistic.py:940: ConvergenceWarning: lbfgs failed to converge (status=1):\n",
            "STOP: TOTAL NO. of ITERATIONS REACHED LIMIT.\n",
            "\n",
            "Increase the number of iterations (max_iter) or scale the data as shown in:\n",
            "    https://scikit-learn.org/stable/modules/preprocessing.html\n",
            "Please also refer to the documentation for alternative solver options:\n",
            "    https://scikit-learn.org/stable/modules/linear_model.html#logistic-regression\n",
            "  extra_warning_msg=_LOGISTIC_SOLVER_CONVERGENCE_MSG)\n"
          ],
          "name": "stderr"
        }
      ]
    },
    {
      "cell_type": "code",
      "metadata": {
        "id": "EFDbKcx1VTnP",
        "colab": {
          "base_uri": "https://localhost:8080/"
        },
        "outputId": "40075014-278b-4e16-cdf9-e50ef0fcab58"
      },
      "source": [
        "# Performance Evaluation:\n",
        "print(\"Accuracy is\", accuracy_score(y_test, y_pred))\n",
        "print(\"precision is\", precision_score(y_test,y_pred))\n",
        "print(\"Recall is\", recall_score(y_test,y_pred))\n",
        "print(\"f1 score is\" ,f1_score(y_test,y_pred))\n",
        "confusion_matrix(y_test,y_pred)"
      ],
      "execution_count": null,
      "outputs": [
        {
          "output_type": "stream",
          "text": [
            "Accuracy is 0.59687409319685\n",
            "precision is 0.61102585961921\n",
            "Recall is 0.24326281253535467\n",
            "f1 score is 0.34798511085936235\n"
          ],
          "name": "stdout"
        },
        {
          "output_type": "execute_result",
          "data": {
            "text/plain": [
              "array([[48900,  6844],\n",
              "       [33444, 10751]])"
            ]
          },
          "metadata": {
            "tags": []
          },
          "execution_count": 158
        }
      ]
    },
    {
      "cell_type": "markdown",
      "metadata": {
        "id": "J9o46Oa9HYLX"
      },
      "source": [
        "**B. Feature scaling**"
      ]
    },
    {
      "cell_type": "code",
      "metadata": {
        "id": "O7U86bwnHju3"
      },
      "source": [
        "# Feature scaling of training set and testing set seperately\n",
        "from sklearn.preprocessing import MinMaxScaler\n",
        "scaler=MinMaxScaler()\n",
        "X_train_msc=scaler.fit_transform(X_train)\n",
        "X_test_msc=scaler.fit_transform(X_test)"
      ],
      "execution_count": null,
      "outputs": []
    },
    {
      "cell_type": "code",
      "metadata": {
        "id": "jSg_QsnVIe5Y"
      },
      "source": [
        "X_train_msc=pd.DataFrame(X_train_msc)\n",
        "X_test_msc=pd.DataFrame(X_test_msc)"
      ],
      "execution_count": null,
      "outputs": []
    },
    {
      "cell_type": "markdown",
      "metadata": {
        "id": "RW9E6e2HQNsa"
      },
      "source": [
        "**Logistic Regression after feature scaling**"
      ]
    },
    {
      "cell_type": "code",
      "metadata": {
        "id": "luL99Y2qJEVb"
      },
      "source": [
        "# Fitting the training data and making the predictions on test data\n",
        "logit_model=LogisticRegression()\n",
        "logit_model.fit(X_train_msc,y_train)\n",
        "y_pred=logit_model.predict(X_test_msc)"
      ],
      "execution_count": null,
      "outputs": []
    },
    {
      "cell_type": "code",
      "metadata": {
        "colab": {
          "base_uri": "https://localhost:8080/"
        },
        "id": "SzuY_r1WJEVd",
        "outputId": "06f7f313-105f-4d2c-9391-3dd3c16f2dc5"
      },
      "source": [
        "# Performance Evaluation:\n",
        "print(\"Accuracy is\", accuracy_score(y_test, y_pred))\n",
        "print(\"precision is\", precision_score(y_test,y_pred))\n",
        "print(\"Recall is\", recall_score(y_test,y_pred))\n",
        "print(\"f1 score is\" ,f1_score(y_test,y_pred))\n",
        "confusion_matrix(y_test,y_pred)"
      ],
      "execution_count": null,
      "outputs": [
        {
          "output_type": "stream",
          "text": [
            "Accuracy is 0.6296540889942865\n",
            "precision is 0.64517563361494\n",
            "Recall is 0.3611494512953954\n",
            "f1 score is 0.4630806278469261\n"
          ],
          "name": "stdout"
        },
        {
          "output_type": "execute_result",
          "data": {
            "text/plain": [
              "array([[46966,  8778],\n",
              "       [28234, 15961]])"
            ]
          },
          "metadata": {
            "tags": []
          },
          "execution_count": 162
        }
      ]
    },
    {
      "cell_type": "markdown",
      "metadata": {
        "id": "BMNnm2OpPNBY"
      },
      "source": [
        "**C. Standardisation**"
      ]
    },
    {
      "cell_type": "code",
      "metadata": {
        "id": "L9Q9hBX_PQkt"
      },
      "source": [
        "# Standardization of  training set and testing set seperately\n",
        "from sklearn.preprocessing import StandardScaler\n",
        "scaler=StandardScaler()\n",
        "X_train_sc=scaler.fit_transform(X_train)\n",
        "X_test_sc=scaler.fit_transform(X_test)"
      ],
      "execution_count": null,
      "outputs": []
    },
    {
      "cell_type": "code",
      "metadata": {
        "id": "FsXJiJEfPQkv"
      },
      "source": [
        "X_train_sc=pd.DataFrame(X_train_sc)\n",
        "X_test_sc=pd.DataFrame(X_test_sc)"
      ],
      "execution_count": null,
      "outputs": []
    },
    {
      "cell_type": "markdown",
      "metadata": {
        "id": "dLY8pbj_QQC0"
      },
      "source": [
        "**Logistic Regression after Standardization**"
      ]
    },
    {
      "cell_type": "code",
      "metadata": {
        "id": "Mn6TEwgzPQkv"
      },
      "source": [
        "# Fitting the training data and making the predictions on test data\n",
        "logit_model=LogisticRegression()\n",
        "logit_model.fit(X_train_sc,y_train)\n",
        "y_pred=logit_model.predict(X_test_sc)"
      ],
      "execution_count": null,
      "outputs": []
    },
    {
      "cell_type": "code",
      "metadata": {
        "colab": {
          "base_uri": "https://localhost:8080/"
        },
        "id": "eXksGVCKPQkw",
        "outputId": "9dcc760d-a4fc-4271-b18d-a76aa5430636"
      },
      "source": [
        "# Performance Evaluation:\n",
        "print(\"Accuracy is\", accuracy_score(y_test, y_pred))\n",
        "print(\"precision is\", precision_score(y_test,y_pred))\n",
        "print(\"Recall is\", recall_score(y_test,y_pred))\n",
        "print(\"f1 score is\" ,f1_score(y_test,y_pred))\n",
        "confusion_matrix(y_test,y_pred)"
      ],
      "execution_count": null,
      "outputs": [
        {
          "output_type": "stream",
          "text": [
            "Accuracy is 0.6295640340607771\n",
            "precision is 0.6454110588616832\n",
            "Recall is 0.3602443715352415\n",
            "f1 score is 0.4623963521775118\n"
          ],
          "name": "stdout"
        },
        {
          "output_type": "execute_result",
          "data": {
            "text/plain": [
              "array([[46997,  8747],\n",
              "       [28274, 15921]])"
            ]
          },
          "metadata": {
            "tags": []
          },
          "execution_count": 166
        }
      ]
    },
    {
      "cell_type": "markdown",
      "metadata": {
        "id": "L6jmWS42JbxH"
      },
      "source": [
        "# **VII. Fine tuning of Hyperparameters**"
      ]
    },
    {
      "cell_type": "code",
      "metadata": {
        "id": "RZ0HvVW5JDcU"
      },
      "source": [
        "# Features sorted in descending order as per their importances in Rnadom Forest model\n",
        "col_hp=pd.Series(Random_forest.feature_importances_, index=X.columns).sort_values(ascending=False)*100"
      ],
      "execution_count": null,
      "outputs": []
    },
    {
      "cell_type": "code",
      "metadata": {
        "colab": {
          "base_uri": "https://localhost:8080/"
        },
        "id": "nK9UcM-tOosv",
        "outputId": "ea0f70b0-cd0b-49db-ca77-66c6475f1c42"
      },
      "source": [
        "col_hp"
      ],
      "execution_count": null,
      "outputs": [
        {
          "output_type": "execute_result",
          "data": {
            "text/plain": [
              "age               51.092370\n",
              "patient_type      14.522364\n",
              "pneumonia         12.901118\n",
              "diabetes           3.083132\n",
              "sex                2.919078\n",
              "obesity            2.848381\n",
              "hypertension       2.202176\n",
              "tobacco            1.741987\n",
              "other_disease      1.642871\n",
              "renal_chronic      1.522745\n",
              "cardiovascular     1.516965\n",
              "imnsupr            1.475547\n",
              "copd               1.410989\n",
              "asthma             1.120277\n",
              "dtype: float64"
            ]
          },
          "metadata": {
            "tags": []
          },
          "execution_count": 168
        }
      ]
    },
    {
      "cell_type": "code",
      "metadata": {
        "colab": {
          "base_uri": "https://localhost:8080/"
        },
        "id": "I34dLHOEOvEH",
        "outputId": "cda922a5-633e-40b7-ba2e-736b5a8fb45d"
      },
      "source": [
        "# Index of sorted features\n",
        "col_hp.index"
      ],
      "execution_count": null,
      "outputs": [
        {
          "output_type": "execute_result",
          "data": {
            "text/plain": [
              "Index(['age', 'patient_type', 'pneumonia', 'diabetes', 'sex', 'obesity',\n",
              "       'hypertension', 'tobacco', 'other_disease', 'renal_chronic',\n",
              "       'cardiovascular', 'imnsupr', 'copd', 'asthma'],\n",
              "      dtype='object')"
            ]
          },
          "metadata": {
            "tags": []
          },
          "execution_count": 169
        }
      ]
    },
    {
      "cell_type": "code",
      "metadata": {
        "id": "2Yvdu1FYO1qP"
      },
      "source": [
        "# droping least important features from training set\n",
        "X_hp_train=X_train.drop(['tobacco', 'other_disease', 'renal_chronic',\n",
        "       'imnsupr', 'cardiovascular', 'copd', 'asthma'], axis=1)"
      ],
      "execution_count": null,
      "outputs": []
    },
    {
      "cell_type": "code",
      "metadata": {
        "id": "hUxqWaubRn__"
      },
      "source": [
        "# droping least important features from testing set\n",
        "X_hp_test=X_test.drop(['tobacco', 'other_disease', 'renal_chronic',\n",
        "       'imnsupr', 'cardiovascular', 'copd', 'asthma'], axis=1)"
      ],
      "execution_count": null,
      "outputs": []
    },
    {
      "cell_type": "markdown",
      "metadata": {
        "id": "yWoAEV0jROBt"
      },
      "source": [
        "**Random Forest Model**"
      ]
    },
    {
      "cell_type": "code",
      "metadata": {
        "id": "TR13UcPHROBt"
      },
      "source": [
        "# Fitting the training data and making the predictions on test data\n",
        "Random_forest = RandomForestClassifier(n_estimators=200, max_depth=10,random_state=42)\n",
        "Random_forest.fit(X_hp_train,y_train)\n",
        "y_pred = Random_forest.predict(X_hp_test)"
      ],
      "execution_count": null,
      "outputs": []
    },
    {
      "cell_type": "code",
      "metadata": {
        "colab": {
          "base_uri": "https://localhost:8080/"
        },
        "id": "FIuMRUnWROBu",
        "outputId": "5aaa3af5-9424-4961-8a19-db26b8541874"
      },
      "source": [
        "# Performance Evaluation:\n",
        "print(\"Accuracy is\", accuracy_score(y_test, y_pred))\n",
        "print(\"precision is\", precision_score(y_test,y_pred))\n",
        "print(\"Recall is\", recall_score(y_test,y_pred))\n",
        "print(\"f1 score is\" ,f1_score(y_test,y_pred))\n",
        "confusion_matrix(y_test,y_pred)"
      ],
      "execution_count": null,
      "outputs": [
        {
          "output_type": "stream",
          "text": [
            "Accuracy is 0.6316252914277709\n",
            "precision is 0.6650268336314848\n",
            "Recall is 0.3364634008371988\n",
            "f1 score is 0.446848471189242\n"
          ],
          "name": "stdout"
        },
        {
          "output_type": "execute_result",
          "data": {
            "text/plain": [
              "array([[48254,  7490],\n",
              "       [29325, 14870]])"
            ]
          },
          "metadata": {
            "tags": []
          },
          "execution_count": 173
        }
      ]
    }
  ]
}